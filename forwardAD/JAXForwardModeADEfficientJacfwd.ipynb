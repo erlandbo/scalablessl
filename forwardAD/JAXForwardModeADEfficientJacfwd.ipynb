{
 "cells": [
  {
   "cell_type": "code",
   "execution_count": 2,
   "id": "initial_id",
   "metadata": {
    "collapsed": true,
    "ExecuteTime": {
     "end_time": "2023-09-15T21:44:47.888446284Z",
     "start_time": "2023-09-15T21:44:47.883045529Z"
    }
   },
   "outputs": [],
   "source": [
    "#import os\n",
    "\n",
    "#os.environ[\"XLA_PYTHON_CLIENT_PREALLOCATE\"]=\"false\"\n",
    "\n",
    "import jax\n",
    "import jax.numpy as jnp\n",
    "from jax import random, vmap\n",
    "from flax import linen as nn\n",
    "import optax"
   ]
  },
  {
   "cell_type": "markdown",
   "source": [
    "# Neural network"
   ],
   "metadata": {
    "collapsed": false
   },
   "id": "2d9ee70f437bfe2f"
  },
  {
   "cell_type": "code",
   "execution_count": 3,
   "outputs": [],
   "source": [
    "batch_size = 8\n",
    "input_dim = 768\n",
    "x = random.normal(key=random.PRNGKey(42), shape=(batch_size, input_dim))\n",
    "y = random.normal(key=random.PRNGKey(42), shape=(batch_size, 1))"
   ],
   "metadata": {
    "collapsed": false,
    "ExecuteTime": {
     "end_time": "2023-09-15T21:44:50.034983372Z",
     "start_time": "2023-09-15T21:44:49.735203895Z"
    }
   },
   "id": "8c51d83320f35dd0"
  },
  {
   "cell_type": "code",
   "execution_count": 4,
   "outputs": [
    {
     "name": "stdout",
     "output_type": "stream",
     "text": [
      "(8, 768) (8, 1)\n"
     ]
    }
   ],
   "source": [
    "print(x.shape, y.shape)"
   ],
   "metadata": {
    "collapsed": false,
    "ExecuteTime": {
     "end_time": "2023-09-15T21:44:52.337205123Z",
     "start_time": "2023-09-15T21:44:52.334592283Z"
    }
   },
   "id": "d2805f37acd5c533"
  },
  {
   "cell_type": "code",
   "execution_count": 5,
   "outputs": [],
   "source": [
    "class JaxNet(nn.Module):\n",
    "    def setup(self):\n",
    "        self.W1 = nn.Dense(features=64)\n",
    "        self.W2 = nn.Dense(features=1)\n",
    "    \n",
    "    def __call__(self, x):\n",
    "        x = self.W1(x)\n",
    "        x = nn.relu(x)\n",
    "        x = self.W2(x)\n",
    "        return x\n",
    "    \n",
    "def mse_loss(params, model, x, y):\n",
    "    pred = model.apply(params, x)\n",
    "    return (pred - y) ** 2\n"
   ],
   "metadata": {
    "collapsed": false,
    "ExecuteTime": {
     "end_time": "2023-09-15T21:44:54.409910021Z",
     "start_time": "2023-09-15T21:44:54.404632824Z"
    }
   },
   "id": "5e16f968025b772d"
  },
  {
   "cell_type": "code",
   "execution_count": 6,
   "outputs": [],
   "source": [
    "model = JaxNet()\n",
    "params = model.init(random.PRNGKey(42), x[0])\n",
    "\n",
    "optimizer = optax.adam(learning_rate=3e-4)\n",
    "opt_state = optimizer.init(params)"
   ],
   "metadata": {
    "collapsed": false,
    "ExecuteTime": {
     "end_time": "2023-09-15T21:44:57.101948635Z",
     "start_time": "2023-09-15T21:44:56.271265811Z"
    }
   },
   "id": "36b56ecc1b24f862"
  },
  {
   "cell_type": "markdown",
   "source": [
    "# Using Jacfwd on layers"
   ],
   "metadata": {
    "collapsed": false
   },
   "id": "c28b434edb21e192"
  },
  {
   "cell_type": "code",
   "execution_count": 29,
   "outputs": [
    {
     "data": {
      "text/plain": "{'params': {'W1': {'kernel': Array([[-0.00463279,  0.01600334,  0.05311706, ..., -0.06047693,\n            0.01630949, -0.04598638],\n          [ 0.00522775,  0.00520009,  0.05464223, ..., -0.07799789,\n            0.02453554, -0.00683571],\n          [-0.00268752,  0.02008145,  0.0627301 , ..., -0.01019854,\n           -0.01330569,  0.00713905],\n          ...,\n          [ 0.06569487,  0.02110667,  0.04668283, ...,  0.00330125,\n           -0.01525788,  0.0039668 ],\n          [ 0.06391574, -0.01504249, -0.01096328, ..., -0.02364219,\n           -0.06919332, -0.01007098],\n          [-0.01518737,  0.01303389,  0.05356703, ..., -0.04577949,\n            0.01352515,  0.07838021]], dtype=float32),\n   'bias': Array([0., 0., 0., 0., 0., 0., 0., 0., 0., 0., 0., 0., 0., 0., 0., 0., 0.,\n          0., 0., 0., 0., 0., 0., 0., 0., 0., 0., 0., 0., 0., 0., 0., 0., 0.,\n          0., 0., 0., 0., 0., 0., 0., 0., 0., 0., 0., 0., 0., 0., 0., 0., 0.,\n          0., 0., 0., 0., 0., 0., 0., 0., 0., 0., 0., 0., 0.], dtype=float32)},\n  'W2': {'kernel': Array([[ 0.14492986],\n          [-0.0206773 ],\n          [ 0.10334511],\n          [-0.13022856],\n          [-0.1428282 ],\n          [-0.03417179],\n          [ 0.07915234],\n          [ 0.21272424],\n          [ 0.16782324],\n          [-0.2684592 ],\n          [ 0.02172626],\n          [ 0.16499221],\n          [-0.10892995],\n          [ 0.11550474],\n          [-0.09288019],\n          [ 0.13888845],\n          [-0.00568887],\n          [ 0.03395302],\n          [-0.1725153 ],\n          [ 0.07899962],\n          [-0.23907295],\n          [-0.05696094],\n          [ 0.08516762],\n          [-0.09732204],\n          [ 0.02511794],\n          [-0.20325278],\n          [ 0.14081624],\n          [-0.02175321],\n          [-0.09221219],\n          [-0.13057347],\n          [-0.21850474],\n          [-0.10659464],\n          [-0.01488868],\n          [-0.03085962],\n          [-0.04238272],\n          [-0.05802122],\n          [ 0.16092597],\n          [ 0.01306439],\n          [ 0.04441937],\n          [-0.00432829],\n          [ 0.12213673],\n          [-0.0251547 ],\n          [-0.12845711],\n          [-0.05290161],\n          [-0.21283646],\n          [ 0.00668206],\n          [ 0.03831049],\n          [-0.16496746],\n          [ 0.16828585],\n          [-0.07501348],\n          [-0.0199069 ],\n          [-0.03356849],\n          [-0.13624297],\n          [-0.0332213 ],\n          [ 0.17824937],\n          [ 0.11509091],\n          [-0.00965341],\n          [ 0.00196829],\n          [ 0.04111296],\n          [ 0.06388687],\n          [-0.02939979],\n          [-0.09958757],\n          [-0.19617954],\n          [-0.0694634 ]], dtype=float32),\n   'bias': Array([0.], dtype=float32)}}}"
     },
     "execution_count": 29,
     "metadata": {},
     "output_type": "execute_result"
    }
   ],
   "source": [
    "params"
   ],
   "metadata": {
    "collapsed": false,
    "ExecuteTime": {
     "end_time": "2023-09-15T21:18:19.995422174Z",
     "start_time": "2023-09-15T21:18:19.992080651Z"
    }
   },
   "id": "8ff43f1713cef571"
  },
  {
   "cell_type": "code",
   "execution_count": 7,
   "outputs": [
    {
     "name": "stderr",
     "output_type": "stream",
     "text": [
      "2023-09-15 23:45:12.650807: W external/tsl/tsl/framework/bfc_allocator.cc:485] Allocator (GPU_0_bfc) ran out of memory trying to allocate 9.05GiB (rounded to 9714468096)requested by op \n",
      "2023-09-15 23:45:12.651123: W external/tsl/tsl/framework/bfc_allocator.cc:497] *********************************************************__________________________________________*\n",
      "2023-09-15 23:45:12.651241: E external/xla/xla/pjrt/pjrt_stream_executor_client.cc:2593] Execution of replica 0 failed: RESOURCE_EXHAUSTED: Out of memory while trying to allocate 9714467844 bytes.\n",
      "BufferAssignment OOM Debugging.\n",
      "BufferAssignment stats:\n",
      "             parameter allocation:    9.05GiB\n",
      "              constant allocation:         0B\n",
      "        maybe_live_out allocation:    9.05GiB\n",
      "     preallocated temp allocation:         0B\n",
      "                 total allocation:   18.09GiB\n",
      "              total fragmentation:         0B (0.00%)\n",
      "Peak buffers:\n",
      "\tBuffer 1:\n",
      "\t\tSize: 9.05GiB\n",
      "\t\tEntry Parameter Subshape: s32[49281,49281]\n",
      "\t\t==========================\n",
      "\n",
      "\tBuffer 2:\n",
      "\t\tSize: 9.05GiB\n",
      "\t\tOperator: op_name=\"jit(add)/jit(main)/add\" source_file=\"/tmp/ipykernel_35158/440665117.py\" source_line=3\n",
      "\t\tXLA Label: fusion\n",
      "\t\tShape: s32[49281,49281]\n",
      "\t\t==========================\n",
      "\n",
      "\tBuffer 3:\n",
      "\t\tSize: 4B\n",
      "\t\tEntry Parameter Subshape: s32[]\n",
      "\t\t==========================\n",
      "\n",
      "\n"
     ]
    },
    {
     "ename": "XlaRuntimeError",
     "evalue": "RESOURCE_EXHAUSTED: Out of memory while trying to allocate 9714467844 bytes.\nBufferAssignment OOM Debugging.\nBufferAssignment stats:\n             parameter allocation:    9.05GiB\n              constant allocation:         0B\n        maybe_live_out allocation:    9.05GiB\n     preallocated temp allocation:         0B\n                 total allocation:   18.09GiB\n              total fragmentation:         0B (0.00%)\nPeak buffers:\n\tBuffer 1:\n\t\tSize: 9.05GiB\n\t\tEntry Parameter Subshape: s32[49281,49281]\n\t\t==========================\n\n\tBuffer 2:\n\t\tSize: 9.05GiB\n\t\tOperator: op_name=\"jit(add)/jit(main)/add\" source_file=\"/tmp/ipykernel_35158/440665117.py\" source_line=3\n\t\tXLA Label: fusion\n\t\tShape: s32[49281,49281]\n\t\t==========================\n\n\tBuffer 3:\n\t\tSize: 4B\n\t\tEntry Parameter Subshape: s32[]\n\t\t==========================\n\n",
     "output_type": "error",
     "traceback": [
      "\u001B[0;31m---------------------------------------------------------------------------\u001B[0m",
      "\u001B[0;31mXlaRuntimeError\u001B[0m                           Traceback (most recent call last)",
      "Cell \u001B[0;32mIn[7], line 3\u001B[0m\n\u001B[1;32m      1\u001B[0m xi, yi \u001B[38;5;241m=\u001B[39m x[\u001B[38;5;241m0\u001B[39m], y[\u001B[38;5;241m0\u001B[39m]\n\u001B[0;32m----> 3\u001B[0m gradients \u001B[38;5;241m=\u001B[39m jax\u001B[38;5;241m.\u001B[39mjit(\u001B[43mjax\u001B[49m\u001B[38;5;241;43m.\u001B[39;49m\u001B[43mjacfwd\u001B[49m\u001B[43m(\u001B[49m\u001B[43mmse_loss\u001B[49m\u001B[43m,\u001B[49m\u001B[43m \u001B[49m\u001B[43margnums\u001B[49m\u001B[38;5;241;43m=\u001B[39;49m\u001B[38;5;241;43m0\u001B[39;49m\u001B[43m)\u001B[49m\u001B[43m(\u001B[49m\u001B[43mparams\u001B[49m\u001B[43m,\u001B[49m\u001B[43m \u001B[49m\u001B[43mmodel\u001B[49m\u001B[43m,\u001B[49m\u001B[43m \u001B[49m\u001B[43mxi\u001B[49m\u001B[43m,\u001B[49m\u001B[43m \u001B[49m\u001B[43myi\u001B[49m\u001B[43m)\u001B[49m)\n\u001B[1;32m      5\u001B[0m \u001B[38;5;66;03m#gradients = jax.tree_util.tree_map( lambda w: jax.jacfwd(mse_loss, argnums=1)(w, params, model, xi, yi), params )\u001B[39;00m\n",
      "File \u001B[0;32m~/anaconda3/envs/jax/lib/python3.11/site-packages/jax/_src/api.py:860\u001B[0m, in \u001B[0;36mjacfwd.<locals>.jacfun\u001B[0;34m(*args, **kwargs)\u001B[0m\n\u001B[1;32m    858\u001B[0m \u001B[38;5;28;01mif\u001B[39;00m \u001B[38;5;129;01mnot\u001B[39;00m has_aux:\n\u001B[1;32m    859\u001B[0m   pushfwd: Callable \u001B[38;5;241m=\u001B[39m partial(_jvp, f_partial, dyn_args)\n\u001B[0;32m--> 860\u001B[0m   y, jac \u001B[38;5;241m=\u001B[39m vmap(pushfwd, out_axes\u001B[38;5;241m=\u001B[39m(\u001B[38;5;28;01mNone\u001B[39;00m, \u001B[38;5;241m-\u001B[39m\u001B[38;5;241m1\u001B[39m))(\u001B[43m_std_basis\u001B[49m\u001B[43m(\u001B[49m\u001B[43mdyn_args\u001B[49m\u001B[43m)\u001B[49m)\n\u001B[1;32m    861\u001B[0m \u001B[38;5;28;01melse\u001B[39;00m:\n\u001B[1;32m    862\u001B[0m   pushfwd: Callable \u001B[38;5;241m=\u001B[39m partial(_jvp, f_partial, dyn_args, has_aux\u001B[38;5;241m=\u001B[39m\u001B[38;5;28;01mTrue\u001B[39;00m)\n",
      "File \u001B[0;32m~/anaconda3/envs/jax/lib/python3.11/site-packages/jax/_src/api.py:1040\u001B[0m, in \u001B[0;36m_std_basis\u001B[0;34m(pytree)\u001B[0m\n\u001B[1;32m   1038\u001B[0m ndim \u001B[38;5;241m=\u001B[39m \u001B[38;5;28msum\u001B[39m(\u001B[38;5;28mmap\u001B[39m(np\u001B[38;5;241m.\u001B[39msize, leaves))\n\u001B[1;32m   1039\u001B[0m dtype \u001B[38;5;241m=\u001B[39m dtypes\u001B[38;5;241m.\u001B[39mresult_type(\u001B[38;5;241m*\u001B[39mleaves)\n\u001B[0;32m-> 1040\u001B[0m flat_basis \u001B[38;5;241m=\u001B[39m \u001B[43mjnp\u001B[49m\u001B[38;5;241;43m.\u001B[39;49m\u001B[43meye\u001B[49m\u001B[43m(\u001B[49m\u001B[43mndim\u001B[49m\u001B[43m,\u001B[49m\u001B[43m \u001B[49m\u001B[43mdtype\u001B[49m\u001B[38;5;241;43m=\u001B[39;49m\u001B[43mdtype\u001B[49m\u001B[43m)\u001B[49m\n\u001B[1;32m   1041\u001B[0m \u001B[38;5;28;01mreturn\u001B[39;00m _unravel_array_into_pytree(pytree, \u001B[38;5;241m1\u001B[39m, \u001B[38;5;28;01mNone\u001B[39;00m, flat_basis)\n",
      "File \u001B[0;32m~/anaconda3/envs/jax/lib/python3.11/site-packages/jax/_src/numpy/lax_numpy.py:2291\u001B[0m, in \u001B[0;36meye\u001B[0;34m(N, M, k, dtype)\u001B[0m\n\u001B[1;32m   2289\u001B[0m   \u001B[38;5;28;01mraise\u001B[39;00m \u001B[38;5;167;01mValueError\u001B[39;00m(\u001B[38;5;124mf\u001B[39m\u001B[38;5;124m\"\u001B[39m\u001B[38;5;124mnegative dimensions are not allowed, got \u001B[39m\u001B[38;5;132;01m{\u001B[39;00mN\u001B[38;5;132;01m}\u001B[39;00m\u001B[38;5;124m and \u001B[39m\u001B[38;5;132;01m{\u001B[39;00mM\u001B[38;5;132;01m}\u001B[39;00m\u001B[38;5;124m\"\u001B[39m)\n\u001B[1;32m   2290\u001B[0m k \u001B[38;5;241m=\u001B[39m operator\u001B[38;5;241m.\u001B[39mindex(k)\n\u001B[0;32m-> 2291\u001B[0m \u001B[38;5;28;01mreturn\u001B[39;00m \u001B[43mlax_internal\u001B[49m\u001B[38;5;241;43m.\u001B[39;49m\u001B[43m_eye\u001B[49m\u001B[43m(\u001B[49m\u001B[43m_jnp_dtype\u001B[49m\u001B[43m(\u001B[49m\u001B[43mdtype\u001B[49m\u001B[43m)\u001B[49m\u001B[43m,\u001B[49m\u001B[43m \u001B[49m\u001B[43m(\u001B[49m\u001B[43mN_int\u001B[49m\u001B[43m,\u001B[49m\u001B[43m \u001B[49m\u001B[43mM_int\u001B[49m\u001B[43m)\u001B[49m\u001B[43m,\u001B[49m\u001B[43m \u001B[49m\u001B[43mk\u001B[49m\u001B[43m)\u001B[49m\n",
      "File \u001B[0;32m~/anaconda3/envs/jax/lib/python3.11/site-packages/jax/_src/lax/lax.py:1244\u001B[0m, in \u001B[0;36m_eye\u001B[0;34m(dtype, shape, offset)\u001B[0m\n\u001B[1;32m   1242\u001B[0m offset \u001B[38;5;241m=\u001B[39m \u001B[38;5;28mint\u001B[39m(offset)\n\u001B[1;32m   1243\u001B[0m dtype \u001B[38;5;241m=\u001B[39m dtypes\u001B[38;5;241m.\u001B[39mcanonicalize_dtype(dtype)\n\u001B[0;32m-> 1244\u001B[0m bool_eye \u001B[38;5;241m=\u001B[39m eq(\u001B[43madd\u001B[49m\u001B[43m(\u001B[49m\u001B[43mbroadcasted_iota\u001B[49m\u001B[43m(\u001B[49m\u001B[43mnp\u001B[49m\u001B[38;5;241;43m.\u001B[39;49m\u001B[43mint32\u001B[49m\u001B[43m,\u001B[49m\u001B[43m \u001B[49m\u001B[43mshape\u001B[49m\u001B[43m,\u001B[49m\u001B[43m \u001B[49m\u001B[38;5;241;43m0\u001B[39;49m\u001B[43m)\u001B[49m\u001B[43m,\u001B[49m\u001B[43m \u001B[49m\u001B[43mnp\u001B[49m\u001B[38;5;241;43m.\u001B[39;49m\u001B[43mint32\u001B[49m\u001B[43m(\u001B[49m\u001B[43moffset\u001B[49m\u001B[43m)\u001B[49m\u001B[43m)\u001B[49m,\n\u001B[1;32m   1245\u001B[0m               broadcasted_iota(np\u001B[38;5;241m.\u001B[39mint32, shape, \u001B[38;5;241m1\u001B[39m))\n\u001B[1;32m   1246\u001B[0m \u001B[38;5;28;01mreturn\u001B[39;00m convert_element_type_p\u001B[38;5;241m.\u001B[39mbind(bool_eye, new_dtype\u001B[38;5;241m=\u001B[39mdtype, weak_type\u001B[38;5;241m=\u001B[39m\u001B[38;5;28;01mFalse\u001B[39;00m)\n",
      "File \u001B[0;32m~/anaconda3/envs/jax/lib/python3.11/site-packages/jax/_src/lax/lax.py:414\u001B[0m, in \u001B[0;36madd\u001B[0;34m(x, y)\u001B[0m\n\u001B[1;32m    412\u001B[0m \u001B[38;5;28;01mdef\u001B[39;00m \u001B[38;5;21madd\u001B[39m(x: ArrayLike, y: ArrayLike) \u001B[38;5;241m-\u001B[39m\u001B[38;5;241m>\u001B[39m Array:\n\u001B[1;32m    413\u001B[0m \u001B[38;5;250m  \u001B[39m\u001B[38;5;124mr\u001B[39m\u001B[38;5;124;03m\"\"\"Elementwise addition: :math:`x + y`.\"\"\"\u001B[39;00m\n\u001B[0;32m--> 414\u001B[0m   \u001B[38;5;28;01mreturn\u001B[39;00m \u001B[43madd_p\u001B[49m\u001B[38;5;241;43m.\u001B[39;49m\u001B[43mbind\u001B[49m\u001B[43m(\u001B[49m\u001B[43mx\u001B[49m\u001B[43m,\u001B[49m\u001B[43m \u001B[49m\u001B[43my\u001B[49m\u001B[43m)\u001B[49m\n",
      "File \u001B[0;32m~/anaconda3/envs/jax/lib/python3.11/site-packages/jax/_src/core.py:386\u001B[0m, in \u001B[0;36mPrimitive.bind\u001B[0;34m(self, *args, **params)\u001B[0m\n\u001B[1;32m    383\u001B[0m \u001B[38;5;28;01mdef\u001B[39;00m \u001B[38;5;21mbind\u001B[39m(\u001B[38;5;28mself\u001B[39m, \u001B[38;5;241m*\u001B[39margs, \u001B[38;5;241m*\u001B[39m\u001B[38;5;241m*\u001B[39mparams):\n\u001B[1;32m    384\u001B[0m   \u001B[38;5;28;01massert\u001B[39;00m (\u001B[38;5;129;01mnot\u001B[39;00m config\u001B[38;5;241m.\u001B[39mjax_enable_checks \u001B[38;5;129;01mor\u001B[39;00m\n\u001B[1;32m    385\u001B[0m           \u001B[38;5;28mall\u001B[39m(\u001B[38;5;28misinstance\u001B[39m(arg, Tracer) \u001B[38;5;129;01mor\u001B[39;00m valid_jaxtype(arg) \u001B[38;5;28;01mfor\u001B[39;00m arg \u001B[38;5;129;01min\u001B[39;00m args)), args\n\u001B[0;32m--> 386\u001B[0m   \u001B[38;5;28;01mreturn\u001B[39;00m \u001B[38;5;28;43mself\u001B[39;49m\u001B[38;5;241;43m.\u001B[39;49m\u001B[43mbind_with_trace\u001B[49m\u001B[43m(\u001B[49m\u001B[43mfind_top_trace\u001B[49m\u001B[43m(\u001B[49m\u001B[43margs\u001B[49m\u001B[43m)\u001B[49m\u001B[43m,\u001B[49m\u001B[43m \u001B[49m\u001B[43margs\u001B[49m\u001B[43m,\u001B[49m\u001B[43m \u001B[49m\u001B[43mparams\u001B[49m\u001B[43m)\u001B[49m\n",
      "File \u001B[0;32m~/anaconda3/envs/jax/lib/python3.11/site-packages/jax/_src/core.py:389\u001B[0m, in \u001B[0;36mPrimitive.bind_with_trace\u001B[0;34m(self, trace, args, params)\u001B[0m\n\u001B[1;32m    388\u001B[0m \u001B[38;5;28;01mdef\u001B[39;00m \u001B[38;5;21mbind_with_trace\u001B[39m(\u001B[38;5;28mself\u001B[39m, trace, args, params):\n\u001B[0;32m--> 389\u001B[0m   out \u001B[38;5;241m=\u001B[39m \u001B[43mtrace\u001B[49m\u001B[38;5;241;43m.\u001B[39;49m\u001B[43mprocess_primitive\u001B[49m\u001B[43m(\u001B[49m\u001B[38;5;28;43mself\u001B[39;49m\u001B[43m,\u001B[49m\u001B[43m \u001B[49m\u001B[38;5;28;43mmap\u001B[39;49m\u001B[43m(\u001B[49m\u001B[43mtrace\u001B[49m\u001B[38;5;241;43m.\u001B[39;49m\u001B[43mfull_raise\u001B[49m\u001B[43m,\u001B[49m\u001B[43m \u001B[49m\u001B[43margs\u001B[49m\u001B[43m)\u001B[49m\u001B[43m,\u001B[49m\u001B[43m \u001B[49m\u001B[43mparams\u001B[49m\u001B[43m)\u001B[49m\n\u001B[1;32m    390\u001B[0m   \u001B[38;5;28;01mreturn\u001B[39;00m \u001B[38;5;28mmap\u001B[39m(full_lower, out) \u001B[38;5;28;01mif\u001B[39;00m \u001B[38;5;28mself\u001B[39m\u001B[38;5;241m.\u001B[39mmultiple_results \u001B[38;5;28;01melse\u001B[39;00m full_lower(out)\n",
      "File \u001B[0;32m~/anaconda3/envs/jax/lib/python3.11/site-packages/jax/_src/core.py:821\u001B[0m, in \u001B[0;36mEvalTrace.process_primitive\u001B[0;34m(self, primitive, tracers, params)\u001B[0m\n\u001B[1;32m    820\u001B[0m \u001B[38;5;28;01mdef\u001B[39;00m \u001B[38;5;21mprocess_primitive\u001B[39m(\u001B[38;5;28mself\u001B[39m, primitive, tracers, params):\n\u001B[0;32m--> 821\u001B[0m   \u001B[38;5;28;01mreturn\u001B[39;00m \u001B[43mprimitive\u001B[49m\u001B[38;5;241;43m.\u001B[39;49m\u001B[43mimpl\u001B[49m\u001B[43m(\u001B[49m\u001B[38;5;241;43m*\u001B[39;49m\u001B[43mtracers\u001B[49m\u001B[43m,\u001B[49m\u001B[43m \u001B[49m\u001B[38;5;241;43m*\u001B[39;49m\u001B[38;5;241;43m*\u001B[39;49m\u001B[43mparams\u001B[49m\u001B[43m)\u001B[49m\n",
      "File \u001B[0;32m~/anaconda3/envs/jax/lib/python3.11/site-packages/jax/_src/dispatch.py:143\u001B[0m, in \u001B[0;36mapply_primitive\u001B[0;34m(prim, *args, **params)\u001B[0m\n\u001B[1;32m    139\u001B[0m   msg \u001B[38;5;241m=\u001B[39m pjit\u001B[38;5;241m.\u001B[39m_device_assignment_mismatch_error(\n\u001B[1;32m    140\u001B[0m       prim\u001B[38;5;241m.\u001B[39mname, fails, args, \u001B[38;5;124m'\u001B[39m\u001B[38;5;124mjit\u001B[39m\u001B[38;5;124m'\u001B[39m, arg_names)\n\u001B[1;32m    141\u001B[0m   \u001B[38;5;28;01mraise\u001B[39;00m \u001B[38;5;167;01mValueError\u001B[39;00m(msg) \u001B[38;5;28;01mfrom\u001B[39;00m \u001B[38;5;28;01mNone\u001B[39;00m\n\u001B[0;32m--> 143\u001B[0m \u001B[38;5;28;01mreturn\u001B[39;00m \u001B[43mcompiled_fun\u001B[49m\u001B[43m(\u001B[49m\u001B[38;5;241;43m*\u001B[39;49m\u001B[43margs\u001B[49m\u001B[43m)\u001B[49m\n",
      "File \u001B[0;32m~/anaconda3/envs/jax/lib/python3.11/site-packages/jax/_src/dispatch.py:226\u001B[0m, in \u001B[0;36mxla_primitive_callable.<locals>.<lambda>\u001B[0;34m(*args, **kw)\u001B[0m\n\u001B[1;32m    222\u001B[0m compiled \u001B[38;5;241m=\u001B[39m _xla_callable_uncached(\n\u001B[1;32m    223\u001B[0m     lu\u001B[38;5;241m.\u001B[39mwrap_init(prim_fun), prim\u001B[38;5;241m.\u001B[39mname, donated_invars, \u001B[38;5;28;01mFalse\u001B[39;00m, in_avals,\n\u001B[1;32m    224\u001B[0m     orig_in_shardings)\n\u001B[1;32m    225\u001B[0m \u001B[38;5;28;01mif\u001B[39;00m \u001B[38;5;129;01mnot\u001B[39;00m prim\u001B[38;5;241m.\u001B[39mmultiple_results:\n\u001B[0;32m--> 226\u001B[0m   \u001B[38;5;28;01mreturn\u001B[39;00m \u001B[38;5;28;01mlambda\u001B[39;00m \u001B[38;5;241m*\u001B[39margs, \u001B[38;5;241m*\u001B[39m\u001B[38;5;241m*\u001B[39mkw: \u001B[43mcompiled\u001B[49m\u001B[43m(\u001B[49m\u001B[38;5;241;43m*\u001B[39;49m\u001B[43margs\u001B[49m\u001B[43m,\u001B[49m\u001B[43m \u001B[49m\u001B[38;5;241;43m*\u001B[39;49m\u001B[38;5;241;43m*\u001B[39;49m\u001B[43mkw\u001B[49m\u001B[43m)\u001B[49m[\u001B[38;5;241m0\u001B[39m]\n\u001B[1;32m    227\u001B[0m \u001B[38;5;28;01melse\u001B[39;00m:\n\u001B[1;32m    228\u001B[0m   \u001B[38;5;28;01mreturn\u001B[39;00m compiled\n",
      "File \u001B[0;32m~/anaconda3/envs/jax/lib/python3.11/site-packages/jax/_src/profiler.py:314\u001B[0m, in \u001B[0;36mannotate_function.<locals>.wrapper\u001B[0;34m(*args, **kwargs)\u001B[0m\n\u001B[1;32m    311\u001B[0m \u001B[38;5;129m@wraps\u001B[39m(func)\n\u001B[1;32m    312\u001B[0m \u001B[38;5;28;01mdef\u001B[39;00m \u001B[38;5;21mwrapper\u001B[39m(\u001B[38;5;241m*\u001B[39margs, \u001B[38;5;241m*\u001B[39m\u001B[38;5;241m*\u001B[39mkwargs):\n\u001B[1;32m    313\u001B[0m   \u001B[38;5;28;01mwith\u001B[39;00m TraceAnnotation(name, \u001B[38;5;241m*\u001B[39m\u001B[38;5;241m*\u001B[39mdecorator_kwargs):\n\u001B[0;32m--> 314\u001B[0m     \u001B[38;5;28;01mreturn\u001B[39;00m \u001B[43mfunc\u001B[49m\u001B[43m(\u001B[49m\u001B[38;5;241;43m*\u001B[39;49m\u001B[43margs\u001B[49m\u001B[43m,\u001B[49m\u001B[43m \u001B[49m\u001B[38;5;241;43m*\u001B[39;49m\u001B[38;5;241;43m*\u001B[39;49m\u001B[43mkwargs\u001B[49m\u001B[43m)\u001B[49m\n\u001B[1;32m    315\u001B[0m   \u001B[38;5;28;01mreturn\u001B[39;00m wrapper\n",
      "File \u001B[0;32m~/anaconda3/envs/jax/lib/python3.11/site-packages/jax/_src/interpreters/pxla.py:1229\u001B[0m, in \u001B[0;36mExecuteReplicated.__call__\u001B[0;34m(self, *args)\u001B[0m\n\u001B[1;32m   1224\u001B[0m   \u001B[38;5;28mself\u001B[39m\u001B[38;5;241m.\u001B[39m_handle_token_bufs(\n\u001B[1;32m   1225\u001B[0m       results\u001B[38;5;241m.\u001B[39mdisassemble_prefix_into_single_device_arrays(\n\u001B[1;32m   1226\u001B[0m           \u001B[38;5;28mlen\u001B[39m(\u001B[38;5;28mself\u001B[39m\u001B[38;5;241m.\u001B[39mordered_effects)),\n\u001B[1;32m   1227\u001B[0m       results\u001B[38;5;241m.\u001B[39mconsume_token())\n\u001B[1;32m   1228\u001B[0m \u001B[38;5;28;01melse\u001B[39;00m:\n\u001B[0;32m-> 1229\u001B[0m   results \u001B[38;5;241m=\u001B[39m \u001B[38;5;28;43mself\u001B[39;49m\u001B[38;5;241;43m.\u001B[39;49m\u001B[43mxla_executable\u001B[49m\u001B[38;5;241;43m.\u001B[39;49m\u001B[43mexecute_sharded\u001B[49m\u001B[43m(\u001B[49m\u001B[43minput_bufs\u001B[49m\u001B[43m)\u001B[49m\n\u001B[1;32m   1230\u001B[0m \u001B[38;5;28;01mif\u001B[39;00m dispatch\u001B[38;5;241m.\u001B[39mneeds_check_special():\n\u001B[1;32m   1231\u001B[0m   out_arrays \u001B[38;5;241m=\u001B[39m results\u001B[38;5;241m.\u001B[39mdisassemble_into_single_device_arrays()\n",
      "\u001B[0;31mXlaRuntimeError\u001B[0m: RESOURCE_EXHAUSTED: Out of memory while trying to allocate 9714467844 bytes.\nBufferAssignment OOM Debugging.\nBufferAssignment stats:\n             parameter allocation:    9.05GiB\n              constant allocation:         0B\n        maybe_live_out allocation:    9.05GiB\n     preallocated temp allocation:         0B\n                 total allocation:   18.09GiB\n              total fragmentation:         0B (0.00%)\nPeak buffers:\n\tBuffer 1:\n\t\tSize: 9.05GiB\n\t\tEntry Parameter Subshape: s32[49281,49281]\n\t\t==========================\n\n\tBuffer 2:\n\t\tSize: 9.05GiB\n\t\tOperator: op_name=\"jit(add)/jit(main)/add\" source_file=\"/tmp/ipykernel_35158/440665117.py\" source_line=3\n\t\tXLA Label: fusion\n\t\tShape: s32[49281,49281]\n\t\t==========================\n\n\tBuffer 3:\n\t\tSize: 4B\n\t\tEntry Parameter Subshape: s32[]\n\t\t==========================\n\n"
     ]
    }
   ],
   "source": [
    "xi, yi = x[0], y[0]\n",
    "\n",
    "gradients = jax.jit(jax.jacfwd(mse_loss, argnums=0)(params, model, xi, yi))\n",
    "\n",
    "#gradients = jax.tree_util.tree_map( lambda w: jax.jacfwd(mse_loss, argnums=1)(w, params, model, xi, yi), params )"
   ],
   "metadata": {
    "collapsed": false,
    "ExecuteTime": {
     "end_time": "2023-09-15T21:45:13.464302201Z",
     "start_time": "2023-09-15T21:45:02.403116059Z"
    }
   },
   "id": "64bd00871f8d9679"
  },
  {
   "cell_type": "code",
   "execution_count": 24,
   "outputs": [
    {
     "data": {
      "text/plain": "{'params': {'W1': {'bias': Array([[-0.6662318 , -0.        , -0.        , -0.        ,  0.36837235,\n           -0.        , -0.        , -0.2865735 , -0.        ,  0.9268758 ]],      dtype=float32),\n   'kernel': Array([[[-0.0382093 , -0.        , -0.        , -0.        ,\n             0.02112666, -0.        , -0.        , -0.01643538,\n            -0.        ,  0.0531576 ],\n           [-0.23542339, -0.        , -0.        , -0.        ,\n             0.1301701 , -0.        , -0.        , -0.10126521,\n            -0.        ,  0.327526  ],\n           [ 0.02539205, -0.        , -0.        , -0.        ,\n            -0.01403975, -0.        , -0.        ,  0.01092216,\n            -0.        , -0.03532596],\n           [-0.4762796 , -0.        , -0.        , -0.        ,\n             0.2633441 , -0.        , -0.        , -0.2048673 ,\n            -0.        ,  0.6626103 ],\n           [-0.31153318, -0.        , -0.        , -0.        ,\n             0.17225267, -0.        , -0.        , -0.13400315,\n            -0.        ,  0.43341157]]], dtype=float32)},\n  'W2': {'bias': Array([[-1.5934749]], dtype=float32),\n   'kernel': Array([[[-0.2509383],\n           [-0.       ],\n           [-0.       ],\n           [-0.       ],\n           [-0.6659882],\n           [-0.       ],\n           [-0.       ],\n           [-0.5119663],\n           [-0.       ],\n           [-0.9153068]]], dtype=float32)}}}"
     },
     "execution_count": 24,
     "metadata": {},
     "output_type": "execute_result"
    }
   ],
   "source": [
    "gradients"
   ],
   "metadata": {
    "collapsed": false,
    "ExecuteTime": {
     "end_time": "2023-09-15T21:17:00.756331457Z",
     "start_time": "2023-09-15T21:17:00.748498697Z"
    }
   },
   "id": "63a929d603b910c"
  },
  {
   "cell_type": "code",
   "execution_count": 25,
   "outputs": [
    {
     "data": {
      "text/plain": "{'params': {'W1': {'bias': Array([[-8.955847  , -0.        , -0.        , -0.02139482,  4.9518595 ,\n            7.8320136 , -6.778864  , -3.852275  , -0.        , 12.459564  ]],      dtype=float32),\n   'kernel': Array([[[-8.9558468e+00, -0.0000000e+00, -0.0000000e+00, -2.1394815e-02,\n             4.9518595e+00,  7.8320136e+00, -6.7788639e+00, -3.8522749e+00,\n            -0.0000000e+00,  1.2459564e+01],\n           [-4.4779234e+00, -0.0000000e+00, -0.0000000e+00, -1.0697408e-02,\n             2.4759297e+00,  3.9160068e+00, -3.3894320e+00, -1.9261374e+00,\n            -0.0000000e+00,  6.2297821e+00],\n           [-1.3433770e+01, -0.0000000e+00, -0.0000000e+00, -3.2092221e-02,\n             7.4277892e+00,  1.1748021e+01, -1.0168296e+01, -5.7784123e+00,\n            -0.0000000e+00,  1.8689344e+01],\n           [-1.7911694e+01, -0.0000000e+00, -0.0000000e+00, -4.2789631e-02,\n             9.9037189e+00,  1.5664027e+01, -1.3557728e+01, -7.7045498e+00,\n            -0.0000000e+00,  2.4919128e+01],\n           [-8.9558468e+00, -0.0000000e+00, -0.0000000e+00, -2.1394815e-02,\n             4.9518595e+00,  7.8320136e+00, -6.7788639e+00, -3.8522749e+00,\n            -0.0000000e+00,  1.2459564e+01]]], dtype=float32)},\n  'W2': {'bias': Array([[-21.42035]], dtype=float32),\n   'kernel': Array([[[ -8.798854 ],\n           [ -0.       ],\n           [ -0.       ],\n           [ -3.4016824],\n           [-32.91514  ],\n           [ -3.2510471],\n           [ -6.9270954],\n           [ -8.670431 ],\n           [ -0.       ],\n           [-23.807371 ]]], dtype=float32)}}}"
     },
     "execution_count": 25,
     "metadata": {},
     "output_type": "execute_result"
    }
   ],
   "source": [
    "loss_jacobian = jax.jacfwd(mse_loss, argnums=0)(params, model, evaluation_point, evaluation_target)\n",
    "loss_jacobian"
   ],
   "metadata": {
    "collapsed": false,
    "ExecuteTime": {
     "end_time": "2023-09-15T18:32:46.379736911Z",
     "start_time": "2023-09-15T18:32:46.140634377Z"
    }
   },
   "id": "5976227f439c667c"
  },
  {
   "cell_type": "code",
   "execution_count": 26,
   "outputs": [
    {
     "data": {
      "text/plain": "(1, 5, 10)"
     },
     "execution_count": 26,
     "metadata": {},
     "output_type": "execute_result"
    }
   ],
   "source": [
    "loss_jacobian[\"params\"][\"W1\"][\"kernel\"].shape"
   ],
   "metadata": {
    "collapsed": false,
    "ExecuteTime": {
     "end_time": "2023-09-15T18:32:46.424633368Z",
     "start_time": "2023-09-15T18:32:46.380143217Z"
    }
   },
   "id": "ddb367b81fd3b480"
  },
  {
   "cell_type": "code",
   "execution_count": 27,
   "outputs": [
    {
     "data": {
      "text/plain": "{'params': {'W1': {'bias': Array(0.56350565, dtype=float32),\n   'kernel': Array([-10.747017  ,   0.        ,   0.        ,  -0.02567378,\n            5.942231  ,   9.3984165 ,  -8.134636  ,  -4.6227303 ,\n            0.        ,  14.951477  ], dtype=float32)},\n  'W2': {'bias': Array(-21.42035, dtype=float32),\n   'kernel': Array([-8.777163], dtype=float32)}}}"
     },
     "execution_count": 27,
     "metadata": {},
     "output_type": "execute_result"
    }
   ],
   "source": [
    "gradients = jax.tree_map(lambda x: jnp.mean(x, axis=(0,1)), loss_jacobian)\n",
    "gradients"
   ],
   "metadata": {
    "collapsed": false,
    "ExecuteTime": {
     "end_time": "2023-09-15T18:32:46.468545376Z",
     "start_time": "2023-09-15T18:32:46.424370057Z"
    }
   },
   "id": "c654949ff8c7615b"
  },
  {
   "cell_type": "code",
   "execution_count": 28,
   "outputs": [
    {
     "data": {
      "text/plain": "(10,)"
     },
     "execution_count": 28,
     "metadata": {},
     "output_type": "execute_result"
    }
   ],
   "source": [
    "gradients[\"params\"][\"W1\"][\"kernel\"].shape"
   ],
   "metadata": {
    "collapsed": false,
    "ExecuteTime": {
     "end_time": "2023-09-15T18:32:46.468716616Z",
     "start_time": "2023-09-15T18:32:46.468316064Z"
    }
   },
   "id": "31bf86a686afb950"
  },
  {
   "cell_type": "code",
   "execution_count": 29,
   "outputs": [
    {
     "data": {
      "text/plain": "{'params': {'W1': {'bias': Array([[[-0.66623163, -0.        , -0.        , -0.        ,\n             0.36837226, -0.        , -0.        , -0.28657338,\n            -0.        ,  0.9268756 ]],\n   \n          [[-0.        , -0.05249475, -0.        , -0.        ,\n             0.02165244, -0.        , -0.02964118, -0.01684441,\n             0.00816008, -0.        ]],\n   \n          [[ 0.        ,  0.        ,  0.        ,  0.        ,\n            -0.26315907,  0.        ,  0.36025247,  0.20472331,\n            -0.09917583,  0.        ]],\n   \n          [[ 0.        ,  0.        ,  0.        ,  0.        ,\n             0.        , -0.46606568,  0.        ,  0.2292403 ,\n             0.        ,  0.        ]],\n   \n          [[-0.        , -0.        , -0.        , -0.        ,\n            -0.        ,  0.47976726, -0.        , -0.23597959,\n            -0.        , -0.        ]],\n   \n          [[ 0.        ,  0.        ,  0.        ,  0.        ,\n             0.        , -0.24109204,  0.        ,  0.11858416,\n             0.        ,  0.        ]],\n   \n          [[ 1.085819  ,  0.        , -0.5009352 ,  0.        ,\n             0.        , -0.949564  ,  0.        ,  0.        ,\n             0.        , -1.5106145 ]],\n   \n          [[ 2.2072802 ,  0.        , -1.0183136 ,  0.00527302,\n             0.        , -1.9302974 ,  0.        ,  0.        ,\n             0.        , -3.0708148 ]]], dtype=float32),\n   'kernel': Array([[[[-3.82092968e-02, -0.00000000e+00, -0.00000000e+00,\n             -0.00000000e+00,  2.11266540e-02, -0.00000000e+00,\n             -0.00000000e+00, -1.64353754e-02, -0.00000000e+00,\n              5.31575829e-02],\n            [-2.35423326e-01, -0.00000000e+00, -0.00000000e+00,\n             -0.00000000e+00,  1.30170077e-01, -0.00000000e+00,\n             -0.00000000e+00, -1.01265177e-01, -0.00000000e+00,\n              3.27525944e-01],\n            [ 2.53920425e-02, -0.00000000e+00, -0.00000000e+00,\n             -0.00000000e+00, -1.40397483e-02, -0.00000000e+00,\n             -0.00000000e+00,  1.09221525e-02, -0.00000000e+00,\n             -3.53259481e-02],\n            [-4.76279467e-01, -0.00000000e+00, -0.00000000e+00,\n             -0.00000000e+00,  2.63344079e-01, -0.00000000e+00,\n             -0.00000000e+00, -2.04867229e-01, -0.00000000e+00,\n              6.62610114e-01],\n            [-3.11533093e-01, -0.00000000e+00, -0.00000000e+00,\n             -0.00000000e+00,  1.72252625e-01, -0.00000000e+00,\n             -0.00000000e+00, -1.34003103e-01, -0.00000000e+00,\n              4.33411449e-01]]],\n   \n   \n          [[[-0.00000000e+00,  7.21703330e-03, -0.00000000e+00,\n             -0.00000000e+00, -2.97680008e-03, -0.00000000e+00,\n              4.07510018e-03,  2.31578690e-03, -1.12185616e-03,\n             -0.00000000e+00],\n            [-0.00000000e+00, -3.64475772e-02, -0.00000000e+00,\n             -0.00000000e+00,  1.50334835e-02, -0.00000000e+00,\n             -2.05801353e-02, -1.16952248e-02,  5.66561567e-03,\n             -0.00000000e+00],\n            [-0.00000000e+00, -3.72017659e-02, -0.00000000e+00,\n             -0.00000000e+00,  1.53445629e-02, -0.00000000e+00,\n             -2.10059900e-02, -1.19372280e-02,  5.78285148e-03,\n             -0.00000000e+00],\n            [-0.00000000e+00,  2.38137767e-02, -0.00000000e+00,\n             -0.00000000e+00, -9.82243754e-03, -0.00000000e+00,\n              1.34464568e-02,  7.64131686e-03, -3.70174716e-03,\n             -0.00000000e+00],\n            [-0.00000000e+00, -1.09115094e-02, -0.00000000e+00,\n             -0.00000000e+00,  4.50065592e-03, -0.00000000e+00,\n             -6.16118731e-03, -3.50126321e-03,  1.69614633e-03,\n             -0.00000000e+00]]],\n   \n   \n          [[[ 0.00000000e+00,  0.00000000e+00,  0.00000000e+00,\n              0.00000000e+00, -3.09316278e-01,  0.00000000e+00,\n              4.23439443e-01,  2.40631044e-01, -1.16570920e-01,\n              0.00000000e+00],\n            [ 0.00000000e+00,  0.00000000e+00,  0.00000000e+00,\n              0.00000000e+00, -3.99972014e-02,  0.00000000e+00,\n              5.47542945e-02,  3.11156251e-02, -1.50736030e-02,\n              0.00000000e+00],\n            [ 0.00000000e+00,  0.00000000e+00,  0.00000000e+00,\n              0.00000000e+00, -4.85495418e-01,  0.00000000e+00,\n              6.64620459e-01,  3.77688766e-01, -1.82966933e-01,\n              0.00000000e+00],\n            [ 0.00000000e+00,  0.00000000e+00,  0.00000000e+00,\n              0.00000000e+00,  4.58764704e-03,  0.00000000e+00,\n             -6.28027413e-03, -3.56893754e-03,  1.72893028e-03,\n              0.00000000e+00],\n            [ 0.00000000e+00,  0.00000000e+00,  0.00000000e+00,\n              0.00000000e+00, -1.56318277e-01,  0.00000000e+00,\n              2.13992417e-01,  1.21607035e-01, -5.89111149e-02,\n              0.00000000e+00]]],\n   \n   \n          [[[ 0.00000000e+00,  0.00000000e+00,  0.00000000e+00,\n              0.00000000e+00,  0.00000000e+00, -8.14635873e-01,\n              0.00000000e+00,  4.00688976e-01,  0.00000000e+00,\n              0.00000000e+00],\n            [ 0.00000000e+00,  0.00000000e+00,  0.00000000e+00,\n              0.00000000e+00,  0.00000000e+00, -6.55007213e-02,\n              0.00000000e+00,  3.22173573e-02,  0.00000000e+00,\n              0.00000000e+00],\n            [ 0.00000000e+00,  0.00000000e+00,  0.00000000e+00,\n              0.00000000e+00,  0.00000000e+00,  7.68351972e-01,\n              0.00000000e+00, -3.77923638e-01,  0.00000000e+00,\n              0.00000000e+00],\n            [ 0.00000000e+00,  0.00000000e+00,  0.00000000e+00,\n              0.00000000e+00,  0.00000000e+00,  1.86322574e-02,\n              0.00000000e+00, -9.16451123e-03,  0.00000000e+00,\n              0.00000000e+00],\n            [ 0.00000000e+00,  0.00000000e+00,  0.00000000e+00,\n              0.00000000e+00,  0.00000000e+00, -3.90176803e-01,\n              0.00000000e+00,  1.91913381e-01,  0.00000000e+00,\n              0.00000000e+00]]],\n   \n   \n          [[[-0.00000000e+00, -0.00000000e+00, -0.00000000e+00,\n             -0.00000000e+00, -0.00000000e+00,  5.73332071e-01,\n             -0.00000000e+00, -2.82000631e-01, -0.00000000e+00,\n             -0.00000000e+00],\n            [-0.00000000e+00, -0.00000000e+00, -0.00000000e+00,\n             -0.00000000e+00, -0.00000000e+00,  9.64466259e-02,\n             -0.00000000e+00, -4.74384911e-02, -0.00000000e+00,\n             -0.00000000e+00],\n            [-0.00000000e+00, -0.00000000e+00, -0.00000000e+00,\n             -0.00000000e+00, -0.00000000e+00, -9.30342317e-01,\n             -0.00000000e+00,  4.57600594e-01, -0.00000000e+00,\n             -0.00000000e+00],\n            [-0.00000000e+00, -0.00000000e+00, -0.00000000e+00,\n             -0.00000000e+00, -0.00000000e+00, -5.44074416e-01,\n             -0.00000000e+00,  2.67609864e-01, -0.00000000e+00,\n             -0.00000000e+00],\n            [-0.00000000e+00, -0.00000000e+00, -0.00000000e+00,\n             -0.00000000e+00, -0.00000000e+00,  6.50511384e-01,\n             -0.00000000e+00, -3.19962263e-01, -0.00000000e+00,\n             -0.00000000e+00]]],\n   \n   \n          [[[ 0.00000000e+00,  0.00000000e+00,  0.00000000e+00,\n              0.00000000e+00,  0.00000000e+00, -5.56434274e-01,\n              0.00000000e+00,  2.73689210e-01,  0.00000000e+00,\n              0.00000000e+00],\n            [ 0.00000000e+00,  0.00000000e+00,  0.00000000e+00,\n              0.00000000e+00,  0.00000000e+00, -1.38997696e-02,\n              0.00000000e+00,  6.83677755e-03,  0.00000000e+00,\n              0.00000000e+00],\n            [ 0.00000000e+00,  0.00000000e+00,  0.00000000e+00,\n              0.00000000e+00,  0.00000000e+00, -2.48196609e-02,\n              0.00000000e+00,  1.22078629e-02,  0.00000000e+00,\n              0.00000000e+00],\n            [ 0.00000000e+00,  0.00000000e+00,  0.00000000e+00,\n              0.00000000e+00,  0.00000000e+00, -3.36597204e-01,\n              0.00000000e+00,  1.65559590e-01,  0.00000000e+00,\n              0.00000000e+00],\n            [ 0.00000000e+00,  0.00000000e+00,  0.00000000e+00,\n              0.00000000e+00,  0.00000000e+00,  9.64328125e-02,\n              0.00000000e+00, -4.74316962e-02,  0.00000000e+00,\n              0.00000000e+00]]],\n   \n   \n          [[[ 1.43452835e+00,  0.00000000e+00, -6.61809862e-01,\n              0.00000000e+00,  0.00000000e+00, -1.25451517e+00,\n              0.00000000e+00,  0.00000000e+00,  0.00000000e+00,\n             -1.99574637e+00],\n            [-1.69453192e+00,  0.00000000e+00,  7.81760812e-01,\n              0.00000000e+00,  0.00000000e+00,  1.48189199e+00,\n              0.00000000e+00,  0.00000000e+00,  0.00000000e+00,\n              2.35746884e+00],\n            [-1.71033370e+00,  0.00000000e+00,  7.89050817e-01,\n              0.00000000e+00,  0.00000000e+00,  1.49571085e+00,\n              0.00000000e+00,  0.00000000e+00,  0.00000000e+00,\n              2.37945247e+00],\n            [ 1.71295896e-01,  0.00000000e+00, -7.90261924e-02,\n              0.00000000e+00,  0.00000000e+00, -1.49800658e-01,\n              0.00000000e+00,  0.00000000e+00,  0.00000000e+00,\n             -2.38310486e-01],\n            [ 7.67298698e-01,  0.00000000e+00, -3.53988022e-01,\n              0.00000000e+00,  0.00000000e+00, -6.71013474e-01,\n              0.00000000e+00,  0.00000000e+00,  0.00000000e+00,\n             -1.06748223e+00]]],\n   \n   \n          [[[ 1.20509279e+00,  0.00000000e+00, -5.55961370e-01,\n              2.87887221e-03,  0.00000000e+00, -1.05387056e+00,\n              0.00000000e+00,  0.00000000e+00,  0.00000000e+00,\n             -1.67655075e+00],\n            [-7.04773903e-01,  0.00000000e+00,  3.25142652e-01,\n             -1.68364972e-03,  0.00000000e+00,  6.16334677e-01,\n              0.00000000e+00,  0.00000000e+00,  0.00000000e+00,\n              9.80496466e-01],\n            [-6.56461418e-01,  0.00000000e+00,  3.02854002e-01,\n             -1.56823487e-03,  0.00000000e+00,  5.74084699e-01,\n              0.00000000e+00,  0.00000000e+00,  0.00000000e+00,\n              9.13283050e-01],\n            [ 2.45545125e+00,  0.00000000e+00, -1.13280559e+00,\n              5.86587982e-03,  0.00000000e+00, -2.14732647e+00,\n              0.00000000e+00,  0.00000000e+00,  0.00000000e+00,\n             -3.41607571e+00],\n            [-9.61205482e-01,  0.00000000e+00,  4.43445623e-01,\n             -2.29624449e-03,  0.00000000e+00,  8.40587735e-01,\n              0.00000000e+00,  0.00000000e+00,  0.00000000e+00,\n              1.33724952e+00]]]], dtype=float32)},\n  'W2': {'bias': Array([[[-1.5934746 ]],\n   \n          [[-0.09366235]],\n   \n          [[ 1.138352  ]],\n   \n          [[ 1.2746773 ]],\n   \n          [[-1.3121507 ]],\n   \n          [[ 0.6593803 ]],\n   \n          [[ 2.5970323 ]],\n   \n          [[ 5.279312  ]]], dtype=float32),\n   'kernel': Array([[[[-0.2509383 ],\n            [-0.        ],\n            [-0.        ],\n            [-0.        ],\n            [-0.665988  ],\n            [-0.        ],\n            [-0.        ],\n            [-0.5119662 ],\n            [-0.        ],\n            [-0.91530657]]],\n   \n   \n          [[[-0.        ],\n            [-0.01739415],\n            [-0.        ],\n            [-0.        ],\n            [-0.04915463],\n            [-0.        ],\n            [-0.06137549],\n            [-0.03674277],\n            [-0.05941175],\n            [-0.        ]]],\n   \n   \n          [[[ 0.        ],\n            [ 0.        ],\n            [ 0.        ],\n            [ 0.        ],\n            [ 1.326366  ],\n            [ 0.        ],\n            [ 0.893841  ],\n            [ 0.00962525],\n            [ 0.50789064],\n            [ 0.        ]]],\n   \n   \n          [[[ 0.        ],\n            [ 0.        ],\n            [ 0.        ],\n            [ 0.        ],\n            [ 0.        ],\n            [ 0.68259406],\n            [ 0.        ],\n            [ 0.92519796],\n            [ 0.        ],\n            [ 0.        ]]],\n   \n   \n          [[[-0.        ],\n            [-0.        ],\n            [-0.        ],\n            [-0.        ],\n            [-0.        ],\n            [-0.17841093],\n            [-0.        ],\n            [-0.7980003 ],\n            [-0.        ],\n            [-0.        ]]],\n   \n   \n          [[[ 0.        ],\n            [ 0.        ],\n            [ 0.        ],\n            [ 0.        ],\n            [ 0.        ],\n            [ 0.63852185],\n            [ 0.        ],\n            [ 0.42259014],\n            [ 0.        ],\n            [ 0.        ]]],\n   \n   \n          [[[ 0.34196424],\n            [ 0.        ],\n            [ 2.9523895 ],\n            [ 0.        ],\n            [ 0.        ],\n            [ 1.3683088 ],\n            [ 0.        ],\n            [ 0.        ],\n            [ 0.        ],\n            [ 0.405386  ]]],\n   \n   \n          [[[ 1.972405  ],\n            [ 0.        ],\n            [ 1.5463722 ],\n            [ 1.5818566 ],\n            [ 0.        ],\n            [ 2.4465613 ],\n            [ 0.        ],\n            [ 0.        ],\n            [ 0.        ],\n            [ 0.1522417 ]]]], dtype=float32)}}}"
     },
     "execution_count": 29,
     "metadata": {},
     "output_type": "execute_result"
    }
   ],
   "source": [
    "loss_jacobian = vmap(jax.jacfwd(mse_loss, argnums=0), in_axes=(None, None, 0, 0), out_axes=0)(params, model, x, y)\n",
    "loss_jacobian"
   ],
   "metadata": {
    "collapsed": false,
    "ExecuteTime": {
     "end_time": "2023-09-15T18:32:46.690868286Z",
     "start_time": "2023-09-15T18:32:46.468402967Z"
    }
   },
   "id": "b1a34132fbdc4d19"
  },
  {
   "cell_type": "code",
   "execution_count": 30,
   "outputs": [
    {
     "data": {
      "text/plain": "Array([0.1828678], dtype=float32)"
     },
     "execution_count": 30,
     "metadata": {},
     "output_type": "execute_result"
    }
   ],
   "source": [
    "loss_jacobian[\"params\"][\"W2\"][\"kernel\"].mean((0,1,2))"
   ],
   "metadata": {
    "collapsed": false,
    "ExecuteTime": {
     "end_time": "2023-09-15T18:32:46.704971029Z",
     "start_time": "2023-09-15T18:32:46.693732522Z"
    }
   },
   "id": "b530bb914bfff6de"
  },
  {
   "cell_type": "code",
   "execution_count": 31,
   "outputs": [
    {
     "data": {
      "text/plain": "{'params': {'W1': {'bias': Array(-5.321797, dtype=float32),\n   'kernel': Array([-0.7296927 , -0.05353004, -0.1413371 ,  0.00319662, -0.3916064 ,\n          -1.7406904 ,  1.3203006 ,  1.0290506 , -0.36347264,  1.0151641 ],      dtype=float32)},\n  'W2': {'bias': Array(7.949466, dtype=float32),\n   'kernel': Array([14.629423], dtype=float32)}}}"
     },
     "execution_count": 31,
     "metadata": {},
     "output_type": "execute_result"
    }
   ],
   "source": [
    "gradients = jax.tree_map(lambda x: jnp.sum(x, axis=(0, 1,2)), loss_jacobian)\n",
    "gradients"
   ],
   "metadata": {
    "collapsed": false,
    "ExecuteTime": {
     "end_time": "2023-09-15T18:32:46.746824819Z",
     "start_time": "2023-09-15T18:32:46.707567121Z"
    }
   },
   "id": "f07686d30cedbf20"
  },
  {
   "cell_type": "code",
   "execution_count": 32,
   "outputs": [],
   "source": [
    "updates, opt_state = optimizer.update(loss_jacobian, opt_state)"
   ],
   "metadata": {
    "collapsed": false,
    "ExecuteTime": {
     "end_time": "2023-09-15T18:32:47.043399174Z",
     "start_time": "2023-09-15T18:32:46.748685707Z"
    }
   },
   "id": "fec2cbcc663c272b"
  },
  {
   "cell_type": "code",
   "execution_count": 33,
   "outputs": [
    {
     "data": {
      "text/plain": "{'params': {'W1': {'bias': Array([[[ 0.0003,  0.    ,  0.    ,  0.    , -0.0003,  0.    ,  0.    ,\n             0.0003,  0.    , -0.0003]],\n   \n          [[ 0.    ,  0.0003,  0.    ,  0.    , -0.0003,  0.    ,  0.0003,\n             0.0003, -0.0003,  0.    ]],\n   \n          [[ 0.    ,  0.    ,  0.    ,  0.    ,  0.0003,  0.    , -0.0003,\n            -0.0003,  0.0003,  0.    ]],\n   \n          [[ 0.    ,  0.    ,  0.    ,  0.    ,  0.    ,  0.0003,  0.    ,\n            -0.0003,  0.    ,  0.    ]],\n   \n          [[ 0.    ,  0.    ,  0.    ,  0.    ,  0.    , -0.0003,  0.    ,\n             0.0003,  0.    ,  0.    ]],\n   \n          [[ 0.    ,  0.    ,  0.    ,  0.    ,  0.    ,  0.0003,  0.    ,\n            -0.0003,  0.    ,  0.    ]],\n   \n          [[-0.0003,  0.    ,  0.0003,  0.    ,  0.    ,  0.0003,  0.    ,\n             0.    ,  0.    ,  0.0003]],\n   \n          [[-0.0003,  0.    ,  0.0003, -0.0003,  0.    ,  0.0003,  0.    ,\n             0.    ,  0.    ,  0.0003]]], dtype=float32),\n   'kernel': Array([[[[-0.3387521 , -0.38618836, -0.373043  , -0.6750955 ,\n             -0.04973017,  0.30605486, -0.08309072,  0.21818858,\n             -0.7418177 , -0.3760505 ],\n            [-0.36957735, -0.1525535 , -0.9605439 , -0.5751731 ,\n              0.16028638, -0.04420065,  0.35853097,  0.8495273 ,\n             -0.04865616, -0.07045149],\n            [ 0.05014068, -0.0668437 , -0.2220952 ,  0.29612228,\n              0.43330592, -0.11999329,  0.52359056, -0.17856863,\n              0.79131824, -0.00837584],\n            [ 0.41864488, -0.8754566 , -0.00929308,  0.43742397,\n              0.08979785,  0.13479516, -0.16091733,  0.05460982,\n             -0.11698364,  0.44216415],\n            [ 0.02271075, -0.5351497 , -0.30809754, -0.19754323,\n              0.67576176, -0.22178115, -0.23633745, -0.07864351,\n             -0.2296841 ,  0.6500488 ]]],\n   \n   \n          [[[-0.33905208, -0.38648835, -0.373043  , -0.6750955 ,\n             -0.04913018,  0.30605486, -0.08339071,  0.21758859,\n             -0.7415177 , -0.3757505 ],\n            [-0.36987734, -0.1522535 , -0.9605439 , -0.5751731 ,\n              0.16028638, -0.04420065,  0.35883096,  0.8495273 ,\n             -0.04895616, -0.07015149],\n            [ 0.05044068, -0.0665437 , -0.2220952 ,  0.29612228,\n              0.43270594, -0.11999329,  0.52389055, -0.17796862,\n              0.79101825, -0.00867583],\n            [ 0.4183449 , -0.87575656, -0.00929308,  0.43742397,\n              0.09039785,  0.13479516, -0.16121733,  0.05400983,\n             -0.11668364,  0.44246414],\n            [ 0.02241075, -0.5348497 , -0.30809754, -0.19754323,\n              0.67576176, -0.22178115, -0.23603746, -0.07864351,\n             -0.22998409,  0.6503488 ]]],\n   \n   \n          [[[-0.33905208, -0.38618836, -0.373043  , -0.6750955 ,\n             -0.04913018,  0.30605486, -0.08339071,  0.21758857,\n             -0.7415177 , -0.3757505 ],\n            [-0.36987734, -0.1525535 , -0.9605439 , -0.5751731 ,\n              0.16088639, -0.04420065,  0.35823098,  0.8489273 ,\n             -0.04835616, -0.07015149],\n            [ 0.05044068, -0.0668437 , -0.2220952 ,  0.29612228,\n              0.43330592, -0.11999329,  0.5232906 , -0.17856863,\n              0.7916182 , -0.00867583],\n            [ 0.4183449 , -0.8754566 , -0.00929308,  0.43742397,\n              0.08979785,  0.13479516, -0.16061734,  0.05460982,\n             -0.11728363,  0.44246414],\n            [ 0.02241075, -0.5351497 , -0.30809754, -0.19754323,\n              0.67636174, -0.22178115, -0.23663746, -0.0792435 ,\n             -0.2293841 ,  0.6503488 ]]],\n   \n   \n          [[[-0.33905208, -0.38618836, -0.373043  , -0.6750955 ,\n             -0.04943018,  0.30635485, -0.08309072,  0.21758857,\n             -0.7418177 , -0.3757505 ],\n            [-0.36987734, -0.1525535 , -0.9605439 , -0.5751731 ,\n              0.16058639, -0.04390065,  0.35853097,  0.8489273 ,\n             -0.04865616, -0.07015149],\n            [ 0.05044068, -0.0668437 , -0.2220952 ,  0.29612228,\n              0.43300593, -0.12029329,  0.52359056, -0.17796862,\n              0.79131824, -0.00867583],\n            [ 0.4183449 , -0.8754566 , -0.00929308,  0.43742397,\n              0.09009785,  0.13449515, -0.16091733,  0.05460982,\n             -0.11698364,  0.44246414],\n            [ 0.02241075, -0.5351497 , -0.30809754, -0.19754323,\n              0.67606175, -0.22148114, -0.23633745, -0.0792435 ,\n             -0.2296841 ,  0.6503488 ]]],\n   \n   \n          [[[-0.33905208, -0.38618836, -0.373043  , -0.6750955 ,\n             -0.04943018,  0.30575487, -0.08309072,  0.21818858,\n             -0.7418177 , -0.3757505 ],\n            [-0.36987734, -0.1525535 , -0.9605439 , -0.5751731 ,\n              0.16058639, -0.04450065,  0.35853097,  0.8495273 ,\n             -0.04865616, -0.07015149],\n            [ 0.05044068, -0.0668437 , -0.2220952 ,  0.29612228,\n              0.43300593, -0.11969329,  0.52359056, -0.17856863,\n              0.79131824, -0.00867583],\n            [ 0.4183449 , -0.8754566 , -0.00929308,  0.43742397,\n              0.09009785,  0.13509516, -0.16091733,  0.05400983,\n             -0.11698364,  0.44246414],\n            [ 0.02241075, -0.5351497 , -0.30809754, -0.19754323,\n              0.67606175, -0.22208115, -0.23633745, -0.07864351,\n             -0.2296841 ,  0.6503488 ]]],\n   \n   \n          [[[-0.33905208, -0.38618836, -0.373043  , -0.6750955 ,\n             -0.04943018,  0.30635485, -0.08309072,  0.21758857,\n             -0.7418177 , -0.3757505 ],\n            [-0.36987734, -0.1525535 , -0.9605439 , -0.5751731 ,\n              0.16058639, -0.04390065,  0.35853097,  0.8489273 ,\n             -0.04865616, -0.07015149],\n            [ 0.05044068, -0.0668437 , -0.2220952 ,  0.29612228,\n              0.43300593, -0.11969329,  0.52359056, -0.17856863,\n              0.79131824, -0.00867583],\n            [ 0.4183449 , -0.8754566 , -0.00929308,  0.43742397,\n              0.09009785,  0.13509516, -0.16091733,  0.05400983,\n             -0.11698364,  0.44246414],\n            [ 0.02241075, -0.5351497 , -0.30809754, -0.19754323,\n              0.67606175, -0.22208115, -0.23633745, -0.07864351,\n             -0.2296841 ,  0.6503488 ]]],\n   \n   \n          [[[-0.33935207, -0.38618836, -0.372743  , -0.6750955 ,\n             -0.04943018,  0.30635485, -0.08309072,  0.21788858,\n             -0.7418177 , -0.37545052],\n            [-0.36957735, -0.1525535 , -0.96084386, -0.5751731 ,\n              0.16058639, -0.04450065,  0.35853097,  0.8492273 ,\n             -0.04865616, -0.07045149],\n            [ 0.05074068, -0.0668437 , -0.22239521,  0.29612228,\n              0.43300593, -0.12029329,  0.52359056, -0.17826863,\n              0.79131824, -0.00897583],\n            [ 0.4180449 , -0.8754566 , -0.00899309,  0.43742397,\n              0.09009785,  0.13509516, -0.16091733,  0.05430983,\n             -0.11698364,  0.44276413],\n            [ 0.02211075, -0.5351497 , -0.30779755, -0.19754323,\n              0.67606175, -0.22148114, -0.23633745, -0.07894351,\n             -0.2296841 ,  0.6506488 ]]],\n   \n   \n          [[[-0.33935207, -0.38618836, -0.372743  , -0.6753955 ,\n             -0.04943018,  0.30635485, -0.08309072,  0.21788858,\n             -0.7418177 , -0.37545052],\n            [-0.36957735, -0.1525535 , -0.96084386, -0.5748731 ,\n              0.16058639, -0.04450065,  0.35853097,  0.8492273 ,\n             -0.04865616, -0.07045149],\n            [ 0.05074068, -0.0668437 , -0.22239521,  0.29642227,\n              0.43300593, -0.12029329,  0.52359056, -0.17826863,\n              0.79131824, -0.00897583],\n            [ 0.4180449 , -0.8754566 , -0.00899309,  0.43712398,\n              0.09009785,  0.13509516, -0.16091733,  0.05430983,\n             -0.11698364,  0.44276413],\n            [ 0.02271075, -0.5351497 , -0.30839753, -0.19724324,\n              0.67606175, -0.22208115, -0.23633745, -0.07894351,\n             -0.2296841 ,  0.6500488 ]]]], dtype=float32)},\n  'W2': {'bias': Array([[[ 0.0003]],\n   \n          [[ 0.0003]],\n   \n          [[-0.0003]],\n   \n          [[-0.0003]],\n   \n          [[ 0.0003]],\n   \n          [[-0.0003]],\n   \n          [[-0.0003]],\n   \n          [[-0.0003]]], dtype=float32),\n   'kernel': Array([[[[ 0.41839993],\n            [ 0.56046796],\n            [-0.19288756],\n            [ 0.00099881],\n            [-0.23087548],\n            [-0.36563426],\n            [ 0.31646842],\n            [ 0.18014184],\n            [-0.08712228],\n            [-0.5813695 ]]],\n   \n   \n          [[[ 0.41809994],\n            [ 0.56076795],\n            [-0.19288756],\n            [ 0.00099881],\n            [-0.23087548],\n            [-0.36563426],\n            [ 0.3167684 ],\n            [ 0.18014184],\n            [-0.08682229],\n            [-0.5816695 ]]],\n   \n   \n          [[[ 0.41809994],\n            [ 0.56046796],\n            [-0.19288756],\n            [ 0.00099881],\n            [-0.23147549],\n            [-0.36563426],\n            [ 0.31616843],\n            [ 0.17954183],\n            [-0.08742228],\n            [-0.5816695 ]]],\n   \n   \n          [[[ 0.41809994],\n            [ 0.56046796],\n            [-0.19288756],\n            [ 0.00099881],\n            [-0.23117548],\n            [-0.36593425],\n            [ 0.31646842],\n            [ 0.17954183],\n            [-0.08712228],\n            [-0.5816695 ]]],\n   \n   \n          [[[ 0.41809994],\n            [ 0.56046796],\n            [-0.19288756],\n            [ 0.00099881],\n            [-0.23117548],\n            [-0.36533427],\n            [ 0.31646842],\n            [ 0.18014184],\n            [-0.08712228],\n            [-0.5816695 ]]],\n   \n   \n          [[[ 0.41809994],\n            [ 0.56046796],\n            [-0.19288756],\n            [ 0.00099881],\n            [-0.23117548],\n            [-0.36593425],\n            [ 0.31646842],\n            [ 0.17954183],\n            [-0.08712228],\n            [-0.5816695 ]]],\n   \n   \n          [[[ 0.41779995],\n            [ 0.56046796],\n            [-0.19318756],\n            [ 0.00099881],\n            [-0.23117548],\n            [-0.36593425],\n            [ 0.31646842],\n            [ 0.17984183],\n            [-0.08712228],\n            [-0.5819695 ]]],\n   \n   \n          [[[ 0.41779995],\n            [ 0.56046796],\n            [-0.19318756],\n            [ 0.00069881],\n            [-0.23117548],\n            [-0.36593425],\n            [ 0.31646842],\n            [ 0.17984183],\n            [-0.08712228],\n            [-0.5819695 ]]]], dtype=float32)}}}"
     },
     "execution_count": 33,
     "metadata": {},
     "output_type": "execute_result"
    }
   ],
   "source": [
    "params = optax.apply_updates(params, updates)\n",
    "params"
   ],
   "metadata": {
    "collapsed": false,
    "ExecuteTime": {
     "end_time": "2023-09-15T18:32:47.085542348Z",
     "start_time": "2023-09-15T18:32:47.041024412Z"
    }
   },
   "id": "7ea2afd371a7e722"
  },
  {
   "cell_type": "code",
   "execution_count": 34,
   "outputs": [
    {
     "data": {
      "text/plain": "{'params': {'W1': {'bias': Array(-5.321797, dtype=float32),\n   'kernel': Array([-0.7296927 , -0.05353004, -0.1413371 ,  0.00319662, -0.3916064 ,\n          -1.7406904 ,  1.3203006 ,  1.0290506 , -0.36347264,  1.0151641 ],      dtype=float32)},\n  'W2': {'bias': Array(7.949466, dtype=float32),\n   'kernel': Array([14.629423], dtype=float32)}}}"
     },
     "execution_count": 34,
     "metadata": {},
     "output_type": "execute_result"
    }
   ],
   "source": [
    "gradients"
   ],
   "metadata": {
    "collapsed": false,
    "ExecuteTime": {
     "end_time": "2023-09-15T18:32:47.085748719Z",
     "start_time": "2023-09-15T18:32:47.082602926Z"
    }
   },
   "id": "173ea93b0c44ba15"
  },
  {
   "cell_type": "code",
   "execution_count": 35,
   "outputs": [],
   "source": [
    "model2 = JaxNet()\n",
    "params2 = model.init(random.PRNGKey(42), x[0])\n",
    "\n",
    "optimizer_def = optax.adam(learning_rate=1e-3)\n",
    "optimizer = optimizer_def.init(params2)\n",
    "\n",
    "def loss_fn(params2, x, y):\n",
    "    preds = model.apply(params2, x)\n",
    "    loss = jnp.mean((preds - y)**2)\n",
    "    return loss\n",
    "\n",
    "grad_fn = jax.jit(jax.grad(loss_fn))\n",
    "\n",
    "grads = grad_fn(params2, x, y)"
   ],
   "metadata": {
    "collapsed": false,
    "ExecuteTime": {
     "end_time": "2023-09-15T18:32:47.137880920Z",
     "start_time": "2023-09-15T18:32:47.085954045Z"
    }
   },
   "id": "4fa31b15f7026883"
  },
  {
   "cell_type": "code",
   "execution_count": 36,
   "outputs": [
    {
     "data": {
      "text/plain": "{'params': {'W1': {'bias': Array([ 0.32835847, -0.00656184, -0.18990612,  0.00065913,  0.0158582 ,\n          -0.3884065 ,  0.04132641,  0.0016438 , -0.01137697, -0.45681924],      dtype=float32),\n   'kernel': Array([[ 3.25176507e-01,  9.02128522e-04, -1.52221411e-01,\n            3.59859027e-04, -3.63957956e-02, -3.88265491e-01,\n            5.34393154e-02,  7.73611218e-02, -1.47115951e-02,\n           -4.52392459e-01],\n          [-3.29341173e-01, -4.55594389e-03,  1.38362929e-01,\n           -2.10456201e-04,  1.31507935e-02,  2.64409125e-01,\n            4.27177083e-03, -1.12786386e-02, -1.17599871e-03,\n            4.58186418e-01],\n          [-2.92675406e-01, -4.65021748e-03,  1.36488110e-01,\n           -1.96029345e-04, -6.05238229e-02,  2.35373229e-01,\n            8.04518089e-02,  5.85698113e-02, -2.21480075e-02,\n            4.07176226e-01],\n          [ 2.68808454e-01,  2.97672022e-03, -1.51478976e-01,\n            7.33235036e-04,  3.22636627e-02, -3.94895792e-01,\n            8.95771838e-04,  2.79012639e-02, -2.46601820e-04,\n           -3.73971999e-01],\n          [-6.31799772e-02, -1.36393774e-03,  1.11821946e-02,\n           -2.87030562e-04,  2.55437661e-03,  6.57926947e-02,\n            2.59789005e-02, -2.39222366e-02, -7.15187052e-03,\n            8.78973231e-02]], dtype=float32)},\n  'W2': {'bias': Array([0.99368334], dtype=float32),\n   'kernel': Array([[ 0.25792888],\n          [-0.00217427],\n          [ 0.56234527],\n          [ 0.19773208],\n          [ 0.0764029 ],\n          [ 0.6196969 ],\n          [ 0.10405818],\n          [ 0.00133801],\n          [ 0.05605986],\n          [-0.04470985]], dtype=float32)}}}"
     },
     "execution_count": 36,
     "metadata": {},
     "output_type": "execute_result"
    }
   ],
   "source": [
    "grads"
   ],
   "metadata": {
    "collapsed": false,
    "ExecuteTime": {
     "end_time": "2023-09-15T18:32:47.180487767Z",
     "start_time": "2023-09-15T18:32:47.139334906Z"
    }
   },
   "id": "8d05cb2f94d9d929"
  },
  {
   "cell_type": "code",
   "execution_count": 37,
   "outputs": [
    {
     "ename": "AttributeError",
     "evalue": "'tuple' object has no attribute 'update'",
     "output_type": "error",
     "traceback": [
      "\u001B[0;31m---------------------------------------------------------------------------\u001B[0m",
      "\u001B[0;31mAttributeError\u001B[0m                            Traceback (most recent call last)",
      "Cell \u001B[0;32mIn[37], line 1\u001B[0m\n\u001B[0;32m----> 1\u001B[0m updates, optimizer_state \u001B[38;5;241m=\u001B[39m \u001B[43moptimizer\u001B[49m\u001B[38;5;241;43m.\u001B[39;49m\u001B[43mupdate\u001B[49m(grads, optimizer\u001B[38;5;241m.\u001B[39mstate)\n\u001B[1;32m      2\u001B[0m updates\n",
      "\u001B[0;31mAttributeError\u001B[0m: 'tuple' object has no attribute 'update'"
     ]
    }
   ],
   "source": [
    "updates, optimizer_state = optimizer.update(grads, optimizer.state)\n",
    "updates"
   ],
   "metadata": {
    "collapsed": false,
    "ExecuteTime": {
     "end_time": "2023-09-15T18:32:47.297502009Z",
     "start_time": "2023-09-15T18:32:47.180344759Z"
    }
   },
   "id": "ca6d60a2a4d376a2"
  },
  {
   "cell_type": "code",
   "execution_count": null,
   "outputs": [],
   "source": [
    "gradients[\"params\"][\"W2\"][\"kernel\"] == params2[\"params\"][\"W2\"][\"kernel\"]"
   ],
   "metadata": {
    "collapsed": false,
    "ExecuteTime": {
     "end_time": "2023-09-15T18:32:47.340899867Z",
     "start_time": "2023-09-15T18:32:47.298207922Z"
    }
   },
   "id": "9579ed4301d784b3"
  }
 ],
 "metadata": {
  "kernelspec": {
   "display_name": "Python 3",
   "language": "python",
   "name": "python3"
  },
  "language_info": {
   "codemirror_mode": {
    "name": "ipython",
    "version": 2
   },
   "file_extension": ".py",
   "mimetype": "text/x-python",
   "name": "python",
   "nbconvert_exporter": "python",
   "pygments_lexer": "ipython2",
   "version": "2.7.6"
  }
 },
 "nbformat": 4,
 "nbformat_minor": 5
}
