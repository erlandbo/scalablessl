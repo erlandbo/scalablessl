{
 "cells": [
  {
   "cell_type": "code",
   "execution_count": 75,
   "id": "initial_id",
   "metadata": {
    "collapsed": true,
    "ExecuteTime": {
     "end_time": "2023-09-15T18:30:28.128920191Z",
     "start_time": "2023-09-15T18:30:28.112123013Z"
    }
   },
   "outputs": [],
   "source": [
    "import jax\n",
    "import jax.numpy as jnp\n",
    "from jax import random, vmap\n",
    "from flax import linen as nn\n",
    "import optax"
   ]
  },
  {
   "cell_type": "markdown",
   "source": [
    "# Neural network"
   ],
   "metadata": {
    "collapsed": false
   },
   "id": "2d9ee70f437bfe2f"
  },
  {
   "cell_type": "code",
   "execution_count": 76,
   "outputs": [],
   "source": [
    "batch_size = 8\n",
    "input_dim = 5\n",
    "x = random.normal(key=random.PRNGKey(42), shape=(batch_size, input_dim))\n",
    "y = random.normal(key=random.PRNGKey(42), shape=(batch_size, 1))"
   ],
   "metadata": {
    "collapsed": false,
    "ExecuteTime": {
     "end_time": "2023-09-15T18:30:28.219594377Z",
     "start_time": "2023-09-15T18:30:28.119941227Z"
    }
   },
   "id": "8c51d83320f35dd0"
  },
  {
   "cell_type": "code",
   "execution_count": 77,
   "outputs": [
    {
     "name": "stdout",
     "output_type": "stream",
     "text": [
      "(8, 5) (8, 1)\n"
     ]
    }
   ],
   "source": [
    "print(x.shape, y.shape)"
   ],
   "metadata": {
    "collapsed": false,
    "ExecuteTime": {
     "end_time": "2023-09-15T18:30:28.252724590Z",
     "start_time": "2023-09-15T18:30:28.123322238Z"
    }
   },
   "id": "d2805f37acd5c533"
  },
  {
   "cell_type": "code",
   "execution_count": 78,
   "outputs": [],
   "source": [
    "class JaxNet(nn.Module):\n",
    "    def setup(self):\n",
    "        self.W1 = nn.Dense(features=10)\n",
    "        self.W2 = nn.Dense(features=1)\n",
    "    \n",
    "    def __call__(self, x):\n",
    "        x = self.W1(x)\n",
    "        x = nn.relu(x)\n",
    "        x = self.W2(x)\n",
    "        return x\n",
    "    \n",
    "def mse_loss(params, model, x, y):\n",
    "    pred = model.apply(params, x)\n",
    "    return (pred - y) ** 2\n"
   ],
   "metadata": {
    "collapsed": false,
    "ExecuteTime": {
     "end_time": "2023-09-15T18:30:28.311774771Z",
     "start_time": "2023-09-15T18:30:28.127892488Z"
    }
   },
   "id": "5e16f968025b772d"
  },
  {
   "cell_type": "code",
   "execution_count": 79,
   "outputs": [],
   "source": [
    "model = JaxNet()\n",
    "params = model.init(random.PRNGKey(42), x[0])\n",
    "\n",
    "optimizer = optax.adam(learning_rate=3e-4)\n",
    "opt_state = optimizer.init(params)"
   ],
   "metadata": {
    "collapsed": false,
    "ExecuteTime": {
     "end_time": "2023-09-15T18:30:28.311905147Z",
     "start_time": "2023-09-15T18:30:28.168309266Z"
    }
   },
   "id": "36b56ecc1b24f862"
  },
  {
   "cell_type": "markdown",
   "source": [
    "# Using jvp and loops"
   ],
   "metadata": {
    "collapsed": false
   },
   "id": "c7da2e46dcffcc9a"
  },
  {
   "cell_type": "code",
   "execution_count": 80,
   "outputs": [],
   "source": [
    "flat_params, unravel_fn = jax.flatten_util.ravel_pytree(params)\n",
    "jacobian_matrix = jnp.zeros((len(flat_params), 1))"
   ],
   "metadata": {
    "collapsed": false,
    "ExecuteTime": {
     "end_time": "2023-09-15T18:30:28.311981651Z",
     "start_time": "2023-09-15T18:30:28.168384450Z"
    }
   },
   "id": "5068e425aef60cae"
  },
  {
   "cell_type": "code",
   "execution_count": 81,
   "outputs": [
    {
     "name": "stdout",
     "output_type": "stream",
     "text": [
      "[114.70784] [-8.955848]\n"
     ]
    }
   ],
   "source": [
    "evaluation_point = jnp.array([1.0, 0.5, 1.5, 2.0, 1.0])\n",
    "evaluation_target = jnp.array([10])\n",
    "basis_vector = jnp.zeros((len(flat_params)))\n",
    "basis_vector = basis_vector.at[0].set(1.0)\n",
    "\n",
    "primal, tangent = jax.jvp(lambda par: mse_loss(unravel_fn(par), model, evaluation_point, evaluation_target), (flat_params,), (basis_vector,))\n",
    "print(primal, tangent)\n",
    "jacobian_matrix = jacobian_matrix.at[0].set(tangent)"
   ],
   "metadata": {
    "collapsed": false,
    "ExecuteTime": {
     "end_time": "2023-09-15T18:30:28.312121326Z",
     "start_time": "2023-09-15T18:30:28.168431079Z"
    }
   },
   "id": "786f87d44f5f5047"
  },
  {
   "cell_type": "code",
   "execution_count": 82,
   "outputs": [
    {
     "data": {
      "text/plain": "(71,)"
     },
     "execution_count": 82,
     "metadata": {},
     "output_type": "execute_result"
    }
   ],
   "source": [
    "flat_params.shape"
   ],
   "metadata": {
    "collapsed": false,
    "ExecuteTime": {
     "end_time": "2023-09-15T18:30:28.312277033Z",
     "start_time": "2023-09-15T18:30:28.168490229Z"
    }
   },
   "id": "46193be59c9c05f4"
  },
  {
   "cell_type": "code",
   "execution_count": 83,
   "outputs": [
    {
     "data": {
      "text/plain": "{'params': {'W1': {'bias': Array([-8.955848,  0.      ,  0.      ,  0.      ,  0.      ,  0.      ,\n           0.      ,  0.      ,  0.      ,  0.      ], dtype=float32),\n   'kernel': Array([[0., 0., 0., 0., 0., 0., 0., 0., 0., 0.],\n          [0., 0., 0., 0., 0., 0., 0., 0., 0., 0.],\n          [0., 0., 0., 0., 0., 0., 0., 0., 0., 0.],\n          [0., 0., 0., 0., 0., 0., 0., 0., 0., 0.],\n          [0., 0., 0., 0., 0., 0., 0., 0., 0., 0.]], dtype=float32)},\n  'W2': {'bias': Array([0.], dtype=float32),\n   'kernel': Array([[0.],\n          [0.],\n          [0.],\n          [0.],\n          [0.],\n          [0.],\n          [0.],\n          [0.],\n          [0.],\n          [0.]], dtype=float32)}}}"
     },
     "execution_count": 83,
     "metadata": {},
     "output_type": "execute_result"
    }
   ],
   "source": [
    "unravel_fn(jacobian_matrix)"
   ],
   "metadata": {
    "collapsed": false,
    "ExecuteTime": {
     "end_time": "2023-09-15T18:30:28.312437589Z",
     "start_time": "2023-09-15T18:30:28.168544318Z"
    }
   },
   "id": "8ebd820136eb9fb2"
  },
  {
   "cell_type": "code",
   "execution_count": 84,
   "outputs": [],
   "source": [
    "def loop_jvp(flat_params, model, x_point, y_point):\n",
    "    basis_vector = jnp.zeros((len(flat_params)))\n",
    "    jacobian_matrix = jnp.zeros((len(flat_params), 1))\n",
    "    for i in range(len(flat_params)):\n",
    "        e_i = basis_vector.at[i].set(1.0)\n",
    "        primal, tangent = jax.jvp(lambda par: mse_loss(unravel_fn(par), model, x_point, y_point), (flat_params,), (e_i,))\n",
    "        jacobian_matrix = jacobian_matrix.at[i].set(tangent)\n",
    "    return jacobian_matrix"
   ],
   "metadata": {
    "collapsed": false,
    "ExecuteTime": {
     "end_time": "2023-09-15T18:30:28.312504747Z",
     "start_time": "2023-09-15T18:30:28.168624113Z"
    }
   },
   "id": "88db89781055ce41"
  },
  {
   "cell_type": "code",
   "execution_count": 85,
   "outputs": [],
   "source": [
    "jacobian_sum = jnp.zeros((len(flat_params), 1))\n",
    "l = []\n",
    "for i in range(batch_size):\n",
    "    jacobian = loop_jvp(flat_params, model, x[i], y[i])\n",
    "    jacobian_sum += jacobian\n",
    "    l.append(jacobian)\n",
    "    #jacobians = vmap(loop_jvp, in_axes=(None, None, 0, 0), out_axes=0)(flat_params, model, x, y)\n",
    "# jacobian_matrix /= len(flat_params)"
   ],
   "metadata": {
    "collapsed": false,
    "ExecuteTime": {
     "end_time": "2023-09-15T18:30:35.044487268Z",
     "start_time": "2023-09-15T18:30:28.170099728Z"
    }
   },
   "id": "f8fb6a2636a5e663"
  },
  {
   "cell_type": "code",
   "execution_count": 86,
   "outputs": [
    {
     "data": {
      "text/plain": "Array([[ 2.62686777e+00],\n       [-5.24946414e-02],\n       [-1.51924932e+00],\n       [ 5.27300173e-03],\n       [ 1.26865715e-01],\n       [-3.10725236e+00],\n       [ 3.30611318e-01],\n       [ 1.31503642e-02],\n       [-9.10157487e-02],\n       [-3.65455437e+00],\n       [ 2.60141230e+00],\n       [ 7.21701840e-03],\n       [-1.21777153e+00],\n       [ 2.87886267e-03],\n       [-2.91166335e-01],\n       [-3.10612392e+00],\n       [ 4.27514523e-01],\n       [ 6.18889093e-01],\n       [-1.17692746e-01],\n       [-3.61913991e+00],\n       [-2.63472939e+00],\n       [-3.64475027e-02],\n       [ 1.10690379e+00],\n       [-1.68364414e-03],\n       [ 1.05206370e-01],\n       [ 2.11527300e+00],\n       [ 3.41741964e-02],\n       [-9.02291387e-02],\n       [-9.40799620e-03],\n       [ 3.66549182e+00],\n       [-2.34140301e+00],\n       [-3.72016914e-02],\n       [ 1.09190500e+00],\n       [-1.56822964e-03],\n       [-4.84190553e-01],\n       [ 1.88298559e+00],\n       [ 6.43614471e-01],\n       [ 4.68558580e-01],\n       [-1.77184060e-01],\n       [ 3.25740957e+00],\n       [ 2.15046787e+00],\n       [ 2.38137301e-02],\n       [-1.21183228e+00],\n       [ 5.86586073e-03],\n       [ 2.58109331e-01],\n       [-3.15916705e+00],\n       [ 7.16615422e-03],\n       [ 2.23210081e-01],\n       [-1.97280897e-03],\n       [-2.99177647e+00],\n       [-5.05440116e-01],\n       [-1.09114870e-02],\n       [ 8.94576311e-02],\n       [-2.29623704e-03],\n       [ 2.04350501e-02],\n       [ 5.26341677e-01],\n       [ 2.07831219e-01],\n       [-1.91377938e-01],\n       [-5.72149567e-02],\n       [ 7.03179002e-01],\n       [ 7.94946671e+00],\n       [ 2.06343126e+00],\n       [-1.73941124e-02],\n       [ 4.49876213e+00],\n       [ 1.58185709e+00],\n       [ 6.11223221e-01],\n       [ 4.95757532e+00],\n       [ 8.32465351e-01],\n       [ 1.07042491e-02],\n       [ 4.48479354e-01],\n       [-3.57679188e-01]], dtype=float32)"
     },
     "execution_count": 86,
     "metadata": {},
     "output_type": "execute_result"
    }
   ],
   "source": [
    "jnp.sum(jnp.array(l), 0)"
   ],
   "metadata": {
    "collapsed": false,
    "ExecuteTime": {
     "end_time": "2023-09-15T18:30:35.044790903Z",
     "start_time": "2023-09-15T18:30:35.044322888Z"
    }
   },
   "id": "af4b406578d176c9"
  },
  {
   "cell_type": "code",
   "execution_count": 87,
   "outputs": [
    {
     "data": {
      "text/plain": "{'params': {'W1': {'bias': Array([ 2.6268678 , -0.05249464, -1.5192493 ,  0.005273  ,  0.12686571,\n          -3.1072524 ,  0.33061132,  0.01315036, -0.09101575, -3.6545544 ],      dtype=float32),\n   'kernel': Array([[ 2.60141230e+00,  7.21701840e-03, -1.21777153e+00,\n            2.87886267e-03, -2.91166335e-01, -3.10612392e+00,\n            4.27514523e-01,  6.18889093e-01, -1.17692746e-01,\n           -3.61913991e+00],\n          [-2.63472939e+00, -3.64475027e-02,  1.10690379e+00,\n           -1.68364414e-03,  1.05206370e-01,  2.11527300e+00,\n            3.41741964e-02, -9.02291387e-02, -9.40799620e-03,\n            3.66549182e+00],\n          [-2.34140301e+00, -3.72016914e-02,  1.09190500e+00,\n           -1.56822964e-03, -4.84190553e-01,  1.88298559e+00,\n            6.43614471e-01,  4.68558580e-01, -1.77184060e-01,\n            3.25740957e+00],\n          [ 2.15046787e+00,  2.38137301e-02, -1.21183228e+00,\n            5.86586073e-03,  2.58109331e-01, -3.15916705e+00,\n            7.16615422e-03,  2.23210081e-01, -1.97280897e-03,\n           -2.99177647e+00],\n          [-5.05440116e-01, -1.09114870e-02,  8.94576311e-02,\n           -2.29623704e-03,  2.04350501e-02,  5.26341677e-01,\n            2.07831219e-01, -1.91377938e-01, -5.72149567e-02,\n            7.03179002e-01]], dtype=float32)},\n  'W2': {'bias': Array([7.9494667], dtype=float32),\n   'kernel': Array([[ 2.0634313 ],\n          [-0.01739411],\n          [ 4.498762  ],\n          [ 1.5818571 ],\n          [ 0.6112232 ],\n          [ 4.9575753 ],\n          [ 0.83246535],\n          [ 0.01070425],\n          [ 0.44847935],\n          [-0.3576792 ]], dtype=float32)}}}"
     },
     "execution_count": 87,
     "metadata": {},
     "output_type": "execute_result"
    }
   ],
   "source": [
    "unravel_fn(jacobian_sum)"
   ],
   "metadata": {
    "collapsed": false,
    "ExecuteTime": {
     "end_time": "2023-09-15T18:30:35.044988989Z",
     "start_time": "2023-09-15T18:30:35.044429094Z"
    }
   },
   "id": "f4f192ef42a5d70c"
  },
  {
   "cell_type": "code",
   "execution_count": 88,
   "outputs": [],
   "source": [
    "def scan_batch(carry, xy):\n",
    "    xi, yi = xy\n",
    "    jacobian = loop_jvp(flat_params, model, xi, yi)\n",
    "    carry = carry + jacobian\n",
    "    return carry, None\n",
    "\n",
    "jacobian_init = jnp.zeros((len(flat_params), 1))\n",
    "#xs = jnp.concatenate((x, y), axis=1)\n",
    "xs = (x, y)\n",
    "jacobian_matrix, _ = jax.lax.scan(scan_batch, jacobian_init, xs)"
   ],
   "metadata": {
    "collapsed": false,
    "ExecuteTime": {
     "end_time": "2023-09-15T18:30:36.751991428Z",
     "start_time": "2023-09-15T18:30:35.044546679Z"
    }
   },
   "id": "29de240371d2f7cc"
  },
  {
   "cell_type": "code",
   "execution_count": 89,
   "outputs": [
    {
     "data": {
      "text/plain": "Array([[ 2.62686777e+00],\n       [-5.24946414e-02],\n       [-1.51924932e+00],\n       [ 5.27300173e-03],\n       [ 1.26865715e-01],\n       [-3.10725236e+00],\n       [ 3.30611318e-01],\n       [ 1.31503642e-02],\n       [-9.10157487e-02],\n       [-3.65455437e+00],\n       [ 2.60141230e+00],\n       [ 7.21701840e-03],\n       [-1.21777153e+00],\n       [ 2.87886267e-03],\n       [-2.91166335e-01],\n       [-3.10612392e+00],\n       [ 4.27514523e-01],\n       [ 6.18889093e-01],\n       [-1.17692746e-01],\n       [-3.61913991e+00],\n       [-2.63472939e+00],\n       [-3.64475027e-02],\n       [ 1.10690379e+00],\n       [-1.68364414e-03],\n       [ 1.05206370e-01],\n       [ 2.11527300e+00],\n       [ 3.41741964e-02],\n       [-9.02291387e-02],\n       [-9.40799620e-03],\n       [ 3.66549182e+00],\n       [-2.34140301e+00],\n       [-3.72016914e-02],\n       [ 1.09190500e+00],\n       [-1.56822964e-03],\n       [-4.84190553e-01],\n       [ 1.88298559e+00],\n       [ 6.43614471e-01],\n       [ 4.68558580e-01],\n       [-1.77184060e-01],\n       [ 3.25740957e+00],\n       [ 2.15046787e+00],\n       [ 2.38137301e-02],\n       [-1.21183228e+00],\n       [ 5.86586073e-03],\n       [ 2.58109331e-01],\n       [-3.15916705e+00],\n       [ 7.16615422e-03],\n       [ 2.23210081e-01],\n       [-1.97280897e-03],\n       [-2.99177647e+00],\n       [-5.05440116e-01],\n       [-1.09114870e-02],\n       [ 8.94576311e-02],\n       [-2.29623704e-03],\n       [ 2.04350501e-02],\n       [ 5.26341677e-01],\n       [ 2.07831219e-01],\n       [-1.91377938e-01],\n       [-5.72149567e-02],\n       [ 7.03179002e-01],\n       [ 7.94946671e+00],\n       [ 2.06343126e+00],\n       [-1.73941124e-02],\n       [ 4.49876213e+00],\n       [ 1.58185709e+00],\n       [ 6.11223221e-01],\n       [ 4.95757532e+00],\n       [ 8.32465351e-01],\n       [ 1.07042491e-02],\n       [ 4.48479354e-01],\n       [-3.57679188e-01]], dtype=float32)"
     },
     "execution_count": 89,
     "metadata": {},
     "output_type": "execute_result"
    }
   ],
   "source": [
    "jacobian_matrix"
   ],
   "metadata": {
    "collapsed": false,
    "ExecuteTime": {
     "end_time": "2023-09-15T18:30:36.767700936Z",
     "start_time": "2023-09-15T18:30:36.754075364Z"
    }
   },
   "id": "751e39eb00a54950"
  },
  {
   "cell_type": "code",
   "execution_count": 90,
   "outputs": [
    {
     "data": {
      "text/plain": "{'params': {'W1': {'bias': Array([ 2.6268678 , -0.05249464, -1.5192493 ,  0.005273  ,  0.12686571,\n          -3.1072524 ,  0.33061132,  0.01315036, -0.09101575, -3.6545544 ],      dtype=float32),\n   'kernel': Array([[ 2.60141230e+00,  7.21701840e-03, -1.21777153e+00,\n            2.87886267e-03, -2.91166335e-01, -3.10612392e+00,\n            4.27514523e-01,  6.18889093e-01, -1.17692746e-01,\n           -3.61913991e+00],\n          [-2.63472939e+00, -3.64475027e-02,  1.10690379e+00,\n           -1.68364414e-03,  1.05206370e-01,  2.11527300e+00,\n            3.41741964e-02, -9.02291387e-02, -9.40799620e-03,\n            3.66549182e+00],\n          [-2.34140301e+00, -3.72016914e-02,  1.09190500e+00,\n           -1.56822964e-03, -4.84190553e-01,  1.88298559e+00,\n            6.43614471e-01,  4.68558580e-01, -1.77184060e-01,\n            3.25740957e+00],\n          [ 2.15046787e+00,  2.38137301e-02, -1.21183228e+00,\n            5.86586073e-03,  2.58109331e-01, -3.15916705e+00,\n            7.16615422e-03,  2.23210081e-01, -1.97280897e-03,\n           -2.99177647e+00],\n          [-5.05440116e-01, -1.09114870e-02,  8.94576311e-02,\n           -2.29623704e-03,  2.04350501e-02,  5.26341677e-01,\n            2.07831219e-01, -1.91377938e-01, -5.72149567e-02,\n            7.03179002e-01]], dtype=float32)},\n  'W2': {'bias': Array([7.9494667], dtype=float32),\n   'kernel': Array([[ 2.0634313 ],\n          [-0.01739411],\n          [ 4.498762  ],\n          [ 1.5818571 ],\n          [ 0.6112232 ],\n          [ 4.9575753 ],\n          [ 0.83246535],\n          [ 0.01070425],\n          [ 0.44847935],\n          [-0.3576792 ]], dtype=float32)}}}"
     },
     "execution_count": 90,
     "metadata": {},
     "output_type": "execute_result"
    }
   ],
   "source": [
    "unravel_fn(jacobian_matrix)"
   ],
   "metadata": {
    "collapsed": false,
    "ExecuteTime": {
     "end_time": "2023-09-15T18:30:36.767917958Z",
     "start_time": "2023-09-15T18:30:36.756799040Z"
    }
   },
   "id": "4324d521ccda4273"
  },
  {
   "cell_type": "code",
   "execution_count": 113,
   "outputs": [],
   "source": [
    "def scan_jvp_old(flat_params, model, x_point, y_point):\n",
    "    basis_vector = jnp.zeros((len(flat_params)))\n",
    "    jacobian_matrix = jnp.zeros((len(flat_params), 1))\n",
    "    for i in range(len(flat_params)):\n",
    "        e_i = basis_vector.at[i].set(1.0)\n",
    "        primal, tangent = jax.jvp(lambda par: mse_loss(unravel_fn(par), model, x_point, y_point), (flat_params,), (e_i,))\n",
    "        jacobian_matrix = jacobian_matrix.at[i].set(tangent)\n",
    "    return jacobian_matrix\n",
    "\n",
    "def scan_jvp(carry, xs):\n",
    "    jacobian_sum, x_point, y_point  = carry\n",
    "    param_idx = xs.squeeze()\n",
    "    basis_vector = jnp.zeros((len(flat_params)))\n",
    "    e_i = basis_vector.at[param_idx].set(1.0)\n",
    "    primal, tangent = jax.jvp(lambda par: mse_loss(unravel_fn(par), model, x_point, y_point), (flat_params,), (e_i,))\n",
    "    #jacobian_sum += tangent * e_i[:, None]\n",
    "    jacobian_sum.at[param_idx].set(tangent)\n",
    "    return (jacobian_sum, x_point, y_point), None\n",
    "\n",
    "def scan_foo(carry, xs):\n",
    "    jacobian_sum, param_idxes = carry\n",
    "    x_point, y_point = xs\n",
    "    (jacobian, x_point, y_point), _ = jax.lax.scan(scan_jvp, (jacobian_sum, x_point, y_point), param_idxes)\n",
    "    jacobian_sum += jacobian\n",
    "    return (jacobian_sum, param_index), None\n",
    "\n",
    "param_index = jnp.arange(flat_params.shape[0], dtype=int)[:,None]\n",
    "jacobian_init = jnp.zeros((len(flat_params), 1))\n",
    "\n",
    "(jacobian_matrix, _), _ = jax.lax.scan(scan_foo, (jacobian_init, param_index), (x, y))"
   ],
   "metadata": {
    "collapsed": false,
    "ExecuteTime": {
     "end_time": "2023-09-15T18:31:46.939647529Z",
     "start_time": "2023-09-15T18:31:46.878581418Z"
    }
   },
   "id": "8e55a3588229b9ec"
  },
  {
   "cell_type": "code",
   "execution_count": 114,
   "outputs": [
    {
     "data": {
      "text/plain": "{'params': {'W1': {'bias': Array([0., 0., 0., 0., 0., 0., 0., 0., 0., 0.], dtype=float32),\n   'kernel': Array([[0., 0., 0., 0., 0., 0., 0., 0., 0., 0.],\n          [0., 0., 0., 0., 0., 0., 0., 0., 0., 0.],\n          [0., 0., 0., 0., 0., 0., 0., 0., 0., 0.],\n          [0., 0., 0., 0., 0., 0., 0., 0., 0., 0.],\n          [0., 0., 0., 0., 0., 0., 0., 0., 0., 0.]], dtype=float32)},\n  'W2': {'bias': Array([0.], dtype=float32),\n   'kernel': Array([[0.],\n          [0.],\n          [0.],\n          [0.],\n          [0.],\n          [0.],\n          [0.],\n          [0.],\n          [0.],\n          [0.]], dtype=float32)}}}"
     },
     "execution_count": 114,
     "metadata": {},
     "output_type": "execute_result"
    }
   ],
   "source": [
    "unravel_fn(jacobian_matrix)"
   ],
   "metadata": {
    "collapsed": false,
    "ExecuteTime": {
     "end_time": "2023-09-15T18:31:49.659093592Z",
     "start_time": "2023-09-15T18:31:49.652813558Z"
    }
   },
   "id": "753f0588217c226d"
  },
  {
   "cell_type": "code",
   "execution_count": 115,
   "outputs": [],
   "source": [
    "jacobian_sum = jnp.zeros((len(flat_params), 1))\n",
    "for i in range(batch_size):\n",
    "    param_index = jnp.arange(flat_params.shape[0], dtype=int)\n",
    "    jacobian_init = jnp.zeros((len(flat_params), 1))\n",
    "    (jacobian, x_point, y_point), _ = jax.lax.scan(scan_jvp, (jacobian_init, x[i], y[i]), param_index)\n",
    "    jacobian_sum += jacobian"
   ],
   "metadata": {
    "collapsed": false,
    "ExecuteTime": {
     "end_time": "2023-09-15T18:31:53.231048855Z",
     "start_time": "2023-09-15T18:31:53.178293530Z"
    }
   },
   "id": "72996659875f143c"
  },
  {
   "cell_type": "code",
   "execution_count": 118,
   "outputs": [
    {
     "data": {
      "text/plain": "Array([ 0.5459628 , -0.3192952 , -0.2974074 ,  1.112433  , -0.43547055],      dtype=float32)"
     },
     "execution_count": 118,
     "metadata": {},
     "output_type": "execute_result"
    }
   ],
   "source": [
    "x_point"
   ],
   "metadata": {
    "collapsed": false,
    "ExecuteTime": {
     "end_time": "2023-09-15T18:32:03.252642446Z",
     "start_time": "2023-09-15T18:32:03.208445794Z"
    }
   },
   "id": "d9c2cbb689b53e29"
  },
  {
   "cell_type": "code",
   "execution_count": 117,
   "outputs": [
    {
     "data": {
      "text/plain": "{'params': {'W1': {'bias': Array([0., 0., 0., 0., 0., 0., 0., 0., 0., 0.], dtype=float32),\n   'kernel': Array([[0., 0., 0., 0., 0., 0., 0., 0., 0., 0.],\n          [0., 0., 0., 0., 0., 0., 0., 0., 0., 0.],\n          [0., 0., 0., 0., 0., 0., 0., 0., 0., 0.],\n          [0., 0., 0., 0., 0., 0., 0., 0., 0., 0.],\n          [0., 0., 0., 0., 0., 0., 0., 0., 0., 0.]], dtype=float32)},\n  'W2': {'bias': Array([0.], dtype=float32),\n   'kernel': Array([[0.],\n          [0.],\n          [0.],\n          [0.],\n          [0.],\n          [0.],\n          [0.],\n          [0.],\n          [0.],\n          [0.]], dtype=float32)}}}"
     },
     "execution_count": 117,
     "metadata": {},
     "output_type": "execute_result"
    }
   ],
   "source": [
    "unravel_fn(jacobian)"
   ],
   "metadata": {
    "collapsed": false,
    "ExecuteTime": {
     "end_time": "2023-09-15T18:31:58.703968738Z",
     "start_time": "2023-09-15T18:31:58.694543576Z"
    }
   },
   "id": "a674656ce06f979b"
  },
  {
   "cell_type": "code",
   "execution_count": 95,
   "outputs": [
    {
     "data": {
      "text/plain": "Array([0.], dtype=float32)"
     },
     "execution_count": 95,
     "metadata": {},
     "output_type": "execute_result"
    }
   ],
   "source": [
    "jacobian_matrix[param_index[0]]"
   ],
   "metadata": {
    "collapsed": false,
    "ExecuteTime": {
     "end_time": "2023-09-15T18:30:36.904360245Z",
     "start_time": "2023-09-15T18:30:36.896528387Z"
    }
   },
   "id": "88e8f5a4521e8354"
  },
  {
   "cell_type": "code",
   "execution_count": 96,
   "outputs": [
    {
     "data": {
      "text/plain": "{'params': {'W1': {'bias': Array([0., 0., 0., 0., 0., 0., 0., 0., 0., 0.], dtype=float32),\n   'kernel': Array([[0., 0., 0., 0., 0., 0., 0., 0., 0., 0.],\n          [0., 0., 0., 0., 0., 0., 0., 0., 0., 0.],\n          [0., 0., 0., 0., 0., 0., 0., 0., 0., 0.],\n          [0., 0., 0., 0., 0., 0., 0., 0., 0., 0.],\n          [0., 0., 0., 0., 0., 0., 0., 0., 0., 0.]], dtype=float32)},\n  'W2': {'bias': Array([0.], dtype=float32),\n   'kernel': Array([[0.],\n          [0.],\n          [0.],\n          [0.],\n          [0.],\n          [0.],\n          [0.],\n          [0.],\n          [0.],\n          [0.]], dtype=float32)}}}"
     },
     "execution_count": 96,
     "metadata": {},
     "output_type": "execute_result"
    }
   ],
   "source": [
    "unravel_fn(jacobian_matrix)"
   ],
   "metadata": {
    "collapsed": false,
    "ExecuteTime": {
     "end_time": "2023-09-15T18:30:36.904520133Z",
     "start_time": "2023-09-15T18:30:36.896581705Z"
    }
   },
   "id": "4f5a05f7fb3018d4"
  },
  {
   "cell_type": "code",
   "execution_count": 97,
   "outputs": [
    {
     "data": {
      "text/plain": "{'params': {'W1': {'bias': Array([0., 0., 0., 0., 0., 0., 0., 0., 0., 0.], dtype=float32),\n   'kernel': Array([[0., 0., 0., 0., 0., 0., 0., 0., 0., 0.],\n          [0., 0., 0., 0., 0., 0., 0., 0., 0., 0.],\n          [0., 0., 0., 0., 0., 0., 0., 0., 0., 0.],\n          [0., 0., 0., 0., 0., 0., 0., 0., 0., 0.],\n          [0., 0., 0., 0., 0., 0., 0., 0., 0., 0.]], dtype=float32)},\n  'W2': {'bias': Array([0.], dtype=float32),\n   'kernel': Array([[0.],\n          [0.],\n          [0.],\n          [0.],\n          [0.],\n          [0.],\n          [0.],\n          [0.],\n          [0.],\n          [0.]], dtype=float32)}}}"
     },
     "execution_count": 97,
     "metadata": {},
     "output_type": "execute_result"
    }
   ],
   "source": [
    "unravel_fn(jacobian_matrix)"
   ],
   "metadata": {
    "collapsed": false,
    "ExecuteTime": {
     "end_time": "2023-09-15T18:30:36.904673940Z",
     "start_time": "2023-09-15T18:30:36.896636016Z"
    }
   },
   "id": "8b6f7c55a9e933d1"
  },
  {
   "cell_type": "markdown",
   "source": [
    "# Using jacfwd"
   ],
   "metadata": {
    "collapsed": false
   },
   "id": "3633aa4b680a7bce"
  },
  {
   "cell_type": "code",
   "execution_count": 98,
   "outputs": [
    {
     "data": {
      "text/plain": "{'params': {'W1': {'bias': Array([[-8.955848  , -0.        , -0.        , -0.02139474,  4.95186   ,\n            7.832014  , -6.778865  , -3.8522758 , -0.        , 12.459565  ]],      dtype=float32),\n   'kernel': Array([[[-8.9558477e+00, -0.0000000e+00, -0.0000000e+00, -2.1394743e-02,\n             4.9518600e+00,  7.8320141e+00, -6.7788649e+00, -3.8522758e+00,\n            -0.0000000e+00,  1.2459565e+01],\n           [-4.4779239e+00, -0.0000000e+00, -0.0000000e+00, -1.0697371e-02,\n             2.4759300e+00,  3.9160070e+00, -3.3894324e+00, -1.9261379e+00,\n            -0.0000000e+00,  6.2297826e+00],\n           [-1.3433770e+01, -0.0000000e+00, -0.0000000e+00, -3.2092113e-02,\n             7.4277902e+00,  1.1748021e+01, -1.0168297e+01, -5.7784138e+00,\n            -0.0000000e+00,  1.8689348e+01],\n           [-1.7911695e+01, -0.0000000e+00, -0.0000000e+00, -4.2789485e-02,\n             9.9037199e+00,  1.5664028e+01, -1.3557730e+01, -7.7045517e+00,\n            -0.0000000e+00,  2.4919130e+01],\n           [-8.9558477e+00, -0.0000000e+00, -0.0000000e+00, -2.1394743e-02,\n             4.9518600e+00,  7.8320141e+00, -6.7788649e+00, -3.8522758e+00,\n            -0.0000000e+00,  1.2459565e+01]]], dtype=float32)},\n  'W2': {'bias': Array([[-21.42035]], dtype=float32),\n   'kernel': Array([[[ -8.798853 ],\n           [ -0.       ],\n           [ -0.       ],\n           [ -3.4016829],\n           [-32.91514  ],\n           [ -3.2510474],\n           [ -6.9270926],\n           [ -8.670431 ],\n           [ -0.       ],\n           [-23.807373 ]]], dtype=float32)}}}"
     },
     "execution_count": 98,
     "metadata": {},
     "output_type": "execute_result"
    }
   ],
   "source": [
    "loss_jacobian = jax.jacfwd(mse_loss, argnums=0)(params, model, evaluation_point, evaluation_target)\n",
    "loss_jacobian"
   ],
   "metadata": {
    "collapsed": false,
    "ExecuteTime": {
     "end_time": "2023-09-15T18:30:36.970101473Z",
     "start_time": "2023-09-15T18:30:36.896715638Z"
    }
   },
   "id": "5976227f439c667c"
  },
  {
   "cell_type": "code",
   "execution_count": 99,
   "outputs": [
    {
     "data": {
      "text/plain": "(1, 5, 10)"
     },
     "execution_count": 99,
     "metadata": {},
     "output_type": "execute_result"
    }
   ],
   "source": [
    "loss_jacobian[\"params\"][\"W1\"][\"kernel\"].shape"
   ],
   "metadata": {
    "collapsed": false,
    "ExecuteTime": {
     "end_time": "2023-09-15T18:30:36.970331030Z",
     "start_time": "2023-09-15T18:30:36.944357721Z"
    }
   },
   "id": "ddb367b81fd3b480"
  },
  {
   "cell_type": "code",
   "execution_count": 100,
   "outputs": [
    {
     "data": {
      "text/plain": "{'params': {'W1': {'bias': Array(0.5635056, dtype=float32),\n   'kernel': Array([-10.747017  ,   0.        ,   0.        ,  -0.02567369,\n            5.942232  ,   9.398417  ,  -8.134639  ,  -4.622731  ,\n            0.        ,  14.951479  ], dtype=float32)},\n  'W2': {'bias': Array(-21.42035, dtype=float32),\n   'kernel': Array([-8.777163], dtype=float32)}}}"
     },
     "execution_count": 100,
     "metadata": {},
     "output_type": "execute_result"
    }
   ],
   "source": [
    "gradients = jax.tree_map(lambda x: jnp.mean(x, axis=(0,1)), loss_jacobian)\n",
    "gradients"
   ],
   "metadata": {
    "collapsed": false,
    "ExecuteTime": {
     "end_time": "2023-09-15T18:30:36.970488922Z",
     "start_time": "2023-09-15T18:30:36.944449192Z"
    }
   },
   "id": "c654949ff8c7615b"
  },
  {
   "cell_type": "code",
   "execution_count": 101,
   "outputs": [
    {
     "data": {
      "text/plain": "(10,)"
     },
     "execution_count": 101,
     "metadata": {},
     "output_type": "execute_result"
    }
   ],
   "source": [
    "gradients[\"params\"][\"W1\"][\"kernel\"].shape"
   ],
   "metadata": {
    "collapsed": false,
    "ExecuteTime": {
     "end_time": "2023-09-15T18:30:36.970627783Z",
     "start_time": "2023-09-15T18:30:36.944509318Z"
    }
   },
   "id": "31bf86a686afb950"
  },
  {
   "cell_type": "code",
   "execution_count": 102,
   "outputs": [
    {
     "data": {
      "text/plain": "{'params': {'W1': {'bias': Array([[[-0.66623175, -0.        , -0.        , -0.        ,\n             0.36837232, -0.        , -0.        , -0.2865735 ,\n            -0.        ,  0.92687577]],\n   \n          [[-0.        , -0.05249464, -0.        , -0.        ,\n             0.02165239, -0.        , -0.02964111, -0.01684438,\n             0.00816006, -0.        ]],\n   \n          [[ 0.        ,  0.        ,  0.        ,  0.        ,\n            -0.263159  ,  0.        ,  0.36025238,  0.2047233 ,\n            -0.0991758 ,  0.        ]],\n   \n          [[ 0.        ,  0.        ,  0.        ,  0.        ,\n             0.        , -0.46606576,  0.        ,  0.22924037,\n             0.        ,  0.        ]],\n   \n          [[-0.        , -0.        , -0.        , -0.        ,\n            -0.        ,  0.4797673 , -0.        , -0.23597965,\n            -0.        , -0.        ]],\n   \n          [[ 0.        ,  0.        ,  0.        ,  0.        ,\n             0.        , -0.24109201,  0.        ,  0.11858417,\n             0.        ,  0.        ]],\n   \n          [[ 1.0858191 ,  0.        , -0.5009353 ,  0.        ,\n             0.        , -0.9495641 ,  0.        ,  0.        ,\n             0.        , -1.5106146 ]],\n   \n          [[ 2.2072804 ,  0.        , -1.018314  ,  0.005273  ,\n             0.        , -1.9302977 ,  0.        ,  0.        ,\n             0.        , -3.0708156 ]]], dtype=float32),\n   'kernel': Array([[[[-3.82093042e-02, -0.00000000e+00, -0.00000000e+00,\n             -0.00000000e+00,  2.11266559e-02, -0.00000000e+00,\n             -0.00000000e+00, -1.64353810e-02, -0.00000000e+00,\n              5.31575941e-02],\n            [-2.35423371e-01, -0.00000000e+00, -0.00000000e+00,\n             -0.00000000e+00,  1.30170092e-01, -0.00000000e+00,\n             -0.00000000e+00, -1.01265207e-01, -0.00000000e+00,\n              3.27525973e-01],\n            [ 2.53920462e-02, -0.00000000e+00, -0.00000000e+00,\n             -0.00000000e+00, -1.40397493e-02, -0.00000000e+00,\n             -0.00000000e+00,  1.09221572e-02, -0.00000000e+00,\n             -3.53259556e-02],\n            [-4.76279557e-01, -0.00000000e+00, -0.00000000e+00,\n             -0.00000000e+00,  2.63344109e-01, -0.00000000e+00,\n             -0.00000000e+00, -2.04867288e-01, -0.00000000e+00,\n              6.62610233e-01],\n            [-3.11533153e-01, -0.00000000e+00, -0.00000000e+00,\n             -0.00000000e+00,  1.72252655e-01, -0.00000000e+00,\n             -0.00000000e+00, -1.34003133e-01, -0.00000000e+00,\n              4.33411539e-01]]],\n   \n   \n          [[[-0.00000000e+00,  7.21701840e-03, -0.00000000e+00,\n             -0.00000000e+00, -2.97679380e-03, -0.00000000e+00,\n              4.07509133e-03,  2.31578248e-03, -1.12185359e-03,\n             -0.00000000e+00],\n            [-0.00000000e+00, -3.64475027e-02, -0.00000000e+00,\n             -0.00000000e+00,  1.50334509e-02, -0.00000000e+00,\n             -2.05800906e-02, -1.16952015e-02,  5.66560309e-03,\n             -0.00000000e+00],\n            [-0.00000000e+00, -3.72016914e-02, -0.00000000e+00,\n             -0.00000000e+00,  1.53445303e-02, -0.00000000e+00,\n             -2.10059453e-02, -1.19372038e-02,  5.78283845e-03,\n             -0.00000000e+00],\n            [-0.00000000e+00,  2.38137301e-02, -0.00000000e+00,\n             -0.00000000e+00, -9.82241612e-03, -0.00000000e+00,\n              1.34464279e-02,  7.64130149e-03, -3.70173901e-03,\n             -0.00000000e+00],\n            [-0.00000000e+00, -1.09114870e-02, -0.00000000e+00,\n             -0.00000000e+00,  4.50064614e-03, -0.00000000e+00,\n             -6.16117381e-03, -3.50125623e-03,  1.69614248e-03,\n             -0.00000000e+00]]],\n   \n   \n          [[[ 0.00000000e+00,  0.00000000e+00,  0.00000000e+00,\n              0.00000000e+00, -3.09316158e-01,  0.00000000e+00,\n              4.23439384e-01,  2.40631044e-01, -1.16570882e-01,\n              0.00000000e+00],\n            [ 0.00000000e+00,  0.00000000e+00,  0.00000000e+00,\n              0.00000000e+00, -3.99971865e-02,  0.00000000e+00,\n              5.47542796e-02,  3.11156232e-02, -1.50735974e-02,\n              0.00000000e+00],\n            [ 0.00000000e+00,  0.00000000e+00,  0.00000000e+00,\n              0.00000000e+00, -4.85495269e-01,  0.00000000e+00,\n              6.64620340e-01,  3.77688766e-01, -1.82966873e-01,\n              0.00000000e+00],\n            [ 0.00000000e+00,  0.00000000e+00,  0.00000000e+00,\n              0.00000000e+00,  4.58764564e-03,  0.00000000e+00,\n             -6.28027273e-03, -3.56893730e-03,  1.72892981e-03,\n              0.00000000e+00],\n            [ 0.00000000e+00,  0.00000000e+00,  0.00000000e+00,\n              0.00000000e+00, -1.56318247e-01,  0.00000000e+00,\n              2.13992372e-01,  1.21607035e-01, -5.89110963e-02,\n              0.00000000e+00]]],\n   \n   \n          [[[ 0.00000000e+00,  0.00000000e+00,  0.00000000e+00,\n              0.00000000e+00,  0.00000000e+00, -8.14635992e-01,\n              0.00000000e+00,  4.00689065e-01,  0.00000000e+00,\n              0.00000000e+00],\n            [ 0.00000000e+00,  0.00000000e+00,  0.00000000e+00,\n              0.00000000e+00,  0.00000000e+00, -6.55007288e-02,\n              0.00000000e+00,  3.22173685e-02,  0.00000000e+00,\n              0.00000000e+00],\n            [ 0.00000000e+00,  0.00000000e+00,  0.00000000e+00,\n              0.00000000e+00,  0.00000000e+00,  7.68352151e-01,\n              0.00000000e+00, -3.77923757e-01,  0.00000000e+00,\n              0.00000000e+00],\n            [ 0.00000000e+00,  0.00000000e+00,  0.00000000e+00,\n              0.00000000e+00,  0.00000000e+00,  1.86322611e-02,\n              0.00000000e+00, -9.16451495e-03,  0.00000000e+00,\n              0.00000000e+00],\n            [ 0.00000000e+00,  0.00000000e+00,  0.00000000e+00,\n              0.00000000e+00,  0.00000000e+00, -3.90176862e-01,\n              0.00000000e+00,  1.91913456e-01,  0.00000000e+00,\n              0.00000000e+00]]],\n   \n   \n          [[[-0.00000000e+00, -0.00000000e+00, -0.00000000e+00,\n             -0.00000000e+00, -0.00000000e+00,  5.73332131e-01,\n             -0.00000000e+00, -2.82000691e-01, -0.00000000e+00,\n             -0.00000000e+00],\n            [-0.00000000e+00, -0.00000000e+00, -0.00000000e+00,\n             -0.00000000e+00, -0.00000000e+00,  9.64466333e-02,\n             -0.00000000e+00, -4.74385023e-02, -0.00000000e+00,\n             -0.00000000e+00],\n            [-0.00000000e+00, -0.00000000e+00, -0.00000000e+00,\n             -0.00000000e+00, -0.00000000e+00, -9.30342376e-01,\n             -0.00000000e+00,  4.57600713e-01, -0.00000000e+00,\n             -0.00000000e+00],\n            [-0.00000000e+00, -0.00000000e+00, -0.00000000e+00,\n             -0.00000000e+00, -0.00000000e+00, -5.44074476e-01,\n             -0.00000000e+00,  2.67609924e-01, -0.00000000e+00,\n             -0.00000000e+00],\n            [-0.00000000e+00, -0.00000000e+00, -0.00000000e+00,\n             -0.00000000e+00, -0.00000000e+00,  6.50511503e-01,\n             -0.00000000e+00, -3.19962323e-01, -0.00000000e+00,\n             -0.00000000e+00]]],\n   \n   \n          [[[ 0.00000000e+00,  0.00000000e+00,  0.00000000e+00,\n              0.00000000e+00,  0.00000000e+00, -5.56434155e-01,\n              0.00000000e+00,  2.73689240e-01,  0.00000000e+00,\n              0.00000000e+00],\n            [ 0.00000000e+00,  0.00000000e+00,  0.00000000e+00,\n              0.00000000e+00,  0.00000000e+00, -1.38997678e-02,\n              0.00000000e+00,  6.83677802e-03,  0.00000000e+00,\n              0.00000000e+00],\n            [ 0.00000000e+00,  0.00000000e+00,  0.00000000e+00,\n              0.00000000e+00,  0.00000000e+00, -2.48196572e-02,\n              0.00000000e+00,  1.22078648e-02,  0.00000000e+00,\n              0.00000000e+00],\n            [ 0.00000000e+00,  0.00000000e+00,  0.00000000e+00,\n              0.00000000e+00,  0.00000000e+00, -3.36597174e-01,\n              0.00000000e+00,  1.65559605e-01,  0.00000000e+00,\n              0.00000000e+00],\n            [ 0.00000000e+00,  0.00000000e+00,  0.00000000e+00,\n              0.00000000e+00,  0.00000000e+00,  9.64328051e-02,\n              0.00000000e+00, -4.74317037e-02,  0.00000000e+00,\n              0.00000000e+00]]],\n   \n   \n          [[[ 1.43452847e+00,  0.00000000e+00, -6.61810040e-01,\n              0.00000000e+00,  0.00000000e+00, -1.25451529e+00,\n              0.00000000e+00,  0.00000000e+00,  0.00000000e+00,\n             -1.99574649e+00],\n            [-1.69453204e+00,  0.00000000e+00,  7.81760991e-01,\n              0.00000000e+00,  0.00000000e+00,  1.48189211e+00,\n              0.00000000e+00,  0.00000000e+00,  0.00000000e+00,\n              2.35746908e+00],\n            [-1.71033359e+00,  0.00000000e+00,  7.89050877e-01,\n              0.00000000e+00,  0.00000000e+00,  1.49571073e+00,\n              0.00000000e+00,  0.00000000e+00,  0.00000000e+00,\n              2.37945247e+00],\n            [ 1.71295911e-01,  0.00000000e+00, -7.90262148e-02,\n              0.00000000e+00,  0.00000000e+00, -1.49800673e-01,\n              0.00000000e+00,  0.00000000e+00,  0.00000000e+00,\n             -2.38310501e-01],\n            [ 7.67298758e-01,  0.00000000e+00, -3.53988111e-01,\n              0.00000000e+00,  0.00000000e+00, -6.71013534e-01,\n              0.00000000e+00,  0.00000000e+00,  0.00000000e+00,\n             -1.06748235e+00]]],\n   \n   \n          [[[ 1.20509303e+00,  0.00000000e+00, -5.55961549e-01,\n              2.87886267e-03,  0.00000000e+00, -1.05387080e+00,\n              0.00000000e+00,  0.00000000e+00,  0.00000000e+00,\n             -1.67655098e+00],\n            [-7.04774022e-01,  0.00000000e+00,  3.25142771e-01,\n             -1.68364414e-03,  0.00000000e+00,  6.16334796e-01,\n              0.00000000e+00,  0.00000000e+00,  0.00000000e+00,\n              9.80496645e-01],\n            [-6.56461477e-01,  0.00000000e+00,  3.02854091e-01,\n             -1.56822964e-03,  0.00000000e+00,  5.74084818e-01,\n              0.00000000e+00,  0.00000000e+00,  0.00000000e+00,\n              9.13283229e-01],\n            [ 2.45545149e+00,  0.00000000e+00, -1.13280606e+00,\n              5.86586073e-03,  0.00000000e+00, -2.14732695e+00,\n              0.00000000e+00,  0.00000000e+00,  0.00000000e+00,\n             -3.41607618e+00],\n            [-9.61205661e-01,  0.00000000e+00,  4.43445742e-01,\n             -2.29623704e-03,  0.00000000e+00,  8.40587795e-01,\n              0.00000000e+00,  0.00000000e+00,  0.00000000e+00,\n              1.33724976e+00]]]], dtype=float32)},\n  'W2': {'bias': Array([[[-1.5934747 ]],\n   \n          [[-0.09366214]],\n   \n          [[ 1.1383517 ]],\n   \n          [[ 1.2746774 ]],\n   \n          [[-1.3121507 ]],\n   \n          [[ 0.6593802 ]],\n   \n          [[ 2.5970323 ]],\n   \n          [[ 5.2793126 ]]], dtype=float32),\n   'kernel': Array([[[[-0.25093833],\n            [-0.        ],\n            [-0.        ],\n            [-0.        ],\n            [-0.66598815],\n            [-0.        ],\n            [-0.        ],\n            [-0.5119663 ],\n            [-0.        ],\n            [-0.91530675]]],\n   \n   \n          [[[-0.        ],\n            [-0.01739411],\n            [-0.        ],\n            [-0.        ],\n            [-0.04915452],\n            [-0.        ],\n            [-0.06137536],\n            [-0.03674269],\n            [-0.05941164],\n            [-0.        ]]],\n   \n   \n          [[[ 0.        ],\n            [ 0.        ],\n            [ 0.        ],\n            [ 0.        ],\n            [ 1.3263658 ],\n            [ 0.        ],\n            [ 0.8938407 ],\n            [ 0.00962524],\n            [ 0.507891  ],\n            [ 0.        ]]],\n   \n   \n          [[[ 0.        ],\n            [ 0.        ],\n            [ 0.        ],\n            [ 0.        ],\n            [ 0.        ],\n            [ 0.68259424],\n            [ 0.        ],\n            [ 0.9251982 ],\n            [ 0.        ],\n            [ 0.        ]]],\n   \n   \n          [[[-0.        ],\n            [-0.        ],\n            [-0.        ],\n            [-0.        ],\n            [-0.        ],\n            [-0.17841102],\n            [-0.        ],\n            [-0.79800034],\n            [-0.        ],\n            [-0.        ]]],\n   \n   \n          [[[ 0.        ],\n            [ 0.        ],\n            [ 0.        ],\n            [ 0.        ],\n            [ 0.        ],\n            [ 0.6385218 ],\n            [ 0.        ],\n            [ 0.4225901 ],\n            [ 0.        ],\n            [ 0.        ]]],\n   \n   \n          [[[ 0.34196436],\n            [ 0.        ],\n            [ 2.9523895 ],\n            [ 0.        ],\n            [ 0.        ],\n            [ 1.3683088 ],\n            [ 0.        ],\n            [ 0.        ],\n            [ 0.        ],\n            [ 0.4053859 ]]],\n   \n   \n          [[[ 1.9724052 ],\n            [ 0.        ],\n            [ 1.5463725 ],\n            [ 1.5818571 ],\n            [ 0.        ],\n            [ 2.4465616 ],\n            [ 0.        ],\n            [ 0.        ],\n            [ 0.        ],\n            [ 0.15224172]]]], dtype=float32)}}}"
     },
     "execution_count": 102,
     "metadata": {},
     "output_type": "execute_result"
    }
   ],
   "source": [
    "loss_jacobian = vmap(jax.jacfwd(mse_loss, argnums=0), in_axes=(None, None, 0, 0), out_axes=0)(params, model, x, y)\n",
    "loss_jacobian"
   ],
   "metadata": {
    "collapsed": false,
    "ExecuteTime": {
     "end_time": "2023-09-15T18:30:36.971160878Z",
     "start_time": "2023-09-15T18:30:36.944563199Z"
    }
   },
   "id": "b1a34132fbdc4d19"
  },
  {
   "cell_type": "code",
   "execution_count": 103,
   "outputs": [
    {
     "data": {
      "text/plain": "Array([0.18286781], dtype=float32)"
     },
     "execution_count": 103,
     "metadata": {},
     "output_type": "execute_result"
    }
   ],
   "source": [
    "loss_jacobian[\"params\"][\"W2\"][\"kernel\"].mean((0,1,2))"
   ],
   "metadata": {
    "collapsed": false,
    "ExecuteTime": {
     "end_time": "2023-09-15T18:30:37.020042506Z",
     "start_time": "2023-09-15T18:30:36.988276751Z"
    }
   },
   "id": "b530bb914bfff6de"
  },
  {
   "cell_type": "code",
   "execution_count": 104,
   "outputs": [
    {
     "data": {
      "text/plain": "{'params': {'W1': {'bias': Array(-5.3217983, dtype=float32),\n   'kernel': Array([-0.72969264, -0.05352993, -0.14133751,  0.00319661, -0.39160612,\n          -1.7406905 ,  1.3203003 ,  1.0290507 , -0.36347252,  1.0151639 ],      dtype=float32)},\n  'W2': {'bias': Array(7.9494667, dtype=float32),\n   'kernel': Array([14.629424], dtype=float32)}}}"
     },
     "execution_count": 104,
     "metadata": {},
     "output_type": "execute_result"
    }
   ],
   "source": [
    "gradients = jax.tree_map(lambda x: jnp.sum(x, axis=(0, 1,2)), loss_jacobian)\n",
    "gradients"
   ],
   "metadata": {
    "collapsed": false,
    "ExecuteTime": {
     "end_time": "2023-09-15T18:30:37.020244391Z",
     "start_time": "2023-09-15T18:30:36.988376167Z"
    }
   },
   "id": "f07686d30cedbf20"
  },
  {
   "cell_type": "code",
   "execution_count": 105,
   "outputs": [],
   "source": [
    "updates, opt_state = optimizer.update(loss_jacobian, opt_state)"
   ],
   "metadata": {
    "collapsed": false,
    "ExecuteTime": {
     "end_time": "2023-09-15T18:30:37.020318838Z",
     "start_time": "2023-09-15T18:30:36.988449636Z"
    }
   },
   "id": "fec2cbcc663c272b"
  },
  {
   "cell_type": "code",
   "execution_count": 106,
   "outputs": [
    {
     "data": {
      "text/plain": "{'params': {'W1': {'bias': Array([[[ 0.00030001,  0.        ,  0.        ,  0.        ,\n            -0.00030001,  0.        ,  0.        ,  0.00030001,\n             0.        , -0.00030001]],\n   \n          [[ 0.        ,  0.00030001,  0.        ,  0.        ,\n            -0.00030001,  0.        ,  0.00030001,  0.00030001,\n            -0.00030001,  0.        ]],\n   \n          [[ 0.        ,  0.        ,  0.        ,  0.        ,\n             0.00030001,  0.        , -0.00030001, -0.00030001,\n             0.00030001,  0.        ]],\n   \n          [[ 0.        ,  0.        ,  0.        ,  0.        ,\n             0.        ,  0.00030001,  0.        , -0.00030001,\n             0.        ,  0.        ]],\n   \n          [[ 0.        ,  0.        ,  0.        ,  0.        ,\n             0.        , -0.00030001,  0.        ,  0.00030001,\n             0.        ,  0.        ]],\n   \n          [[ 0.        ,  0.        ,  0.        ,  0.        ,\n             0.        ,  0.00030001,  0.        , -0.00030001,\n             0.        ,  0.        ]],\n   \n          [[-0.00030001,  0.        ,  0.00030001,  0.        ,\n             0.        ,  0.00030001,  0.        ,  0.        ,\n             0.        ,  0.00030001]],\n   \n          [[-0.00030001,  0.        ,  0.00030001, -0.00030001,\n             0.        ,  0.00030001,  0.        ,  0.        ,\n             0.        ,  0.00030001]]], dtype=float32),\n   'kernel': Array([[[[-0.3387521 , -0.38618842, -0.37304303, -0.6750956 ,\n             -0.04973018,  0.3060549 , -0.08309075,  0.2181886 ,\n             -0.7418178 , -0.37605062],\n            [-0.36957738, -0.15255351, -0.960544  , -0.57517314,\n              0.16028637, -0.04420064,  0.35853094,  0.8495274 ,\n             -0.04865615, -0.07045151],\n            [ 0.05014071, -0.0668437 , -0.22209524,  0.29612234,\n              0.433306  , -0.11999331,  0.52359056, -0.17856865,\n              0.79131854, -0.00837581],\n            [ 0.4186449 , -0.8754567 , -0.00929309,  0.43742403,\n              0.08979784,  0.13479516, -0.16091733,  0.05460981,\n             -0.11698364,  0.44216418],\n            [ 0.02271075, -0.53514975, -0.3080976 , -0.19754328,\n              0.6757619 , -0.22178113, -0.23633747, -0.0786435 ,\n             -0.22968414,  0.6500489 ]]],\n   \n   \n          [[[-0.3390521 , -0.38648844, -0.37304303, -0.6750956 ,\n             -0.04913017,  0.3060549 , -0.08339076,  0.21758859,\n             -0.7415178 , -0.3757506 ],\n            [-0.3698774 , -0.15225351, -0.960544  , -0.57517314,\n              0.16028637, -0.04420064,  0.35883096,  0.8495274 ,\n             -0.04895615, -0.07015151],\n            [ 0.05044071, -0.0665437 , -0.22209524,  0.29612234,\n              0.43270597, -0.11999331,  0.52389055, -0.17796864,\n              0.79101855, -0.00867582],\n            [ 0.4183449 , -0.8757567 , -0.00929309,  0.43742403,\n              0.09039785,  0.13479516, -0.16121733,  0.0540098 ,\n             -0.11668364,  0.4424642 ],\n            [ 0.02241074, -0.53484976, -0.3080976 , -0.19754328,\n              0.6757619 , -0.22178113, -0.23603746, -0.0786435 ,\n             -0.22998415,  0.6503489 ]]],\n   \n   \n          [[[-0.3390521 , -0.38618842, -0.37304303, -0.6750956 ,\n             -0.04913017,  0.3060549 , -0.08339076,  0.21758859,\n             -0.7415178 , -0.3757506 ],\n            [-0.3698774 , -0.15255351, -0.960544  , -0.57517314,\n              0.16088638, -0.04420064,  0.35823092,  0.84892744,\n             -0.04835614, -0.07015151],\n            [ 0.05044071, -0.0668437 , -0.22209524,  0.29612234,\n              0.433306  , -0.11999331,  0.5232906 , -0.17856865,\n              0.7916185 , -0.00867582],\n            [ 0.4183449 , -0.8754567 , -0.00929309,  0.43742403,\n              0.08979784,  0.13479516, -0.16061732,  0.05460981,\n             -0.11728365,  0.4424642 ],\n            [ 0.02241074, -0.53514975, -0.3080976 , -0.19754328,\n              0.67636186, -0.22178113, -0.23663747, -0.07924351,\n             -0.22938414,  0.6503489 ]]],\n   \n   \n          [[[-0.3390521 , -0.38618842, -0.37304303, -0.6750956 ,\n             -0.04943017,  0.3063549 , -0.08309075,  0.21758859,\n             -0.7418178 , -0.3757506 ],\n            [-0.3698774 , -0.15255351, -0.960544  , -0.57517314,\n              0.16058637, -0.04390064,  0.35853094,  0.84892744,\n             -0.04865615, -0.07015151],\n            [ 0.05044071, -0.0668437 , -0.22209524,  0.29612234,\n              0.433006  , -0.12029331,  0.52359056, -0.17796864,\n              0.79131854, -0.00867582],\n            [ 0.4183449 , -0.8754567 , -0.00929309,  0.43742403,\n              0.09009784,  0.13449515, -0.16091733,  0.05460981,\n             -0.11698364,  0.4424642 ],\n            [ 0.02241074, -0.53514975, -0.3080976 , -0.19754328,\n              0.67606187, -0.22148113, -0.23633747, -0.07924351,\n             -0.22968414,  0.6503489 ]]],\n   \n   \n          [[[-0.3390521 , -0.38618842, -0.37304303, -0.6750956 ,\n             -0.04943017,  0.30575487, -0.08309075,  0.2181886 ,\n             -0.7418178 , -0.3757506 ],\n            [-0.3698774 , -0.15255351, -0.960544  , -0.57517314,\n              0.16058637, -0.04450065,  0.35853094,  0.8495274 ,\n             -0.04865615, -0.07015151],\n            [ 0.05044071, -0.0668437 , -0.22209524,  0.29612234,\n              0.433006  , -0.1196933 ,  0.52359056, -0.17856865,\n              0.79131854, -0.00867582],\n            [ 0.4183449 , -0.8754567 , -0.00929309,  0.43742403,\n              0.09009784,  0.13509516, -0.16091733,  0.0540098 ,\n             -0.11698364,  0.4424642 ],\n            [ 0.02241074, -0.53514975, -0.3080976 , -0.19754328,\n              0.67606187, -0.22208114, -0.23633747, -0.0786435 ,\n             -0.22968414,  0.6503489 ]]],\n   \n   \n          [[[-0.3390521 , -0.38618842, -0.37304303, -0.6750956 ,\n             -0.04943017,  0.3063549 , -0.08309075,  0.21758859,\n             -0.7418178 , -0.3757506 ],\n            [-0.3698774 , -0.15255351, -0.960544  , -0.57517314,\n              0.16058637, -0.04390064,  0.35853094,  0.84892744,\n             -0.04865615, -0.07015151],\n            [ 0.05044071, -0.0668437 , -0.22209524,  0.29612234,\n              0.433006  , -0.1196933 ,  0.52359056, -0.17856865,\n              0.79131854, -0.00867582],\n            [ 0.4183449 , -0.8754567 , -0.00929309,  0.43742403,\n              0.09009784,  0.13509516, -0.16091733,  0.0540098 ,\n             -0.11698364,  0.4424642 ],\n            [ 0.02241074, -0.53514975, -0.3080976 , -0.19754328,\n              0.67606187, -0.22208114, -0.23633747, -0.0786435 ,\n             -0.22968414,  0.6503489 ]]],\n   \n   \n          [[[-0.33935213, -0.38618842, -0.372743  , -0.6750956 ,\n             -0.04943017,  0.3063549 , -0.08309075,  0.2178886 ,\n             -0.7418178 , -0.37545058],\n            [-0.36957738, -0.15255351, -0.960844  , -0.57517314,\n              0.16058637, -0.04450065,  0.35853094,  0.8492274 ,\n             -0.04865615, -0.07045151],\n            [ 0.05074072, -0.0668437 , -0.22239524,  0.29612234,\n              0.433006  , -0.12029331,  0.52359056, -0.17826864,\n              0.79131854, -0.00897582],\n            [ 0.41804487, -0.8754567 , -0.00899309,  0.43742403,\n              0.09009784,  0.13509516, -0.16091733,  0.0543098 ,\n             -0.11698364,  0.44276422],\n            [ 0.02211074, -0.53514975, -0.30779758, -0.19754328,\n              0.67606187, -0.22148113, -0.23633747, -0.07894351,\n             -0.22968414,  0.6506489 ]]],\n   \n   \n          [[[-0.33935213, -0.38618842, -0.372743  , -0.6753956 ,\n             -0.04943017,  0.3063549 , -0.08309075,  0.2178886 ,\n             -0.7418178 , -0.37545058],\n            [-0.36957738, -0.15255351, -0.960844  , -0.57487315,\n              0.16058637, -0.04450065,  0.35853094,  0.8492274 ,\n             -0.04865615, -0.07045151],\n            [ 0.05074072, -0.0668437 , -0.22239524,  0.29642233,\n              0.433006  , -0.12029331,  0.52359056, -0.17826864,\n              0.79131854, -0.00897582],\n            [ 0.41804487, -0.8754567 , -0.00899309,  0.437124  ,\n              0.09009784,  0.13509516, -0.16091733,  0.0543098 ,\n             -0.11698364,  0.44276422],\n            [ 0.02271075, -0.53514975, -0.30839762, -0.19724327,\n              0.67606187, -0.22208114, -0.23633747, -0.07894351,\n             -0.22968414,  0.6500489 ]]]], dtype=float32)},\n  'W2': {'bias': Array([[[ 0.00030001]],\n   \n          [[ 0.00030001]],\n   \n          [[-0.00030001]],\n   \n          [[-0.00030001]],\n   \n          [[ 0.00030001]],\n   \n          [[-0.00030001]],\n   \n          [[-0.00030001]],\n   \n          [[-0.00030001]]], dtype=float32),\n   'kernel': Array([[[[ 0.4184    ],\n            [ 0.5604681 ],\n            [-0.1928876 ],\n            [ 0.0009988 ],\n            [-0.23087549],\n            [-0.3656343 ],\n            [ 0.31646845],\n            [ 0.18014188],\n            [-0.08712228],\n            [-0.5813696 ]]],\n   \n   \n          [[[ 0.41809997],\n            [ 0.56076807],\n            [-0.1928876 ],\n            [ 0.0009988 ],\n            [-0.23087549],\n            [-0.3656343 ],\n            [ 0.31676847],\n            [ 0.18014188],\n            [-0.08682228],\n            [-0.58166957]]],\n   \n   \n          [[[ 0.41809997],\n            [ 0.5604681 ],\n            [-0.1928876 ],\n            [ 0.0009988 ],\n            [-0.2314755 ],\n            [-0.3656343 ],\n            [ 0.31616843],\n            [ 0.17954187],\n            [-0.08742229],\n            [-0.58166957]]],\n   \n   \n          [[[ 0.41809997],\n            [ 0.5604681 ],\n            [-0.1928876 ],\n            [ 0.0009988 ],\n            [-0.2311755 ],\n            [-0.3659343 ],\n            [ 0.31646845],\n            [ 0.17954187],\n            [-0.08712228],\n            [-0.58166957]]],\n   \n   \n          [[[ 0.41809997],\n            [ 0.5604681 ],\n            [-0.1928876 ],\n            [ 0.0009988 ],\n            [-0.2311755 ],\n            [-0.36533427],\n            [ 0.31646845],\n            [ 0.18014188],\n            [-0.08712228],\n            [-0.58166957]]],\n   \n   \n          [[[ 0.41809997],\n            [ 0.5604681 ],\n            [-0.1928876 ],\n            [ 0.0009988 ],\n            [-0.2311755 ],\n            [-0.3659343 ],\n            [ 0.31646845],\n            [ 0.17954187],\n            [-0.08712228],\n            [-0.58166957]]],\n   \n   \n          [[[ 0.41779995],\n            [ 0.5604681 ],\n            [-0.19318761],\n            [ 0.0009988 ],\n            [-0.2311755 ],\n            [-0.3659343 ],\n            [ 0.31646845],\n            [ 0.17984188],\n            [-0.08712228],\n            [-0.58196956]]],\n   \n   \n          [[[ 0.41779995],\n            [ 0.5604681 ],\n            [-0.19318761],\n            [ 0.0006988 ],\n            [-0.2311755 ],\n            [-0.3659343 ],\n            [ 0.31646845],\n            [ 0.17984188],\n            [-0.08712228],\n            [-0.58196956]]]], dtype=float32)}}}"
     },
     "execution_count": 106,
     "metadata": {},
     "output_type": "execute_result"
    }
   ],
   "source": [
    "params = optax.apply_updates(params, updates)\n",
    "params"
   ],
   "metadata": {
    "collapsed": false,
    "ExecuteTime": {
     "end_time": "2023-09-15T18:30:37.020799530Z",
     "start_time": "2023-09-15T18:30:36.988498104Z"
    }
   },
   "id": "7ea2afd371a7e722"
  },
  {
   "cell_type": "code",
   "execution_count": 107,
   "outputs": [
    {
     "data": {
      "text/plain": "{'params': {'W1': {'bias': Array(-5.3217983, dtype=float32),\n   'kernel': Array([-0.72969264, -0.05352993, -0.14133751,  0.00319661, -0.39160612,\n          -1.7406905 ,  1.3203003 ,  1.0290507 , -0.36347252,  1.0151639 ],      dtype=float32)},\n  'W2': {'bias': Array(7.9494667, dtype=float32),\n   'kernel': Array([14.629424], dtype=float32)}}}"
     },
     "execution_count": 107,
     "metadata": {},
     "output_type": "execute_result"
    }
   ],
   "source": [
    "gradients"
   ],
   "metadata": {
    "collapsed": false,
    "ExecuteTime": {
     "end_time": "2023-09-15T18:30:37.020957634Z",
     "start_time": "2023-09-15T18:30:36.988639876Z"
    }
   },
   "id": "173ea93b0c44ba15"
  },
  {
   "cell_type": "code",
   "execution_count": 108,
   "outputs": [],
   "source": [
    "model2 = JaxNet()\n",
    "params2 = model.init(random.PRNGKey(42), x[0])\n",
    "\n",
    "optimizer_def = optax.adam(learning_rate=1e-3)\n",
    "optimizer = optimizer_def.init(params2)\n",
    "\n",
    "def loss_fn(params2, x, y):\n",
    "    preds = model.apply(params2, x)\n",
    "    loss = jnp.mean((preds - y)**2)\n",
    "    return loss\n",
    "\n",
    "grad_fn = jax.jit(jax.grad(loss_fn))\n",
    "\n",
    "grads = grad_fn(params2, x, y)"
   ],
   "metadata": {
    "collapsed": false,
    "ExecuteTime": {
     "end_time": "2023-09-15T18:30:37.072491664Z",
     "start_time": "2023-09-15T18:30:36.988695963Z"
    }
   },
   "id": "4fa31b15f7026883"
  },
  {
   "cell_type": "code",
   "execution_count": 109,
   "outputs": [
    {
     "data": {
      "text/plain": "{'params': {'W1': {'bias': Array([ 0.32835847, -0.00656183, -0.18990617,  0.00065913,  0.01585821,\n          -0.38840654,  0.04132641,  0.00164379, -0.01137697, -0.4568193 ],      dtype=float32),\n   'kernel': Array([[ 3.2517651e-01,  9.0212730e-04, -1.5222144e-01,  3.5985786e-04,\n           -3.6395788e-02, -3.8826552e-01,  5.3439308e-02,  7.7361137e-02,\n           -1.4711591e-02, -4.5239249e-01],\n          [-3.2934120e-01, -4.5559378e-03,  1.3836296e-01, -2.1045552e-04,\n            1.3150794e-02,  2.6440915e-01,  4.2717736e-03, -1.1278642e-02,\n           -1.1759993e-03,  4.5818645e-01],\n          [-2.9267538e-01, -4.6502114e-03,  1.3648811e-01, -1.9602870e-04,\n           -6.0523812e-02,  2.3537321e-01,  8.0451801e-02,  5.8569815e-02,\n           -2.2148004e-02,  4.0717623e-01],\n          [ 2.6880848e-01,  2.9767163e-03, -1.5147904e-01,  7.3323259e-04,\n            3.2263666e-02, -3.9489585e-01,  8.9576939e-04,  2.7901260e-02,\n           -2.4660115e-04, -3.7397209e-01],\n          [-6.3180000e-02, -1.3639359e-03,  1.1182206e-02, -2.8702963e-04,\n            2.5543829e-03,  6.5792710e-02,  2.5978897e-02, -2.3922244e-02,\n           -7.1518691e-03,  8.7897368e-02]], dtype=float32)},\n  'W2': {'bias': Array([0.99368334], dtype=float32),\n   'kernel': Array([[ 0.2579289 ],\n          [-0.00217426],\n          [ 0.56234527],\n          [ 0.19773214],\n          [ 0.0764029 ],\n          [ 0.6196969 ],\n          [ 0.10405816],\n          [ 0.00133803],\n          [ 0.05605992],\n          [-0.04470989]], dtype=float32)}}}"
     },
     "execution_count": 109,
     "metadata": {},
     "output_type": "execute_result"
    }
   ],
   "source": [
    "grads"
   ],
   "metadata": {
    "collapsed": false,
    "ExecuteTime": {
     "end_time": "2023-09-15T18:30:37.101261021Z",
     "start_time": "2023-09-15T18:30:37.059952700Z"
    }
   },
   "id": "8d05cb2f94d9d929"
  },
  {
   "cell_type": "code",
   "execution_count": 110,
   "outputs": [
    {
     "ename": "AttributeError",
     "evalue": "'tuple' object has no attribute 'update'",
     "output_type": "error",
     "traceback": [
      "\u001B[0;31m---------------------------------------------------------------------------\u001B[0m",
      "\u001B[0;31mAttributeError\u001B[0m                            Traceback (most recent call last)",
      "Cell \u001B[0;32mIn[110], line 1\u001B[0m\n\u001B[0;32m----> 1\u001B[0m updates, optimizer_state \u001B[38;5;241m=\u001B[39m \u001B[43moptimizer\u001B[49m\u001B[38;5;241;43m.\u001B[39;49m\u001B[43mupdate\u001B[49m(grads, optimizer\u001B[38;5;241m.\u001B[39mstate)\n\u001B[1;32m      2\u001B[0m updates\n",
      "\u001B[0;31mAttributeError\u001B[0m: 'tuple' object has no attribute 'update'"
     ]
    }
   ],
   "source": [
    "updates, optimizer_state = optimizer.update(grads, optimizer.state)\n",
    "updates"
   ],
   "metadata": {
    "collapsed": false,
    "ExecuteTime": {
     "end_time": "2023-09-15T18:30:37.101432077Z",
     "start_time": "2023-09-15T18:30:37.100360375Z"
    }
   },
   "id": "ca6d60a2a4d376a2"
  },
  {
   "cell_type": "code",
   "execution_count": null,
   "outputs": [],
   "source": [
    "gradients[\"params\"][\"W2\"][\"kernel\"] == params2[\"params\"][\"W2\"][\"kernel\"]"
   ],
   "metadata": {
    "collapsed": false,
    "ExecuteTime": {
     "start_time": "2023-09-15T18:30:37.100457622Z"
    }
   },
   "id": "9579ed4301d784b3"
  }
 ],
 "metadata": {
  "kernelspec": {
   "display_name": "Python 3",
   "language": "python",
   "name": "python3"
  },
  "language_info": {
   "codemirror_mode": {
    "name": "ipython",
    "version": 2
   },
   "file_extension": ".py",
   "mimetype": "text/x-python",
   "name": "python",
   "nbconvert_exporter": "python",
   "pygments_lexer": "ipython2",
   "version": "2.7.6"
  }
 },
 "nbformat": 4,
 "nbformat_minor": 5
}
