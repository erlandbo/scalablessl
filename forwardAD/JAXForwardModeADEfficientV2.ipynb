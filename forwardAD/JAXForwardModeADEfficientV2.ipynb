{
 "cells": [
  {
   "cell_type": "code",
   "execution_count": 1,
   "id": "initial_id",
   "metadata": {
    "collapsed": true,
    "ExecuteTime": {
     "end_time": "2023-09-15T18:32:36.813611190Z",
     "start_time": "2023-09-15T18:32:36.292259948Z"
    }
   },
   "outputs": [],
   "source": [
    "import jax\n",
    "import jax.numpy as jnp\n",
    "from jax import random, vmap\n",
    "from flax import linen as nn\n",
    "import optax"
   ]
  },
  {
   "cell_type": "markdown",
   "source": [
    "# Neural network"
   ],
   "metadata": {
    "collapsed": false
   },
   "id": "2d9ee70f437bfe2f"
  },
  {
   "cell_type": "code",
   "execution_count": 2,
   "outputs": [
    {
     "name": "stderr",
     "output_type": "stream",
     "text": [
      "2023-09-15 20:32:36.919205: W external/xla/xla/service/platform_util.cc:198] unable to create StreamExecutor for CUDA:0: failed initializing StreamExecutor for CUDA device ordinal 0: INTERNAL: failed call to cuDevicePrimaryCtxRetain: CUDA_ERROR_OUT_OF_MEMORY: out of memory; total memory reported: 25385107456\n",
      "No GPU/TPU found, falling back to CPU. (Set TF_CPP_MIN_LOG_LEVEL=0 and rerun for more info.)\n"
     ]
    }
   ],
   "source": [
    "batch_size = 8\n",
    "input_dim = 5\n",
    "x = random.normal(key=random.PRNGKey(42), shape=(batch_size, input_dim))\n",
    "y = random.normal(key=random.PRNGKey(42), shape=(batch_size, 1))"
   ],
   "metadata": {
    "collapsed": false,
    "ExecuteTime": {
     "end_time": "2023-09-15T18:32:37.112227099Z",
     "start_time": "2023-09-15T18:32:36.815559276Z"
    }
   },
   "id": "8c51d83320f35dd0"
  },
  {
   "cell_type": "code",
   "execution_count": 3,
   "outputs": [
    {
     "name": "stdout",
     "output_type": "stream",
     "text": [
      "(8, 5) (8, 1)\n"
     ]
    }
   ],
   "source": [
    "print(x.shape, y.shape)"
   ],
   "metadata": {
    "collapsed": false,
    "ExecuteTime": {
     "end_time": "2023-09-15T18:32:37.121604731Z",
     "start_time": "2023-09-15T18:32:37.114392891Z"
    }
   },
   "id": "d2805f37acd5c533"
  },
  {
   "cell_type": "code",
   "execution_count": 4,
   "outputs": [],
   "source": [
    "class JaxNet(nn.Module):\n",
    "    def setup(self):\n",
    "        self.W1 = nn.Dense(features=10)\n",
    "        self.W2 = nn.Dense(features=1)\n",
    "    \n",
    "    def __call__(self, x):\n",
    "        x = self.W1(x)\n",
    "        x = nn.relu(x)\n",
    "        x = self.W2(x)\n",
    "        return x\n",
    "    \n",
    "def mse_loss(params, model, x, y):\n",
    "    pred = model.apply(params, x)\n",
    "    return (pred - y) ** 2\n"
   ],
   "metadata": {
    "collapsed": false,
    "ExecuteTime": {
     "end_time": "2023-09-15T18:32:37.121709629Z",
     "start_time": "2023-09-15T18:32:37.116792990Z"
    }
   },
   "id": "5e16f968025b772d"
  },
  {
   "cell_type": "code",
   "execution_count": 5,
   "outputs": [],
   "source": [
    "model = JaxNet()\n",
    "params = model.init(random.PRNGKey(42), x[0])\n",
    "\n",
    "optimizer = optax.adam(learning_rate=3e-4)\n",
    "opt_state = optimizer.init(params)"
   ],
   "metadata": {
    "collapsed": false,
    "ExecuteTime": {
     "end_time": "2023-09-15T18:32:37.528209105Z",
     "start_time": "2023-09-15T18:32:37.121667520Z"
    }
   },
   "id": "36b56ecc1b24f862"
  },
  {
   "cell_type": "markdown",
   "source": [
    "# Using jvp and loops"
   ],
   "metadata": {
    "collapsed": false
   },
   "id": "c7da2e46dcffcc9a"
  },
  {
   "cell_type": "code",
   "execution_count": 6,
   "outputs": [],
   "source": [
    "flat_params, unravel_fn = jax.flatten_util.ravel_pytree(params)\n",
    "jacobian_matrix = jnp.zeros((len(flat_params), 1))"
   ],
   "metadata": {
    "collapsed": false,
    "ExecuteTime": {
     "end_time": "2023-09-15T18:32:37.558823001Z",
     "start_time": "2023-09-15T18:32:37.530757468Z"
    }
   },
   "id": "5068e425aef60cae"
  },
  {
   "cell_type": "code",
   "execution_count": 7,
   "outputs": [
    {
     "name": "stdout",
     "output_type": "stream",
     "text": [
      "[114.70784] [-8.955847]\n"
     ]
    }
   ],
   "source": [
    "evaluation_point = jnp.array([1.0, 0.5, 1.5, 2.0, 1.0])\n",
    "evaluation_target = jnp.array([10])\n",
    "basis_vector = jnp.zeros((len(flat_params)))\n",
    "basis_vector = basis_vector.at[0].set(1.0)\n",
    "\n",
    "primal, tangent = jax.jvp(lambda par: mse_loss(unravel_fn(par), model, evaluation_point, evaluation_target), (flat_params,), (basis_vector,))\n",
    "print(primal, tangent)\n",
    "jacobian_matrix = jacobian_matrix.at[0].set(tangent)"
   ],
   "metadata": {
    "collapsed": false,
    "ExecuteTime": {
     "end_time": "2023-09-15T18:32:37.729570498Z",
     "start_time": "2023-09-15T18:32:37.563368445Z"
    }
   },
   "id": "786f87d44f5f5047"
  },
  {
   "cell_type": "code",
   "execution_count": 8,
   "outputs": [
    {
     "data": {
      "text/plain": "(71,)"
     },
     "execution_count": 8,
     "metadata": {},
     "output_type": "execute_result"
    }
   ],
   "source": [
    "flat_params.shape"
   ],
   "metadata": {
    "collapsed": false,
    "ExecuteTime": {
     "end_time": "2023-09-15T18:32:37.737066910Z",
     "start_time": "2023-09-15T18:32:37.731885946Z"
    }
   },
   "id": "46193be59c9c05f4"
  },
  {
   "cell_type": "code",
   "execution_count": 9,
   "outputs": [
    {
     "data": {
      "text/plain": "{'params': {'W1': {'bias': Array([-8.955847,  0.      ,  0.      ,  0.      ,  0.      ,  0.      ,\n           0.      ,  0.      ,  0.      ,  0.      ], dtype=float32),\n   'kernel': Array([[0., 0., 0., 0., 0., 0., 0., 0., 0., 0.],\n          [0., 0., 0., 0., 0., 0., 0., 0., 0., 0.],\n          [0., 0., 0., 0., 0., 0., 0., 0., 0., 0.],\n          [0., 0., 0., 0., 0., 0., 0., 0., 0., 0.],\n          [0., 0., 0., 0., 0., 0., 0., 0., 0., 0.]], dtype=float32)},\n  'W2': {'bias': Array([0.], dtype=float32),\n   'kernel': Array([[0.],\n          [0.],\n          [0.],\n          [0.],\n          [0.],\n          [0.],\n          [0.],\n          [0.],\n          [0.],\n          [0.]], dtype=float32)}}}"
     },
     "execution_count": 9,
     "metadata": {},
     "output_type": "execute_result"
    }
   ],
   "source": [
    "unravel_fn(jacobian_matrix)"
   ],
   "metadata": {
    "collapsed": false,
    "ExecuteTime": {
     "end_time": "2023-09-15T18:32:37.824438725Z",
     "start_time": "2023-09-15T18:32:37.734173980Z"
    }
   },
   "id": "8ebd820136eb9fb2"
  },
  {
   "cell_type": "code",
   "execution_count": 10,
   "outputs": [],
   "source": [
    "def loop_jvp(flat_params, model, x_point, y_point):\n",
    "    basis_vector = jnp.zeros((len(flat_params)))\n",
    "    jacobian_matrix = jnp.zeros((len(flat_params), 1))\n",
    "    for i in range(len(flat_params)):\n",
    "        e_i = basis_vector.at[i].set(1.0)\n",
    "        primal, tangent = jax.jvp(lambda par: mse_loss(unravel_fn(par), model, x_point, y_point), (flat_params,), (e_i,))\n",
    "        jacobian_matrix = jacobian_matrix.at[i].set(tangent)\n",
    "    return jacobian_matrix"
   ],
   "metadata": {
    "collapsed": false,
    "ExecuteTime": {
     "end_time": "2023-09-15T18:32:37.824562442Z",
     "start_time": "2023-09-15T18:32:37.824335508Z"
    }
   },
   "id": "88db89781055ce41"
  },
  {
   "cell_type": "code",
   "execution_count": 11,
   "outputs": [],
   "source": [
    "jacobian_sum = jnp.zeros((len(flat_params), 1))\n",
    "l = []\n",
    "for i in range(batch_size):\n",
    "    jacobian = loop_jvp(flat_params, model, x[i], y[i])\n",
    "    jacobian_sum += jacobian\n",
    "    l.append(jacobian)\n",
    "    #jacobians = vmap(loop_jvp, in_axes=(None, None, 0, 0), out_axes=0)(flat_params, model, x, y)\n",
    "# jacobian_matrix /= len(flat_params)"
   ],
   "metadata": {
    "collapsed": false,
    "ExecuteTime": {
     "end_time": "2023-09-15T18:32:44.079057981Z",
     "start_time": "2023-09-15T18:32:37.824419103Z"
    }
   },
   "id": "f8fb6a2636a5e663"
  },
  {
   "cell_type": "code",
   "execution_count": 12,
   "outputs": [
    {
     "data": {
      "text/plain": "Array([[ 2.62686777e+00],\n       [-5.24947122e-02],\n       [-1.51924896e+00],\n       [ 5.27301896e-03],\n       [ 1.26865625e-01],\n       [-3.10725188e+00],\n       [ 3.30611289e-01],\n       [ 1.31503940e-02],\n       [-9.10157487e-02],\n       [-3.65455389e+00],\n       [ 2.60141182e+00],\n       [ 7.21702864e-03],\n       [-1.21777129e+00],\n       [ 2.87887221e-03],\n       [-2.91166365e-01],\n       [-3.10612392e+00],\n       [ 4.27514523e-01],\n       [ 6.18888974e-01],\n       [-1.17692761e-01],\n       [-3.61913967e+00],\n       [-2.63472939e+00],\n       [-3.64475511e-02],\n       [ 1.10690355e+00],\n       [-1.68364972e-03],\n       [ 1.05206363e-01],\n       [ 2.11527300e+00],\n       [ 3.41741666e-02],\n       [-9.02291238e-02],\n       [-9.40798968e-03],\n       [ 3.66549134e+00],\n       [-2.34140325e+00],\n       [-3.72017436e-02],\n       [ 1.09190488e+00],\n       [-1.56823487e-03],\n       [-4.84190583e-01],\n       [ 1.88298571e+00],\n       [ 6.43614411e-01],\n       [ 4.68558490e-01],\n       [-1.77184075e-01],\n       [ 3.25740981e+00],\n       [ 2.15046763e+00],\n       [ 2.38137618e-02],\n       [-1.21183181e+00],\n       [ 5.86587982e-03],\n       [ 2.58109301e-01],\n       [-3.15916657e+00],\n       [ 7.16617471e-03],\n       [ 2.23210096e-01],\n       [-1.97281456e-03],\n       [-2.99177599e+00],\n       [-5.05439818e-01],\n       [-1.09115029e-02],\n       [ 8.94575417e-02],\n       [-2.29624449e-03],\n       [ 2.04350166e-02],\n       [ 5.26341617e-01],\n       [ 2.07831204e-01],\n       [-1.91377938e-01],\n       [-5.72149605e-02],\n       [ 7.03178644e-01],\n       [ 7.94946671e+00],\n       [ 2.06343102e+00],\n       [-1.73941348e-02],\n       [ 4.49876165e+00],\n       [ 1.58185673e+00],\n       [ 6.11223221e-01],\n       [ 4.95757532e+00],\n       [ 8.32465470e-01],\n       [ 1.07040405e-02],\n       [ 4.48478878e-01],\n       [-3.57678711e-01]], dtype=float32)"
     },
     "execution_count": 12,
     "metadata": {},
     "output_type": "execute_result"
    }
   ],
   "source": [
    "#jnp.sum(jnp.array(l), 0)"
   ],
   "metadata": {
    "collapsed": false,
    "ExecuteTime": {
     "end_time": "2023-09-15T18:32:44.104895127Z",
     "start_time": "2023-09-15T18:32:44.080135414Z"
    }
   },
   "id": "af4b406578d176c9"
  },
  {
   "cell_type": "code",
   "execution_count": 13,
   "outputs": [
    {
     "data": {
      "text/plain": "{'params': {'W1': {'bias': Array([ 2.6268678 , -0.05249471, -1.519249  ,  0.00527302,  0.12686563,\n          -3.107252  ,  0.3306113 ,  0.0131504 , -0.09101575, -3.654554  ],      dtype=float32),\n   'kernel': Array([[ 2.60141182e+00,  7.21702864e-03, -1.21777129e+00,\n            2.87887221e-03, -2.91166365e-01, -3.10612392e+00,\n            4.27514523e-01,  6.18888974e-01, -1.17692761e-01,\n           -3.61913967e+00],\n          [-2.63472939e+00, -3.64475511e-02,  1.10690355e+00,\n           -1.68364972e-03,  1.05206355e-01,  2.11527300e+00,\n            3.41741666e-02, -9.02291313e-02, -9.40798968e-03,\n            3.66549134e+00],\n          [-2.34140325e+00, -3.72017436e-02,  1.09190488e+00,\n           -1.56823487e-03, -4.84190583e-01,  1.88298559e+00,\n            6.43614411e-01,  4.68558490e-01, -1.77184075e-01,\n            3.25740981e+00],\n          [ 2.15046763e+00,  2.38137618e-02, -1.21183181e+00,\n            5.86587982e-03,  2.58109301e-01, -3.15916657e+00,\n            7.16617471e-03,  2.23210096e-01, -1.97281456e-03,\n           -2.99177599e+00],\n          [-5.05439818e-01, -1.09115029e-02,  8.94575417e-02,\n           -2.29624449e-03,  2.04350203e-02,  5.26341558e-01,\n            2.07831204e-01, -1.91377923e-01, -5.72149605e-02,\n            7.03178644e-01]], dtype=float32)},\n  'W2': {'bias': Array([7.9494667], dtype=float32),\n   'kernel': Array([[ 2.063431  ],\n          [-0.01739413],\n          [ 4.4987617 ],\n          [ 1.5818567 ],\n          [ 0.6112232 ],\n          [ 4.9575753 ],\n          [ 0.83246547],\n          [ 0.0107041 ],\n          [ 0.44847888],\n          [-0.3576787 ]], dtype=float32)}}}"
     },
     "execution_count": 13,
     "metadata": {},
     "output_type": "execute_result"
    }
   ],
   "source": [
    "unravel_fn(jacobian_sum)"
   ],
   "metadata": {
    "collapsed": false,
    "ExecuteTime": {
     "end_time": "2023-09-15T18:32:44.109337716Z",
     "start_time": "2023-09-15T18:32:44.105600133Z"
    }
   },
   "id": "f4f192ef42a5d70c"
  },
  {
   "cell_type": "code",
   "execution_count": 38,
   "outputs": [],
   "source": [
    "def scan_batch(carry, xy):\n",
    "    xi, yi = xy\n",
    "    jacobian = loop_jvp(flat_params, model, xi, yi)\n",
    "    carry = carry + jacobian\n",
    "    return carry, None\n",
    "\n",
    "jacobian_init = jnp.zeros((len(flat_params), 1))\n",
    "#xs = jnp.concatenate((x, y), axis=1)\n",
    "xs = (x, y)\n",
    "jacobian_matrix, _ = jax.lax.scan(scan_batch, jacobian_init, xs)"
   ],
   "metadata": {
    "collapsed": false,
    "ExecuteTime": {
     "end_time": "2023-09-15T18:33:32.442353060Z",
     "start_time": "2023-09-15T18:33:30.588302382Z"
    }
   },
   "id": "29de240371d2f7cc"
  },
  {
   "cell_type": "code",
   "execution_count": 39,
   "outputs": [
    {
     "data": {
      "text/plain": "Array([[ 2.62686777e+00],\n       [-5.24947122e-02],\n       [-1.51924896e+00],\n       [ 5.27301896e-03],\n       [ 1.26865625e-01],\n       [-3.10725188e+00],\n       [ 3.30611289e-01],\n       [ 1.31504014e-02],\n       [-9.10157487e-02],\n       [-3.65455389e+00],\n       [ 2.60141182e+00],\n       [ 7.21702864e-03],\n       [-1.21777129e+00],\n       [ 2.87887221e-03],\n       [-2.91166365e-01],\n       [-3.10612392e+00],\n       [ 4.27514523e-01],\n       [ 6.18888974e-01],\n       [-1.17692761e-01],\n       [-3.61913967e+00],\n       [-2.63472939e+00],\n       [-3.64475511e-02],\n       [ 1.10690355e+00],\n       [-1.68364972e-03],\n       [ 1.05206355e-01],\n       [ 2.11527300e+00],\n       [ 3.41741666e-02],\n       [-9.02291313e-02],\n       [-9.40798968e-03],\n       [ 3.66549134e+00],\n       [-2.34140325e+00],\n       [-3.72017436e-02],\n       [ 1.09190488e+00],\n       [-1.56823487e-03],\n       [-4.84190583e-01],\n       [ 1.88298559e+00],\n       [ 6.43614411e-01],\n       [ 4.68558490e-01],\n       [-1.77184075e-01],\n       [ 3.25740981e+00],\n       [ 2.15046763e+00],\n       [ 2.38137618e-02],\n       [-1.21183181e+00],\n       [ 5.86587982e-03],\n       [ 2.58109301e-01],\n       [-3.15916657e+00],\n       [ 7.16617471e-03],\n       [ 2.23210096e-01],\n       [-1.97281456e-03],\n       [-2.99177599e+00],\n       [-5.05439818e-01],\n       [-1.09115029e-02],\n       [ 8.94575417e-02],\n       [-2.29624449e-03],\n       [ 2.04350203e-02],\n       [ 5.26341558e-01],\n       [ 2.07831204e-01],\n       [-1.91377923e-01],\n       [-5.72149605e-02],\n       [ 7.03178644e-01],\n       [ 7.94946671e+00],\n       [ 2.06343102e+00],\n       [-1.73941348e-02],\n       [ 4.49876165e+00],\n       [ 1.58185673e+00],\n       [ 6.11223221e-01],\n       [ 4.95757532e+00],\n       [ 8.32465470e-01],\n       [ 1.07041001e-02],\n       [ 4.48478878e-01],\n       [-3.57678741e-01]], dtype=float32)"
     },
     "execution_count": 39,
     "metadata": {},
     "output_type": "execute_result"
    }
   ],
   "source": [
    "jacobian_matrix"
   ],
   "metadata": {
    "collapsed": false,
    "ExecuteTime": {
     "end_time": "2023-09-15T18:33:34.284761894Z",
     "start_time": "2023-09-15T18:33:34.280173242Z"
    }
   },
   "id": "751e39eb00a54950"
  },
  {
   "cell_type": "code",
   "execution_count": 40,
   "outputs": [
    {
     "data": {
      "text/plain": "{'params': {'W1': {'bias': Array([ 2.6268678 , -0.05249471, -1.519249  ,  0.00527302,  0.12686563,\n          -3.107252  ,  0.3306113 ,  0.0131504 , -0.09101575, -3.654554  ],      dtype=float32),\n   'kernel': Array([[ 2.60141182e+00,  7.21702864e-03, -1.21777129e+00,\n            2.87887221e-03, -2.91166365e-01, -3.10612392e+00,\n            4.27514523e-01,  6.18888974e-01, -1.17692761e-01,\n           -3.61913967e+00],\n          [-2.63472939e+00, -3.64475511e-02,  1.10690355e+00,\n           -1.68364972e-03,  1.05206355e-01,  2.11527300e+00,\n            3.41741666e-02, -9.02291313e-02, -9.40798968e-03,\n            3.66549134e+00],\n          [-2.34140325e+00, -3.72017436e-02,  1.09190488e+00,\n           -1.56823487e-03, -4.84190583e-01,  1.88298559e+00,\n            6.43614411e-01,  4.68558490e-01, -1.77184075e-01,\n            3.25740981e+00],\n          [ 2.15046763e+00,  2.38137618e-02, -1.21183181e+00,\n            5.86587982e-03,  2.58109301e-01, -3.15916657e+00,\n            7.16617471e-03,  2.23210096e-01, -1.97281456e-03,\n           -2.99177599e+00],\n          [-5.05439818e-01, -1.09115029e-02,  8.94575417e-02,\n           -2.29624449e-03,  2.04350203e-02,  5.26341558e-01,\n            2.07831204e-01, -1.91377923e-01, -5.72149605e-02,\n            7.03178644e-01]], dtype=float32)},\n  'W2': {'bias': Array([7.9494667], dtype=float32),\n   'kernel': Array([[ 2.063431  ],\n          [-0.01739413],\n          [ 4.4987617 ],\n          [ 1.5818567 ],\n          [ 0.6112232 ],\n          [ 4.9575753 ],\n          [ 0.83246547],\n          [ 0.0107041 ],\n          [ 0.44847888],\n          [-0.35767874]], dtype=float32)}}}"
     },
     "execution_count": 40,
     "metadata": {},
     "output_type": "execute_result"
    }
   ],
   "source": [
    "unravel_fn(jacobian_matrix)"
   ],
   "metadata": {
    "collapsed": false,
    "ExecuteTime": {
     "end_time": "2023-09-15T18:33:36.236167176Z",
     "start_time": "2023-09-15T18:33:36.233750496Z"
    }
   },
   "id": "4324d521ccda4273"
  },
  {
   "cell_type": "code",
   "execution_count": 61,
   "outputs": [],
   "source": [
    "def scan_jvp_old(flat_params, model, x_point, y_point):\n",
    "    basis_vector = jnp.zeros((len(flat_params)))\n",
    "    jacobian_matrix = jnp.zeros((len(flat_params), 1))\n",
    "    for i in range(len(flat_params)):\n",
    "        e_i = basis_vector.at[i].set(1.0)\n",
    "        primal, tangent = jax.jvp(lambda par: mse_loss(unravel_fn(par), model, x_point, y_point), (flat_params,), (e_i,))\n",
    "        jacobian_matrix = jacobian_matrix.at[i].set(tangent)\n",
    "    return jacobian_matrix\n",
    "\n",
    "def scan_jvp(carry, xs):\n",
    "    jacobian_sum, x_point, y_point  = carry\n",
    "    param_idx = xs\n",
    "    basis_vector = jnp.zeros((len(flat_params)))\n",
    "    e_i = basis_vector.at[param_idx].set(1.0)\n",
    "    primal, tangent = jax.jvp(lambda par: mse_loss(unravel_fn(par), model, x_point, y_point), (flat_params,), (e_i,))\n",
    "    # jacobian_sum += tangent * e_i[:, None]\n",
    "    jacobian_sum = jacobian_sum.at[param_idx].set(tangent)\n",
    "    return (jacobian_sum, x_point, y_point), None\n",
    "\n",
    "def scan_foo(carry, xs):\n",
    "    jacobian_sum, param_idxes = carry\n",
    "    x_point, y_point = xs\n",
    "    (jacobian, x_point, y_point), _ = jax.lax.scan(scan_jvp, (jacobian_sum, x_point, y_point), param_idxes)\n",
    "    jacobian_sum += jacobian\n",
    "    return (jacobian_sum, param_index), None\n",
    "\n",
    "param_index = jnp.arange(flat_params.shape[0], dtype=int)\n",
    "jacobian_init = jnp.zeros((len(flat_params), 1))\n",
    "\n",
    "(jacobian_matrix, _), _ = jax.lax.scan(scan_foo, (jacobian_init, param_index), (x, y))"
   ],
   "metadata": {
    "collapsed": false,
    "ExecuteTime": {
     "end_time": "2023-09-15T18:40:41.270361592Z",
     "start_time": "2023-09-15T18:40:41.171745257Z"
    }
   },
   "id": "8e55a3588229b9ec"
  },
  {
   "cell_type": "code",
   "execution_count": 66,
   "outputs": [
    {
     "data": {
      "text/plain": "{'params': {'W1': {'bias': Array([ 2.6268678 , -0.05249471, -1.519249  ,  0.00527302,  0.12686563,\n          -3.107252  ,  0.3306113 ,  0.0131504 , -0.09101575, -3.654554  ],      dtype=float32),\n   'kernel': Array([[ 2.60141182e+00,  7.21702864e-03, -1.21777129e+00,\n            2.87887221e-03, -2.91166365e-01, -3.10612392e+00,\n            4.27514523e-01,  6.18888974e-01, -1.17692761e-01,\n           -3.61913967e+00],\n          [-2.63472939e+00, -3.64475511e-02,  1.10690355e+00,\n           -1.68364972e-03,  1.05206355e-01,  2.11527300e+00,\n            3.41741666e-02, -9.02291313e-02, -9.40798968e-03,\n            3.66549134e+00],\n          [-2.34140325e+00, -3.72017436e-02,  1.09190488e+00,\n           -1.56823487e-03, -4.84190583e-01,  1.88298559e+00,\n            6.43614411e-01,  4.68558490e-01, -1.77184075e-01,\n            3.25740981e+00],\n          [ 2.15046763e+00,  2.38137618e-02, -1.21183181e+00,\n            5.86587982e-03,  2.58109301e-01, -3.15916657e+00,\n            7.16617471e-03,  2.23210096e-01, -1.97281456e-03,\n           -2.99177599e+00],\n          [-5.05439818e-01, -1.09115029e-02,  8.94575417e-02,\n           -2.29624449e-03,  2.04350203e-02,  5.26341558e-01,\n            2.07831204e-01, -1.91377923e-01, -5.72149605e-02,\n            7.03178644e-01]], dtype=float32)},\n  'W2': {'bias': Array([7.9494667], dtype=float32),\n   'kernel': Array([[ 2.063431  ],\n          [-0.01739413],\n          [ 4.4987617 ],\n          [ 1.5818567 ],\n          [ 0.6112232 ],\n          [ 4.9575753 ],\n          [ 0.83246547],\n          [ 0.0107041 ],\n          [ 0.44847888],\n          [-0.3576787 ]], dtype=float32)}}}"
     },
     "execution_count": 66,
     "metadata": {},
     "output_type": "execute_result"
    }
   ],
   "source": [
    "unravel_fn(jacobian_matrix)"
   ],
   "metadata": {
    "collapsed": false,
    "ExecuteTime": {
     "end_time": "2023-09-15T18:44:03.184649327Z",
     "start_time": "2023-09-15T18:44:03.140640964Z"
    }
   },
   "id": "753f0588217c226d"
  },
  {
   "cell_type": "code",
   "execution_count": 63,
   "outputs": [],
   "source": [
    "jacobian_sum = jnp.zeros((len(flat_params), 1))\n",
    "for i in range(batch_size):\n",
    "    param_index = jnp.arange(flat_params.shape[0], dtype=int)\n",
    "    jacobian_init = jnp.zeros((len(flat_params), 1))\n",
    "    (jacobian, x_point, y_point), _ = jax.lax.scan(scan_jvp, (jacobian_init, x[i], y[i]), param_index)\n",
    "    jacobian_sum += jacobian"
   ],
   "metadata": {
    "collapsed": false,
    "ExecuteTime": {
     "end_time": "2023-09-15T18:40:52.884517212Z",
     "start_time": "2023-09-15T18:40:52.808241701Z"
    }
   },
   "id": "72996659875f143c"
  },
  {
   "cell_type": "code",
   "execution_count": 65,
   "outputs": [
    {
     "data": {
      "text/plain": "{'params': {'W1': {'bias': Array([ 2.6268678 , -0.05249471, -1.519249  ,  0.00527302,  0.12686563,\n          -3.107252  ,  0.3306113 ,  0.0131504 , -0.09101575, -3.654554  ],      dtype=float32),\n   'kernel': Array([[ 2.60141182e+00,  7.21702864e-03, -1.21777129e+00,\n            2.87887221e-03, -2.91166365e-01, -3.10612392e+00,\n            4.27514523e-01,  6.18888974e-01, -1.17692761e-01,\n           -3.61913967e+00],\n          [-2.63472939e+00, -3.64475511e-02,  1.10690355e+00,\n           -1.68364972e-03,  1.05206355e-01,  2.11527300e+00,\n            3.41741666e-02, -9.02291313e-02, -9.40798968e-03,\n            3.66549134e+00],\n          [-2.34140325e+00, -3.72017436e-02,  1.09190488e+00,\n           -1.56823487e-03, -4.84190583e-01,  1.88298559e+00,\n            6.43614411e-01,  4.68558490e-01, -1.77184075e-01,\n            3.25740981e+00],\n          [ 2.15046763e+00,  2.38137618e-02, -1.21183181e+00,\n            5.86587982e-03,  2.58109301e-01, -3.15916657e+00,\n            7.16617471e-03,  2.23210096e-01, -1.97281456e-03,\n           -2.99177599e+00],\n          [-5.05439818e-01, -1.09115029e-02,  8.94575417e-02,\n           -2.29624449e-03,  2.04350203e-02,  5.26341558e-01,\n            2.07831204e-01, -1.91377923e-01, -5.72149605e-02,\n            7.03178644e-01]], dtype=float32)},\n  'W2': {'bias': Array([7.9494667], dtype=float32),\n   'kernel': Array([[ 2.063431  ],\n          [-0.01739413],\n          [ 4.4987617 ],\n          [ 1.5818567 ],\n          [ 0.6112232 ],\n          [ 4.9575753 ],\n          [ 0.83246547],\n          [ 0.0107041 ],\n          [ 0.44847888],\n          [-0.3576787 ]], dtype=float32)}}}"
     },
     "execution_count": 65,
     "metadata": {},
     "output_type": "execute_result"
    }
   ],
   "source": [
    "unravel_fn(jacobian_sum)"
   ],
   "metadata": {
    "collapsed": false,
    "ExecuteTime": {
     "end_time": "2023-09-15T18:40:59.645457042Z",
     "start_time": "2023-09-15T18:40:59.641595760Z"
    }
   },
   "id": "a674656ce06f979b"
  },
  {
   "cell_type": "code",
   "execution_count": 22,
   "outputs": [
    {
     "data": {
      "text/plain": "Array([0.], dtype=float32)"
     },
     "execution_count": 22,
     "metadata": {},
     "output_type": "execute_result"
    }
   ],
   "source": [
    "jacobian_matrix[param_index[0]]"
   ],
   "metadata": {
    "collapsed": false,
    "ExecuteTime": {
     "end_time": "2023-09-15T18:32:46.140584869Z",
     "start_time": "2023-09-15T18:32:46.096538917Z"
    }
   },
   "id": "88e8f5a4521e8354"
  },
  {
   "cell_type": "code",
   "execution_count": 23,
   "outputs": [
    {
     "data": {
      "text/plain": "{'params': {'W1': {'bias': Array([0., 0., 0., 0., 0., 0., 0., 0., 0., 0.], dtype=float32),\n   'kernel': Array([[0., 0., 0., 0., 0., 0., 0., 0., 0., 0.],\n          [0., 0., 0., 0., 0., 0., 0., 0., 0., 0.],\n          [0., 0., 0., 0., 0., 0., 0., 0., 0., 0.],\n          [0., 0., 0., 0., 0., 0., 0., 0., 0., 0.],\n          [0., 0., 0., 0., 0., 0., 0., 0., 0., 0.]], dtype=float32)},\n  'W2': {'bias': Array([0.], dtype=float32),\n   'kernel': Array([[0.],\n          [0.],\n          [0.],\n          [0.],\n          [0.],\n          [0.],\n          [0.],\n          [0.],\n          [0.],\n          [0.]], dtype=float32)}}}"
     },
     "execution_count": 23,
     "metadata": {},
     "output_type": "execute_result"
    }
   ],
   "source": [
    "unravel_fn(jacobian_matrix)"
   ],
   "metadata": {
    "collapsed": false,
    "ExecuteTime": {
     "end_time": "2023-09-15T18:32:46.141784519Z",
     "start_time": "2023-09-15T18:32:46.140389438Z"
    }
   },
   "id": "4f5a05f7fb3018d4"
  },
  {
   "cell_type": "code",
   "execution_count": 24,
   "outputs": [
    {
     "data": {
      "text/plain": "{'params': {'W1': {'bias': Array([0., 0., 0., 0., 0., 0., 0., 0., 0., 0.], dtype=float32),\n   'kernel': Array([[0., 0., 0., 0., 0., 0., 0., 0., 0., 0.],\n          [0., 0., 0., 0., 0., 0., 0., 0., 0., 0.],\n          [0., 0., 0., 0., 0., 0., 0., 0., 0., 0.],\n          [0., 0., 0., 0., 0., 0., 0., 0., 0., 0.],\n          [0., 0., 0., 0., 0., 0., 0., 0., 0., 0.]], dtype=float32)},\n  'W2': {'bias': Array([0.], dtype=float32),\n   'kernel': Array([[0.],\n          [0.],\n          [0.],\n          [0.],\n          [0.],\n          [0.],\n          [0.],\n          [0.],\n          [0.],\n          [0.]], dtype=float32)}}}"
     },
     "execution_count": 24,
     "metadata": {},
     "output_type": "execute_result"
    }
   ],
   "source": [
    "unravel_fn(jacobian_matrix)"
   ],
   "metadata": {
    "collapsed": false,
    "ExecuteTime": {
     "end_time": "2023-09-15T18:32:46.141955094Z",
     "start_time": "2023-09-15T18:32:46.140520038Z"
    }
   },
   "id": "8b6f7c55a9e933d1"
  },
  {
   "cell_type": "markdown",
   "source": [
    "# Using jacfwd"
   ],
   "metadata": {
    "collapsed": false
   },
   "id": "3633aa4b680a7bce"
  },
  {
   "cell_type": "code",
   "execution_count": 25,
   "outputs": [
    {
     "data": {
      "text/plain": "{'params': {'W1': {'bias': Array([[-8.955847  , -0.        , -0.        , -0.02139482,  4.9518595 ,\n            7.8320136 , -6.778864  , -3.852275  , -0.        , 12.459564  ]],      dtype=float32),\n   'kernel': Array([[[-8.9558468e+00, -0.0000000e+00, -0.0000000e+00, -2.1394815e-02,\n             4.9518595e+00,  7.8320136e+00, -6.7788639e+00, -3.8522749e+00,\n            -0.0000000e+00,  1.2459564e+01],\n           [-4.4779234e+00, -0.0000000e+00, -0.0000000e+00, -1.0697408e-02,\n             2.4759297e+00,  3.9160068e+00, -3.3894320e+00, -1.9261374e+00,\n            -0.0000000e+00,  6.2297821e+00],\n           [-1.3433770e+01, -0.0000000e+00, -0.0000000e+00, -3.2092221e-02,\n             7.4277892e+00,  1.1748021e+01, -1.0168296e+01, -5.7784123e+00,\n            -0.0000000e+00,  1.8689344e+01],\n           [-1.7911694e+01, -0.0000000e+00, -0.0000000e+00, -4.2789631e-02,\n             9.9037189e+00,  1.5664027e+01, -1.3557728e+01, -7.7045498e+00,\n            -0.0000000e+00,  2.4919128e+01],\n           [-8.9558468e+00, -0.0000000e+00, -0.0000000e+00, -2.1394815e-02,\n             4.9518595e+00,  7.8320136e+00, -6.7788639e+00, -3.8522749e+00,\n            -0.0000000e+00,  1.2459564e+01]]], dtype=float32)},\n  'W2': {'bias': Array([[-21.42035]], dtype=float32),\n   'kernel': Array([[[ -8.798854 ],\n           [ -0.       ],\n           [ -0.       ],\n           [ -3.4016824],\n           [-32.91514  ],\n           [ -3.2510471],\n           [ -6.9270954],\n           [ -8.670431 ],\n           [ -0.       ],\n           [-23.807371 ]]], dtype=float32)}}}"
     },
     "execution_count": 25,
     "metadata": {},
     "output_type": "execute_result"
    }
   ],
   "source": [
    "loss_jacobian = jax.jacfwd(mse_loss, argnums=0)(params, model, evaluation_point, evaluation_target)\n",
    "loss_jacobian"
   ],
   "metadata": {
    "collapsed": false,
    "ExecuteTime": {
     "end_time": "2023-09-15T18:32:46.379736911Z",
     "start_time": "2023-09-15T18:32:46.140634377Z"
    }
   },
   "id": "5976227f439c667c"
  },
  {
   "cell_type": "code",
   "execution_count": 26,
   "outputs": [
    {
     "data": {
      "text/plain": "(1, 5, 10)"
     },
     "execution_count": 26,
     "metadata": {},
     "output_type": "execute_result"
    }
   ],
   "source": [
    "loss_jacobian[\"params\"][\"W1\"][\"kernel\"].shape"
   ],
   "metadata": {
    "collapsed": false,
    "ExecuteTime": {
     "end_time": "2023-09-15T18:32:46.424633368Z",
     "start_time": "2023-09-15T18:32:46.380143217Z"
    }
   },
   "id": "ddb367b81fd3b480"
  },
  {
   "cell_type": "code",
   "execution_count": 27,
   "outputs": [
    {
     "data": {
      "text/plain": "{'params': {'W1': {'bias': Array(0.56350565, dtype=float32),\n   'kernel': Array([-10.747017  ,   0.        ,   0.        ,  -0.02567378,\n            5.942231  ,   9.3984165 ,  -8.134636  ,  -4.6227303 ,\n            0.        ,  14.951477  ], dtype=float32)},\n  'W2': {'bias': Array(-21.42035, dtype=float32),\n   'kernel': Array([-8.777163], dtype=float32)}}}"
     },
     "execution_count": 27,
     "metadata": {},
     "output_type": "execute_result"
    }
   ],
   "source": [
    "gradients = jax.tree_map(lambda x: jnp.mean(x, axis=(0,1)), loss_jacobian)\n",
    "gradients"
   ],
   "metadata": {
    "collapsed": false,
    "ExecuteTime": {
     "end_time": "2023-09-15T18:32:46.468545376Z",
     "start_time": "2023-09-15T18:32:46.424370057Z"
    }
   },
   "id": "c654949ff8c7615b"
  },
  {
   "cell_type": "code",
   "execution_count": 28,
   "outputs": [
    {
     "data": {
      "text/plain": "(10,)"
     },
     "execution_count": 28,
     "metadata": {},
     "output_type": "execute_result"
    }
   ],
   "source": [
    "gradients[\"params\"][\"W1\"][\"kernel\"].shape"
   ],
   "metadata": {
    "collapsed": false,
    "ExecuteTime": {
     "end_time": "2023-09-15T18:32:46.468716616Z",
     "start_time": "2023-09-15T18:32:46.468316064Z"
    }
   },
   "id": "31bf86a686afb950"
  },
  {
   "cell_type": "code",
   "execution_count": 29,
   "outputs": [
    {
     "data": {
      "text/plain": "{'params': {'W1': {'bias': Array([[[-0.66623163, -0.        , -0.        , -0.        ,\n             0.36837226, -0.        , -0.        , -0.28657338,\n            -0.        ,  0.9268756 ]],\n   \n          [[-0.        , -0.05249475, -0.        , -0.        ,\n             0.02165244, -0.        , -0.02964118, -0.01684441,\n             0.00816008, -0.        ]],\n   \n          [[ 0.        ,  0.        ,  0.        ,  0.        ,\n            -0.26315907,  0.        ,  0.36025247,  0.20472331,\n            -0.09917583,  0.        ]],\n   \n          [[ 0.        ,  0.        ,  0.        ,  0.        ,\n             0.        , -0.46606568,  0.        ,  0.2292403 ,\n             0.        ,  0.        ]],\n   \n          [[-0.        , -0.        , -0.        , -0.        ,\n            -0.        ,  0.47976726, -0.        , -0.23597959,\n            -0.        , -0.        ]],\n   \n          [[ 0.        ,  0.        ,  0.        ,  0.        ,\n             0.        , -0.24109204,  0.        ,  0.11858416,\n             0.        ,  0.        ]],\n   \n          [[ 1.085819  ,  0.        , -0.5009352 ,  0.        ,\n             0.        , -0.949564  ,  0.        ,  0.        ,\n             0.        , -1.5106145 ]],\n   \n          [[ 2.2072802 ,  0.        , -1.0183136 ,  0.00527302,\n             0.        , -1.9302974 ,  0.        ,  0.        ,\n             0.        , -3.0708148 ]]], dtype=float32),\n   'kernel': Array([[[[-3.82092968e-02, -0.00000000e+00, -0.00000000e+00,\n             -0.00000000e+00,  2.11266540e-02, -0.00000000e+00,\n             -0.00000000e+00, -1.64353754e-02, -0.00000000e+00,\n              5.31575829e-02],\n            [-2.35423326e-01, -0.00000000e+00, -0.00000000e+00,\n             -0.00000000e+00,  1.30170077e-01, -0.00000000e+00,\n             -0.00000000e+00, -1.01265177e-01, -0.00000000e+00,\n              3.27525944e-01],\n            [ 2.53920425e-02, -0.00000000e+00, -0.00000000e+00,\n             -0.00000000e+00, -1.40397483e-02, -0.00000000e+00,\n             -0.00000000e+00,  1.09221525e-02, -0.00000000e+00,\n             -3.53259481e-02],\n            [-4.76279467e-01, -0.00000000e+00, -0.00000000e+00,\n             -0.00000000e+00,  2.63344079e-01, -0.00000000e+00,\n             -0.00000000e+00, -2.04867229e-01, -0.00000000e+00,\n              6.62610114e-01],\n            [-3.11533093e-01, -0.00000000e+00, -0.00000000e+00,\n             -0.00000000e+00,  1.72252625e-01, -0.00000000e+00,\n             -0.00000000e+00, -1.34003103e-01, -0.00000000e+00,\n              4.33411449e-01]]],\n   \n   \n          [[[-0.00000000e+00,  7.21703330e-03, -0.00000000e+00,\n             -0.00000000e+00, -2.97680008e-03, -0.00000000e+00,\n              4.07510018e-03,  2.31578690e-03, -1.12185616e-03,\n             -0.00000000e+00],\n            [-0.00000000e+00, -3.64475772e-02, -0.00000000e+00,\n             -0.00000000e+00,  1.50334835e-02, -0.00000000e+00,\n             -2.05801353e-02, -1.16952248e-02,  5.66561567e-03,\n             -0.00000000e+00],\n            [-0.00000000e+00, -3.72017659e-02, -0.00000000e+00,\n             -0.00000000e+00,  1.53445629e-02, -0.00000000e+00,\n             -2.10059900e-02, -1.19372280e-02,  5.78285148e-03,\n             -0.00000000e+00],\n            [-0.00000000e+00,  2.38137767e-02, -0.00000000e+00,\n             -0.00000000e+00, -9.82243754e-03, -0.00000000e+00,\n              1.34464568e-02,  7.64131686e-03, -3.70174716e-03,\n             -0.00000000e+00],\n            [-0.00000000e+00, -1.09115094e-02, -0.00000000e+00,\n             -0.00000000e+00,  4.50065592e-03, -0.00000000e+00,\n             -6.16118731e-03, -3.50126321e-03,  1.69614633e-03,\n             -0.00000000e+00]]],\n   \n   \n          [[[ 0.00000000e+00,  0.00000000e+00,  0.00000000e+00,\n              0.00000000e+00, -3.09316278e-01,  0.00000000e+00,\n              4.23439443e-01,  2.40631044e-01, -1.16570920e-01,\n              0.00000000e+00],\n            [ 0.00000000e+00,  0.00000000e+00,  0.00000000e+00,\n              0.00000000e+00, -3.99972014e-02,  0.00000000e+00,\n              5.47542945e-02,  3.11156251e-02, -1.50736030e-02,\n              0.00000000e+00],\n            [ 0.00000000e+00,  0.00000000e+00,  0.00000000e+00,\n              0.00000000e+00, -4.85495418e-01,  0.00000000e+00,\n              6.64620459e-01,  3.77688766e-01, -1.82966933e-01,\n              0.00000000e+00],\n            [ 0.00000000e+00,  0.00000000e+00,  0.00000000e+00,\n              0.00000000e+00,  4.58764704e-03,  0.00000000e+00,\n             -6.28027413e-03, -3.56893754e-03,  1.72893028e-03,\n              0.00000000e+00],\n            [ 0.00000000e+00,  0.00000000e+00,  0.00000000e+00,\n              0.00000000e+00, -1.56318277e-01,  0.00000000e+00,\n              2.13992417e-01,  1.21607035e-01, -5.89111149e-02,\n              0.00000000e+00]]],\n   \n   \n          [[[ 0.00000000e+00,  0.00000000e+00,  0.00000000e+00,\n              0.00000000e+00,  0.00000000e+00, -8.14635873e-01,\n              0.00000000e+00,  4.00688976e-01,  0.00000000e+00,\n              0.00000000e+00],\n            [ 0.00000000e+00,  0.00000000e+00,  0.00000000e+00,\n              0.00000000e+00,  0.00000000e+00, -6.55007213e-02,\n              0.00000000e+00,  3.22173573e-02,  0.00000000e+00,\n              0.00000000e+00],\n            [ 0.00000000e+00,  0.00000000e+00,  0.00000000e+00,\n              0.00000000e+00,  0.00000000e+00,  7.68351972e-01,\n              0.00000000e+00, -3.77923638e-01,  0.00000000e+00,\n              0.00000000e+00],\n            [ 0.00000000e+00,  0.00000000e+00,  0.00000000e+00,\n              0.00000000e+00,  0.00000000e+00,  1.86322574e-02,\n              0.00000000e+00, -9.16451123e-03,  0.00000000e+00,\n              0.00000000e+00],\n            [ 0.00000000e+00,  0.00000000e+00,  0.00000000e+00,\n              0.00000000e+00,  0.00000000e+00, -3.90176803e-01,\n              0.00000000e+00,  1.91913381e-01,  0.00000000e+00,\n              0.00000000e+00]]],\n   \n   \n          [[[-0.00000000e+00, -0.00000000e+00, -0.00000000e+00,\n             -0.00000000e+00, -0.00000000e+00,  5.73332071e-01,\n             -0.00000000e+00, -2.82000631e-01, -0.00000000e+00,\n             -0.00000000e+00],\n            [-0.00000000e+00, -0.00000000e+00, -0.00000000e+00,\n             -0.00000000e+00, -0.00000000e+00,  9.64466259e-02,\n             -0.00000000e+00, -4.74384911e-02, -0.00000000e+00,\n             -0.00000000e+00],\n            [-0.00000000e+00, -0.00000000e+00, -0.00000000e+00,\n             -0.00000000e+00, -0.00000000e+00, -9.30342317e-01,\n             -0.00000000e+00,  4.57600594e-01, -0.00000000e+00,\n             -0.00000000e+00],\n            [-0.00000000e+00, -0.00000000e+00, -0.00000000e+00,\n             -0.00000000e+00, -0.00000000e+00, -5.44074416e-01,\n             -0.00000000e+00,  2.67609864e-01, -0.00000000e+00,\n             -0.00000000e+00],\n            [-0.00000000e+00, -0.00000000e+00, -0.00000000e+00,\n             -0.00000000e+00, -0.00000000e+00,  6.50511384e-01,\n             -0.00000000e+00, -3.19962263e-01, -0.00000000e+00,\n             -0.00000000e+00]]],\n   \n   \n          [[[ 0.00000000e+00,  0.00000000e+00,  0.00000000e+00,\n              0.00000000e+00,  0.00000000e+00, -5.56434274e-01,\n              0.00000000e+00,  2.73689210e-01,  0.00000000e+00,\n              0.00000000e+00],\n            [ 0.00000000e+00,  0.00000000e+00,  0.00000000e+00,\n              0.00000000e+00,  0.00000000e+00, -1.38997696e-02,\n              0.00000000e+00,  6.83677755e-03,  0.00000000e+00,\n              0.00000000e+00],\n            [ 0.00000000e+00,  0.00000000e+00,  0.00000000e+00,\n              0.00000000e+00,  0.00000000e+00, -2.48196609e-02,\n              0.00000000e+00,  1.22078629e-02,  0.00000000e+00,\n              0.00000000e+00],\n            [ 0.00000000e+00,  0.00000000e+00,  0.00000000e+00,\n              0.00000000e+00,  0.00000000e+00, -3.36597204e-01,\n              0.00000000e+00,  1.65559590e-01,  0.00000000e+00,\n              0.00000000e+00],\n            [ 0.00000000e+00,  0.00000000e+00,  0.00000000e+00,\n              0.00000000e+00,  0.00000000e+00,  9.64328125e-02,\n              0.00000000e+00, -4.74316962e-02,  0.00000000e+00,\n              0.00000000e+00]]],\n   \n   \n          [[[ 1.43452835e+00,  0.00000000e+00, -6.61809862e-01,\n              0.00000000e+00,  0.00000000e+00, -1.25451517e+00,\n              0.00000000e+00,  0.00000000e+00,  0.00000000e+00,\n             -1.99574637e+00],\n            [-1.69453192e+00,  0.00000000e+00,  7.81760812e-01,\n              0.00000000e+00,  0.00000000e+00,  1.48189199e+00,\n              0.00000000e+00,  0.00000000e+00,  0.00000000e+00,\n              2.35746884e+00],\n            [-1.71033370e+00,  0.00000000e+00,  7.89050817e-01,\n              0.00000000e+00,  0.00000000e+00,  1.49571085e+00,\n              0.00000000e+00,  0.00000000e+00,  0.00000000e+00,\n              2.37945247e+00],\n            [ 1.71295896e-01,  0.00000000e+00, -7.90261924e-02,\n              0.00000000e+00,  0.00000000e+00, -1.49800658e-01,\n              0.00000000e+00,  0.00000000e+00,  0.00000000e+00,\n             -2.38310486e-01],\n            [ 7.67298698e-01,  0.00000000e+00, -3.53988022e-01,\n              0.00000000e+00,  0.00000000e+00, -6.71013474e-01,\n              0.00000000e+00,  0.00000000e+00,  0.00000000e+00,\n             -1.06748223e+00]]],\n   \n   \n          [[[ 1.20509279e+00,  0.00000000e+00, -5.55961370e-01,\n              2.87887221e-03,  0.00000000e+00, -1.05387056e+00,\n              0.00000000e+00,  0.00000000e+00,  0.00000000e+00,\n             -1.67655075e+00],\n            [-7.04773903e-01,  0.00000000e+00,  3.25142652e-01,\n             -1.68364972e-03,  0.00000000e+00,  6.16334677e-01,\n              0.00000000e+00,  0.00000000e+00,  0.00000000e+00,\n              9.80496466e-01],\n            [-6.56461418e-01,  0.00000000e+00,  3.02854002e-01,\n             -1.56823487e-03,  0.00000000e+00,  5.74084699e-01,\n              0.00000000e+00,  0.00000000e+00,  0.00000000e+00,\n              9.13283050e-01],\n            [ 2.45545125e+00,  0.00000000e+00, -1.13280559e+00,\n              5.86587982e-03,  0.00000000e+00, -2.14732647e+00,\n              0.00000000e+00,  0.00000000e+00,  0.00000000e+00,\n             -3.41607571e+00],\n            [-9.61205482e-01,  0.00000000e+00,  4.43445623e-01,\n             -2.29624449e-03,  0.00000000e+00,  8.40587735e-01,\n              0.00000000e+00,  0.00000000e+00,  0.00000000e+00,\n              1.33724952e+00]]]], dtype=float32)},\n  'W2': {'bias': Array([[[-1.5934746 ]],\n   \n          [[-0.09366235]],\n   \n          [[ 1.138352  ]],\n   \n          [[ 1.2746773 ]],\n   \n          [[-1.3121507 ]],\n   \n          [[ 0.6593803 ]],\n   \n          [[ 2.5970323 ]],\n   \n          [[ 5.279312  ]]], dtype=float32),\n   'kernel': Array([[[[-0.2509383 ],\n            [-0.        ],\n            [-0.        ],\n            [-0.        ],\n            [-0.665988  ],\n            [-0.        ],\n            [-0.        ],\n            [-0.5119662 ],\n            [-0.        ],\n            [-0.91530657]]],\n   \n   \n          [[[-0.        ],\n            [-0.01739415],\n            [-0.        ],\n            [-0.        ],\n            [-0.04915463],\n            [-0.        ],\n            [-0.06137549],\n            [-0.03674277],\n            [-0.05941175],\n            [-0.        ]]],\n   \n   \n          [[[ 0.        ],\n            [ 0.        ],\n            [ 0.        ],\n            [ 0.        ],\n            [ 1.326366  ],\n            [ 0.        ],\n            [ 0.893841  ],\n            [ 0.00962525],\n            [ 0.50789064],\n            [ 0.        ]]],\n   \n   \n          [[[ 0.        ],\n            [ 0.        ],\n            [ 0.        ],\n            [ 0.        ],\n            [ 0.        ],\n            [ 0.68259406],\n            [ 0.        ],\n            [ 0.92519796],\n            [ 0.        ],\n            [ 0.        ]]],\n   \n   \n          [[[-0.        ],\n            [-0.        ],\n            [-0.        ],\n            [-0.        ],\n            [-0.        ],\n            [-0.17841093],\n            [-0.        ],\n            [-0.7980003 ],\n            [-0.        ],\n            [-0.        ]]],\n   \n   \n          [[[ 0.        ],\n            [ 0.        ],\n            [ 0.        ],\n            [ 0.        ],\n            [ 0.        ],\n            [ 0.63852185],\n            [ 0.        ],\n            [ 0.42259014],\n            [ 0.        ],\n            [ 0.        ]]],\n   \n   \n          [[[ 0.34196424],\n            [ 0.        ],\n            [ 2.9523895 ],\n            [ 0.        ],\n            [ 0.        ],\n            [ 1.3683088 ],\n            [ 0.        ],\n            [ 0.        ],\n            [ 0.        ],\n            [ 0.405386  ]]],\n   \n   \n          [[[ 1.972405  ],\n            [ 0.        ],\n            [ 1.5463722 ],\n            [ 1.5818566 ],\n            [ 0.        ],\n            [ 2.4465613 ],\n            [ 0.        ],\n            [ 0.        ],\n            [ 0.        ],\n            [ 0.1522417 ]]]], dtype=float32)}}}"
     },
     "execution_count": 29,
     "metadata": {},
     "output_type": "execute_result"
    }
   ],
   "source": [
    "loss_jacobian = vmap(jax.jacfwd(mse_loss, argnums=0), in_axes=(None, None, 0, 0), out_axes=0)(params, model, x, y)\n",
    "loss_jacobian"
   ],
   "metadata": {
    "collapsed": false,
    "ExecuteTime": {
     "end_time": "2023-09-15T18:32:46.690868286Z",
     "start_time": "2023-09-15T18:32:46.468402967Z"
    }
   },
   "id": "b1a34132fbdc4d19"
  },
  {
   "cell_type": "code",
   "execution_count": 30,
   "outputs": [
    {
     "data": {
      "text/plain": "Array([0.1828678], dtype=float32)"
     },
     "execution_count": 30,
     "metadata": {},
     "output_type": "execute_result"
    }
   ],
   "source": [
    "loss_jacobian[\"params\"][\"W2\"][\"kernel\"].mean((0,1,2))"
   ],
   "metadata": {
    "collapsed": false,
    "ExecuteTime": {
     "end_time": "2023-09-15T18:32:46.704971029Z",
     "start_time": "2023-09-15T18:32:46.693732522Z"
    }
   },
   "id": "b530bb914bfff6de"
  },
  {
   "cell_type": "code",
   "execution_count": 31,
   "outputs": [
    {
     "data": {
      "text/plain": "{'params': {'W1': {'bias': Array(-5.321797, dtype=float32),\n   'kernel': Array([-0.7296927 , -0.05353004, -0.1413371 ,  0.00319662, -0.3916064 ,\n          -1.7406904 ,  1.3203006 ,  1.0290506 , -0.36347264,  1.0151641 ],      dtype=float32)},\n  'W2': {'bias': Array(7.949466, dtype=float32),\n   'kernel': Array([14.629423], dtype=float32)}}}"
     },
     "execution_count": 31,
     "metadata": {},
     "output_type": "execute_result"
    }
   ],
   "source": [
    "gradients = jax.tree_map(lambda x: jnp.sum(x, axis=(0, 1,2)), loss_jacobian)\n",
    "gradients"
   ],
   "metadata": {
    "collapsed": false,
    "ExecuteTime": {
     "end_time": "2023-09-15T18:32:46.746824819Z",
     "start_time": "2023-09-15T18:32:46.707567121Z"
    }
   },
   "id": "f07686d30cedbf20"
  },
  {
   "cell_type": "code",
   "execution_count": 32,
   "outputs": [],
   "source": [
    "updates, opt_state = optimizer.update(loss_jacobian, opt_state)"
   ],
   "metadata": {
    "collapsed": false,
    "ExecuteTime": {
     "end_time": "2023-09-15T18:32:47.043399174Z",
     "start_time": "2023-09-15T18:32:46.748685707Z"
    }
   },
   "id": "fec2cbcc663c272b"
  },
  {
   "cell_type": "code",
   "execution_count": 33,
   "outputs": [
    {
     "data": {
      "text/plain": "{'params': {'W1': {'bias': Array([[[ 0.0003,  0.    ,  0.    ,  0.    , -0.0003,  0.    ,  0.    ,\n             0.0003,  0.    , -0.0003]],\n   \n          [[ 0.    ,  0.0003,  0.    ,  0.    , -0.0003,  0.    ,  0.0003,\n             0.0003, -0.0003,  0.    ]],\n   \n          [[ 0.    ,  0.    ,  0.    ,  0.    ,  0.0003,  0.    , -0.0003,\n            -0.0003,  0.0003,  0.    ]],\n   \n          [[ 0.    ,  0.    ,  0.    ,  0.    ,  0.    ,  0.0003,  0.    ,\n            -0.0003,  0.    ,  0.    ]],\n   \n          [[ 0.    ,  0.    ,  0.    ,  0.    ,  0.    , -0.0003,  0.    ,\n             0.0003,  0.    ,  0.    ]],\n   \n          [[ 0.    ,  0.    ,  0.    ,  0.    ,  0.    ,  0.0003,  0.    ,\n            -0.0003,  0.    ,  0.    ]],\n   \n          [[-0.0003,  0.    ,  0.0003,  0.    ,  0.    ,  0.0003,  0.    ,\n             0.    ,  0.    ,  0.0003]],\n   \n          [[-0.0003,  0.    ,  0.0003, -0.0003,  0.    ,  0.0003,  0.    ,\n             0.    ,  0.    ,  0.0003]]], dtype=float32),\n   'kernel': Array([[[[-0.3387521 , -0.38618836, -0.373043  , -0.6750955 ,\n             -0.04973017,  0.30605486, -0.08309072,  0.21818858,\n             -0.7418177 , -0.3760505 ],\n            [-0.36957735, -0.1525535 , -0.9605439 , -0.5751731 ,\n              0.16028638, -0.04420065,  0.35853097,  0.8495273 ,\n             -0.04865616, -0.07045149],\n            [ 0.05014068, -0.0668437 , -0.2220952 ,  0.29612228,\n              0.43330592, -0.11999329,  0.52359056, -0.17856863,\n              0.79131824, -0.00837584],\n            [ 0.41864488, -0.8754566 , -0.00929308,  0.43742397,\n              0.08979785,  0.13479516, -0.16091733,  0.05460982,\n             -0.11698364,  0.44216415],\n            [ 0.02271075, -0.5351497 , -0.30809754, -0.19754323,\n              0.67576176, -0.22178115, -0.23633745, -0.07864351,\n             -0.2296841 ,  0.6500488 ]]],\n   \n   \n          [[[-0.33905208, -0.38648835, -0.373043  , -0.6750955 ,\n             -0.04913018,  0.30605486, -0.08339071,  0.21758859,\n             -0.7415177 , -0.3757505 ],\n            [-0.36987734, -0.1522535 , -0.9605439 , -0.5751731 ,\n              0.16028638, -0.04420065,  0.35883096,  0.8495273 ,\n             -0.04895616, -0.07015149],\n            [ 0.05044068, -0.0665437 , -0.2220952 ,  0.29612228,\n              0.43270594, -0.11999329,  0.52389055, -0.17796862,\n              0.79101825, -0.00867583],\n            [ 0.4183449 , -0.87575656, -0.00929308,  0.43742397,\n              0.09039785,  0.13479516, -0.16121733,  0.05400983,\n             -0.11668364,  0.44246414],\n            [ 0.02241075, -0.5348497 , -0.30809754, -0.19754323,\n              0.67576176, -0.22178115, -0.23603746, -0.07864351,\n             -0.22998409,  0.6503488 ]]],\n   \n   \n          [[[-0.33905208, -0.38618836, -0.373043  , -0.6750955 ,\n             -0.04913018,  0.30605486, -0.08339071,  0.21758857,\n             -0.7415177 , -0.3757505 ],\n            [-0.36987734, -0.1525535 , -0.9605439 , -0.5751731 ,\n              0.16088639, -0.04420065,  0.35823098,  0.8489273 ,\n             -0.04835616, -0.07015149],\n            [ 0.05044068, -0.0668437 , -0.2220952 ,  0.29612228,\n              0.43330592, -0.11999329,  0.5232906 , -0.17856863,\n              0.7916182 , -0.00867583],\n            [ 0.4183449 , -0.8754566 , -0.00929308,  0.43742397,\n              0.08979785,  0.13479516, -0.16061734,  0.05460982,\n             -0.11728363,  0.44246414],\n            [ 0.02241075, -0.5351497 , -0.30809754, -0.19754323,\n              0.67636174, -0.22178115, -0.23663746, -0.0792435 ,\n             -0.2293841 ,  0.6503488 ]]],\n   \n   \n          [[[-0.33905208, -0.38618836, -0.373043  , -0.6750955 ,\n             -0.04943018,  0.30635485, -0.08309072,  0.21758857,\n             -0.7418177 , -0.3757505 ],\n            [-0.36987734, -0.1525535 , -0.9605439 , -0.5751731 ,\n              0.16058639, -0.04390065,  0.35853097,  0.8489273 ,\n             -0.04865616, -0.07015149],\n            [ 0.05044068, -0.0668437 , -0.2220952 ,  0.29612228,\n              0.43300593, -0.12029329,  0.52359056, -0.17796862,\n              0.79131824, -0.00867583],\n            [ 0.4183449 , -0.8754566 , -0.00929308,  0.43742397,\n              0.09009785,  0.13449515, -0.16091733,  0.05460982,\n             -0.11698364,  0.44246414],\n            [ 0.02241075, -0.5351497 , -0.30809754, -0.19754323,\n              0.67606175, -0.22148114, -0.23633745, -0.0792435 ,\n             -0.2296841 ,  0.6503488 ]]],\n   \n   \n          [[[-0.33905208, -0.38618836, -0.373043  , -0.6750955 ,\n             -0.04943018,  0.30575487, -0.08309072,  0.21818858,\n             -0.7418177 , -0.3757505 ],\n            [-0.36987734, -0.1525535 , -0.9605439 , -0.5751731 ,\n              0.16058639, -0.04450065,  0.35853097,  0.8495273 ,\n             -0.04865616, -0.07015149],\n            [ 0.05044068, -0.0668437 , -0.2220952 ,  0.29612228,\n              0.43300593, -0.11969329,  0.52359056, -0.17856863,\n              0.79131824, -0.00867583],\n            [ 0.4183449 , -0.8754566 , -0.00929308,  0.43742397,\n              0.09009785,  0.13509516, -0.16091733,  0.05400983,\n             -0.11698364,  0.44246414],\n            [ 0.02241075, -0.5351497 , -0.30809754, -0.19754323,\n              0.67606175, -0.22208115, -0.23633745, -0.07864351,\n             -0.2296841 ,  0.6503488 ]]],\n   \n   \n          [[[-0.33905208, -0.38618836, -0.373043  , -0.6750955 ,\n             -0.04943018,  0.30635485, -0.08309072,  0.21758857,\n             -0.7418177 , -0.3757505 ],\n            [-0.36987734, -0.1525535 , -0.9605439 , -0.5751731 ,\n              0.16058639, -0.04390065,  0.35853097,  0.8489273 ,\n             -0.04865616, -0.07015149],\n            [ 0.05044068, -0.0668437 , -0.2220952 ,  0.29612228,\n              0.43300593, -0.11969329,  0.52359056, -0.17856863,\n              0.79131824, -0.00867583],\n            [ 0.4183449 , -0.8754566 , -0.00929308,  0.43742397,\n              0.09009785,  0.13509516, -0.16091733,  0.05400983,\n             -0.11698364,  0.44246414],\n            [ 0.02241075, -0.5351497 , -0.30809754, -0.19754323,\n              0.67606175, -0.22208115, -0.23633745, -0.07864351,\n             -0.2296841 ,  0.6503488 ]]],\n   \n   \n          [[[-0.33935207, -0.38618836, -0.372743  , -0.6750955 ,\n             -0.04943018,  0.30635485, -0.08309072,  0.21788858,\n             -0.7418177 , -0.37545052],\n            [-0.36957735, -0.1525535 , -0.96084386, -0.5751731 ,\n              0.16058639, -0.04450065,  0.35853097,  0.8492273 ,\n             -0.04865616, -0.07045149],\n            [ 0.05074068, -0.0668437 , -0.22239521,  0.29612228,\n              0.43300593, -0.12029329,  0.52359056, -0.17826863,\n              0.79131824, -0.00897583],\n            [ 0.4180449 , -0.8754566 , -0.00899309,  0.43742397,\n              0.09009785,  0.13509516, -0.16091733,  0.05430983,\n             -0.11698364,  0.44276413],\n            [ 0.02211075, -0.5351497 , -0.30779755, -0.19754323,\n              0.67606175, -0.22148114, -0.23633745, -0.07894351,\n             -0.2296841 ,  0.6506488 ]]],\n   \n   \n          [[[-0.33935207, -0.38618836, -0.372743  , -0.6753955 ,\n             -0.04943018,  0.30635485, -0.08309072,  0.21788858,\n             -0.7418177 , -0.37545052],\n            [-0.36957735, -0.1525535 , -0.96084386, -0.5748731 ,\n              0.16058639, -0.04450065,  0.35853097,  0.8492273 ,\n             -0.04865616, -0.07045149],\n            [ 0.05074068, -0.0668437 , -0.22239521,  0.29642227,\n              0.43300593, -0.12029329,  0.52359056, -0.17826863,\n              0.79131824, -0.00897583],\n            [ 0.4180449 , -0.8754566 , -0.00899309,  0.43712398,\n              0.09009785,  0.13509516, -0.16091733,  0.05430983,\n             -0.11698364,  0.44276413],\n            [ 0.02271075, -0.5351497 , -0.30839753, -0.19724324,\n              0.67606175, -0.22208115, -0.23633745, -0.07894351,\n             -0.2296841 ,  0.6500488 ]]]], dtype=float32)},\n  'W2': {'bias': Array([[[ 0.0003]],\n   \n          [[ 0.0003]],\n   \n          [[-0.0003]],\n   \n          [[-0.0003]],\n   \n          [[ 0.0003]],\n   \n          [[-0.0003]],\n   \n          [[-0.0003]],\n   \n          [[-0.0003]]], dtype=float32),\n   'kernel': Array([[[[ 0.41839993],\n            [ 0.56046796],\n            [-0.19288756],\n            [ 0.00099881],\n            [-0.23087548],\n            [-0.36563426],\n            [ 0.31646842],\n            [ 0.18014184],\n            [-0.08712228],\n            [-0.5813695 ]]],\n   \n   \n          [[[ 0.41809994],\n            [ 0.56076795],\n            [-0.19288756],\n            [ 0.00099881],\n            [-0.23087548],\n            [-0.36563426],\n            [ 0.3167684 ],\n            [ 0.18014184],\n            [-0.08682229],\n            [-0.5816695 ]]],\n   \n   \n          [[[ 0.41809994],\n            [ 0.56046796],\n            [-0.19288756],\n            [ 0.00099881],\n            [-0.23147549],\n            [-0.36563426],\n            [ 0.31616843],\n            [ 0.17954183],\n            [-0.08742228],\n            [-0.5816695 ]]],\n   \n   \n          [[[ 0.41809994],\n            [ 0.56046796],\n            [-0.19288756],\n            [ 0.00099881],\n            [-0.23117548],\n            [-0.36593425],\n            [ 0.31646842],\n            [ 0.17954183],\n            [-0.08712228],\n            [-0.5816695 ]]],\n   \n   \n          [[[ 0.41809994],\n            [ 0.56046796],\n            [-0.19288756],\n            [ 0.00099881],\n            [-0.23117548],\n            [-0.36533427],\n            [ 0.31646842],\n            [ 0.18014184],\n            [-0.08712228],\n            [-0.5816695 ]]],\n   \n   \n          [[[ 0.41809994],\n            [ 0.56046796],\n            [-0.19288756],\n            [ 0.00099881],\n            [-0.23117548],\n            [-0.36593425],\n            [ 0.31646842],\n            [ 0.17954183],\n            [-0.08712228],\n            [-0.5816695 ]]],\n   \n   \n          [[[ 0.41779995],\n            [ 0.56046796],\n            [-0.19318756],\n            [ 0.00099881],\n            [-0.23117548],\n            [-0.36593425],\n            [ 0.31646842],\n            [ 0.17984183],\n            [-0.08712228],\n            [-0.5819695 ]]],\n   \n   \n          [[[ 0.41779995],\n            [ 0.56046796],\n            [-0.19318756],\n            [ 0.00069881],\n            [-0.23117548],\n            [-0.36593425],\n            [ 0.31646842],\n            [ 0.17984183],\n            [-0.08712228],\n            [-0.5819695 ]]]], dtype=float32)}}}"
     },
     "execution_count": 33,
     "metadata": {},
     "output_type": "execute_result"
    }
   ],
   "source": [
    "params = optax.apply_updates(params, updates)\n",
    "params"
   ],
   "metadata": {
    "collapsed": false,
    "ExecuteTime": {
     "end_time": "2023-09-15T18:32:47.085542348Z",
     "start_time": "2023-09-15T18:32:47.041024412Z"
    }
   },
   "id": "7ea2afd371a7e722"
  },
  {
   "cell_type": "code",
   "execution_count": 34,
   "outputs": [
    {
     "data": {
      "text/plain": "{'params': {'W1': {'bias': Array(-5.321797, dtype=float32),\n   'kernel': Array([-0.7296927 , -0.05353004, -0.1413371 ,  0.00319662, -0.3916064 ,\n          -1.7406904 ,  1.3203006 ,  1.0290506 , -0.36347264,  1.0151641 ],      dtype=float32)},\n  'W2': {'bias': Array(7.949466, dtype=float32),\n   'kernel': Array([14.629423], dtype=float32)}}}"
     },
     "execution_count": 34,
     "metadata": {},
     "output_type": "execute_result"
    }
   ],
   "source": [
    "gradients"
   ],
   "metadata": {
    "collapsed": false,
    "ExecuteTime": {
     "end_time": "2023-09-15T18:32:47.085748719Z",
     "start_time": "2023-09-15T18:32:47.082602926Z"
    }
   },
   "id": "173ea93b0c44ba15"
  },
  {
   "cell_type": "code",
   "execution_count": 35,
   "outputs": [],
   "source": [
    "model2 = JaxNet()\n",
    "params2 = model.init(random.PRNGKey(42), x[0])\n",
    "\n",
    "optimizer_def = optax.adam(learning_rate=1e-3)\n",
    "optimizer = optimizer_def.init(params2)\n",
    "\n",
    "def loss_fn(params2, x, y):\n",
    "    preds = model.apply(params2, x)\n",
    "    loss = jnp.mean((preds - y)**2)\n",
    "    return loss\n",
    "\n",
    "grad_fn = jax.jit(jax.grad(loss_fn))\n",
    "\n",
    "grads = grad_fn(params2, x, y)"
   ],
   "metadata": {
    "collapsed": false,
    "ExecuteTime": {
     "end_time": "2023-09-15T18:32:47.137880920Z",
     "start_time": "2023-09-15T18:32:47.085954045Z"
    }
   },
   "id": "4fa31b15f7026883"
  },
  {
   "cell_type": "code",
   "execution_count": 36,
   "outputs": [
    {
     "data": {
      "text/plain": "{'params': {'W1': {'bias': Array([ 0.32835847, -0.00656184, -0.18990612,  0.00065913,  0.0158582 ,\n          -0.3884065 ,  0.04132641,  0.0016438 , -0.01137697, -0.45681924],      dtype=float32),\n   'kernel': Array([[ 3.25176507e-01,  9.02128522e-04, -1.52221411e-01,\n            3.59859027e-04, -3.63957956e-02, -3.88265491e-01,\n            5.34393154e-02,  7.73611218e-02, -1.47115951e-02,\n           -4.52392459e-01],\n          [-3.29341173e-01, -4.55594389e-03,  1.38362929e-01,\n           -2.10456201e-04,  1.31507935e-02,  2.64409125e-01,\n            4.27177083e-03, -1.12786386e-02, -1.17599871e-03,\n            4.58186418e-01],\n          [-2.92675406e-01, -4.65021748e-03,  1.36488110e-01,\n           -1.96029345e-04, -6.05238229e-02,  2.35373229e-01,\n            8.04518089e-02,  5.85698113e-02, -2.21480075e-02,\n            4.07176226e-01],\n          [ 2.68808454e-01,  2.97672022e-03, -1.51478976e-01,\n            7.33235036e-04,  3.22636627e-02, -3.94895792e-01,\n            8.95771838e-04,  2.79012639e-02, -2.46601820e-04,\n           -3.73971999e-01],\n          [-6.31799772e-02, -1.36393774e-03,  1.11821946e-02,\n           -2.87030562e-04,  2.55437661e-03,  6.57926947e-02,\n            2.59789005e-02, -2.39222366e-02, -7.15187052e-03,\n            8.78973231e-02]], dtype=float32)},\n  'W2': {'bias': Array([0.99368334], dtype=float32),\n   'kernel': Array([[ 0.25792888],\n          [-0.00217427],\n          [ 0.56234527],\n          [ 0.19773208],\n          [ 0.0764029 ],\n          [ 0.6196969 ],\n          [ 0.10405818],\n          [ 0.00133801],\n          [ 0.05605986],\n          [-0.04470985]], dtype=float32)}}}"
     },
     "execution_count": 36,
     "metadata": {},
     "output_type": "execute_result"
    }
   ],
   "source": [
    "grads"
   ],
   "metadata": {
    "collapsed": false,
    "ExecuteTime": {
     "end_time": "2023-09-15T18:32:47.180487767Z",
     "start_time": "2023-09-15T18:32:47.139334906Z"
    }
   },
   "id": "8d05cb2f94d9d929"
  },
  {
   "cell_type": "code",
   "execution_count": 37,
   "outputs": [
    {
     "ename": "AttributeError",
     "evalue": "'tuple' object has no attribute 'update'",
     "output_type": "error",
     "traceback": [
      "\u001B[0;31m---------------------------------------------------------------------------\u001B[0m",
      "\u001B[0;31mAttributeError\u001B[0m                            Traceback (most recent call last)",
      "Cell \u001B[0;32mIn[37], line 1\u001B[0m\n\u001B[0;32m----> 1\u001B[0m updates, optimizer_state \u001B[38;5;241m=\u001B[39m \u001B[43moptimizer\u001B[49m\u001B[38;5;241;43m.\u001B[39;49m\u001B[43mupdate\u001B[49m(grads, optimizer\u001B[38;5;241m.\u001B[39mstate)\n\u001B[1;32m      2\u001B[0m updates\n",
      "\u001B[0;31mAttributeError\u001B[0m: 'tuple' object has no attribute 'update'"
     ]
    }
   ],
   "source": [
    "updates, optimizer_state = optimizer.update(grads, optimizer.state)\n",
    "updates"
   ],
   "metadata": {
    "collapsed": false,
    "ExecuteTime": {
     "end_time": "2023-09-15T18:32:47.297502009Z",
     "start_time": "2023-09-15T18:32:47.180344759Z"
    }
   },
   "id": "ca6d60a2a4d376a2"
  },
  {
   "cell_type": "code",
   "execution_count": null,
   "outputs": [],
   "source": [
    "gradients[\"params\"][\"W2\"][\"kernel\"] == params2[\"params\"][\"W2\"][\"kernel\"]"
   ],
   "metadata": {
    "collapsed": false,
    "ExecuteTime": {
     "end_time": "2023-09-15T18:32:47.340899867Z",
     "start_time": "2023-09-15T18:32:47.298207922Z"
    }
   },
   "id": "9579ed4301d784b3"
  }
 ],
 "metadata": {
  "kernelspec": {
   "display_name": "Python 3",
   "language": "python",
   "name": "python3"
  },
  "language_info": {
   "codemirror_mode": {
    "name": "ipython",
    "version": 2
   },
   "file_extension": ".py",
   "mimetype": "text/x-python",
   "name": "python",
   "nbconvert_exporter": "python",
   "pygments_lexer": "ipython2",
   "version": "2.7.6"
  }
 },
 "nbformat": 4,
 "nbformat_minor": 5
}
