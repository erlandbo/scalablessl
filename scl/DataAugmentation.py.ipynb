{
 "cells": [
  {
   "cell_type": "code",
   "execution_count": 1,
   "metadata": {
    "collapsed": true,
    "ExecuteTime": {
     "end_time": "2023-10-23T18:53:10.857079953Z",
     "start_time": "2023-10-23T18:53:09.520973017Z"
    }
   },
   "outputs": [],
   "source": [
    "from utils import load_imagedataset\n",
    "import torch\n",
    "from torch.utils.data import DataLoader\n",
    "import matplotlib.pyplot as plt\n",
    "from torch.utils.data import Dataset\n",
    "from torchvision import transforms"
   ]
  },
  {
   "cell_type": "code",
   "execution_count": 2,
   "outputs": [],
   "source": [
    "def plot_batch_imgs(imgs):\n",
    "    fig, ax = plt.subplots(1,8, figsize=(50, 50))\n",
    "    for i, img in enumerate(imgs):\n",
    "        if img.shape[0] == 1:\n",
    "            ax[i].imshow(img.permute(1,2,0), cmap=\"gray\")\n",
    "        else:\n",
    "            ax[i].imshow(img.permute(1,2,0))\n",
    "    fig.show()\n",
    "\n",
    "def plot_slc_imgs(imgs, labels, mu, sigma):\n",
    "    # x_i, xhat_j, x_j = imgs\n",
    "    num_imgs = imgs[0].shape[0]\n",
    "    batch_len = len(imgs)\n",
    "    fig, ax = plt.subplots(batch_len, num_imgs, figsize=(20, 20))\n",
    "    for k in range(batch_len):\n",
    "        for l, img in enumerate(imgs[k]):\n",
    "            img = img * torch.tensor(sigma)[:, None, None] + torch.tensor(mu)[:, None, None]\n",
    "            if img.shape[0] == 1:\n",
    "                ax[k, l].imshow(img.permute(1,2,0), cmap=\"gray\")\n",
    "            else:\n",
    "                ax[k, l].imshow(img.permute(1,2,0))\n",
    "            if labels is not None:\n",
    "                ax[k,l].set_title(labels[k][l].item())\n",
    "    #fig.subplots_adjust(hspace=-0.5, vspace=-2)\n",
    "    fig.subplots_adjust(hspace=-0.9)\n",
    "    fig.tight_layout()\n",
    "    fig.show()\n"
   ],
   "metadata": {
    "collapsed": false,
    "ExecuteTime": {
     "end_time": "2023-10-23T18:53:10.897550443Z",
     "start_time": "2023-10-23T18:53:10.897161915Z"
    }
   }
  },
  {
   "cell_type": "code",
   "execution_count": 3,
   "outputs": [],
   "source": [
    "class SCLDataset(Dataset):\n",
    "    def __init__(self, basedataset, train_transform, eval_transform):\n",
    "        self.basedataset = basedataset\n",
    "        self.train_transform = train_transform\n",
    "        self.eval_transform = eval_transform\n",
    "\n",
    "    def __getitem__(self, item):\n",
    "        x_i_orig, y_i = self.basedataset[item]  # uniform [1,...,N]\n",
    "        x_i = self.train_transform(x_i_orig)\n",
    "        xhat_i = self.train_transform(x_i_orig)\n",
    "        j = torch.randint(low=0, high=len(self.basedataset), size=(1,)).item()\n",
    "        x_j_orig, y_j = self.basedataset[j]  # uniform [1,...,N]^2\n",
    "        x_j = self.train_transform(x_j_orig)\n",
    "        return x_i, xhat_i, x_j, y_i, y_j, self.eval_transform(x_i_orig), self.eval_transform(x_j_orig)\n",
    "\n",
    "    def __len__(self):\n",
    "        return len(self.basedataset)"
   ],
   "metadata": {
    "collapsed": false,
    "ExecuteTime": {
     "end_time": "2023-10-23T18:53:10.897855881Z",
     "start_time": "2023-10-23T18:53:10.897404464Z"
    }
   }
  },
  {
   "cell_type": "code",
   "execution_count": 4,
   "outputs": [],
   "source": [
    "class SCLTrainTransform():\n",
    "    # augmentations as described in SimCLR paper\n",
    "    def __init__(self, imgsize, mean, std, s=0.5, gaus_blur=False, num_views=2, p_flip=0.5):\n",
    "        self.num_views = num_views\n",
    "        color_jitter = transforms.ColorJitter(\n",
    "            brightness=0.8*s,\n",
    "            contrast=0.8*s,\n",
    "            saturation=0.8*s,\n",
    "            hue=0.2*s\n",
    "        )\n",
    "        transform = [\n",
    "            transforms.RandomResizedCrop(size=imgsize),  #, scale=(0.14, 1)),\n",
    "            transforms.RandomHorizontalFlip(p=p_flip),\n",
    "            transforms.RandomApply([color_jitter], p=0.8),\n",
    "            transforms.RandomGrayscale(p=0.2)\n",
    "        ]\n",
    "        if gaus_blur:\n",
    "            transform.append(transforms.GaussianBlur(kernel_size=int(imgsize*0.1), sigma=(0.1, 2.0)))\n",
    "        transform.append(transforms.ToTensor())\n",
    "        transform.append(transforms.Normalize(mean, std))\n",
    "        self.transform = transforms.Compose(transform)\n",
    "\n",
    "    def __call__(self, x):\n",
    "        return [self.transform(x) for _ in range(self.num_views)] if self.num_views > 1 else self.transform(x)\n",
    "\n",
    "\n",
    "class SCLMnistTrainTransform():\n",
    "    def __init__(self, imgsize, mean, std, s=0.5, gaus_blur=False, num_views=2, p_flip=0.0):\n",
    "        self.num_views = num_views\n",
    "        color_jitter = transforms.ColorJitter(\n",
    "            brightness=0.8*s,\n",
    "            contrast=0.8*s,\n",
    "            saturation=0.8*s,\n",
    "            hue=0.2*s\n",
    "        )\n",
    "        \n",
    "        transform = [\n",
    "            #transforms.RandomAffine(degrees=20, translate=(0.1, 0.1), scale=(0.9, 1.1)),\n",
    "            transforms.RandomAffine(degrees=20, translate=(0.2, 0.2), scale=(0.8, 1.1)),\n",
    "            transforms.Resize(size=imgsize),  #, scale=(0.14, 1)),\n",
    "            #transforms.CenterCrop(size=imgsize),  #, scale=(0.14, 1)),\n",
    "            transforms.RandomHorizontalFlip(p=p_flip),\n",
    "            transforms.RandomApply([color_jitter], p=0.8),\n",
    "            transforms.RandomGrayscale(p=0.2),\n",
    "        ]\n",
    "        if gaus_blur:\n",
    "            transform.append(transforms.GaussianBlur(kernel_size=int(imgsize*0.1), sigma=(0.1, 2.0)))\n",
    "        transform.append(transforms.ToTensor())\n",
    "        transform.append(transforms.Normalize(mean, std))\n",
    "        self.transform = transforms.Compose(transform)\n",
    "\n",
    "    def __call__(self, x):\n",
    "        return [self.transform(x) for _ in range(self.num_views)] if self.num_views > 1 else self.transform(x)\n",
    "\n",
    "\n",
    "class SCLEvalTransform():\n",
    "    def __init__(self, mean, std, imgsize, num_views=2):\n",
    "        self.num_views = num_views\n",
    "        transform = [\n",
    "            transforms.Resize(imgsize),\n",
    "            transforms.ToTensor(),\n",
    "            transforms.Normalize(mean, std)\n",
    "        ]\n",
    "        self.transform = transforms.Compose(transform)\n",
    "\n",
    "    def __call__(self, x):\n",
    "        return [self.transform(x) for _ in range(self.num_views)] if self.num_views > 1 else self.transform(x)\n"
   ],
   "metadata": {
    "collapsed": false,
    "ExecuteTime": {
     "end_time": "2023-10-23T18:53:10.898934078Z",
     "start_time": "2023-10-23T18:53:10.897652108Z"
    }
   }
  },
  {
   "cell_type": "markdown",
   "source": [
    "# CIFAR-10"
   ],
   "metadata": {
    "collapsed": false
   }
  },
  {
   "cell_type": "code",
   "execution_count": 6,
   "outputs": [
    {
     "name": "stdout",
     "output_type": "stream",
     "text": [
      "Files already downloaded and verified\n",
      "Files already downloaded and verified\n"
     ]
    },
    {
     "ename": "ValueError",
     "evalue": "too many values to unpack (expected 6)",
     "output_type": "error",
     "traceback": [
      "\u001B[0;31m---------------------------------------------------------------------------\u001B[0m",
      "\u001B[0;31mValueError\u001B[0m                                Traceback (most recent call last)",
      "Cell \u001B[0;32mIn[6], line 2\u001B[0m\n\u001B[1;32m      1\u001B[0m datasetname \u001B[38;5;241m=\u001B[39m \u001B[38;5;124m\"\u001B[39m\u001B[38;5;124mcifar10\u001B[39m\u001B[38;5;124m\"\u001B[39m\n\u001B[0;32m----> 2\u001B[0m traindataset, valdataset, testdataset, mean, std, num_classes \u001B[38;5;241m=\u001B[39m load_imagedataset(datasetname, val_split\u001B[38;5;241m=\u001B[39m\u001B[38;5;241m0.1\u001B[39m)\n\u001B[1;32m      4\u001B[0m imgsize \u001B[38;5;241m=\u001B[39m \u001B[38;5;241m32\u001B[39m\n\u001B[1;32m      5\u001B[0m s \u001B[38;5;241m=\u001B[39m \u001B[38;5;241m0.5\u001B[39m\n",
      "\u001B[0;31mValueError\u001B[0m: too many values to unpack (expected 6)"
     ]
    }
   ],
   "source": [
    "datasetname = \"cifar10\"\n",
    "traindataset, valdataset, testdataset, mean, std, num_classes = load_imagedataset(datasetname, val_split=0.1)\n",
    "\n",
    "imgsize = 32\n",
    "s = 0.5\n",
    "gaus_blur = True\n",
    "num_views = 1\n",
    "p_flip = 0.5\n",
    "\n",
    "dataloader = DataLoader(\n",
    "    dataset=SCLDataset(\n",
    "        traindataset, \n",
    "        train_transform=SCLTrainTransform(\n",
    "            imgsize=imgsize,\n",
    "            mean=mean,\n",
    "            std=std,\n",
    "            s=s,\n",
    "            gaus_blur=gaus_blur,\n",
    "            num_views=num_views,\n",
    "            p_flip=p_flip\n",
    "        ),\n",
    "        eval_transform=SCLEvalTransform(\n",
    "            imgsize=imgsize,\n",
    "            mean=mean,\n",
    "            std=std,\n",
    "            num_views=num_views,\n",
    "        )\n",
    "    ), \n",
    "    batch_size=8, \n",
    "    shuffle=False\n",
    ")\n",
    "\n",
    "x_i, xhat_i, x_j, y_i, y_j, x_i_orig, x_j_orig = next(iter(dataloader))"
   ],
   "metadata": {
    "collapsed": false,
    "ExecuteTime": {
     "end_time": "2023-10-23T18:55:25.786318602Z",
     "start_time": "2023-10-23T18:55:24.521887063Z"
    }
   }
  },
  {
   "cell_type": "code",
   "execution_count": null,
   "outputs": [],
   "source": [
    "aug_imgs = x_i, xhat_i, x_j\n",
    "labels = [y_i, y_i, y_j]\n",
    "plot_slc_imgs(aug_imgs, labels, mean, std)"
   ],
   "metadata": {
    "collapsed": false,
    "ExecuteTime": {
     "end_time": "2023-10-23T18:53:12.248905495Z",
     "start_time": "2023-10-23T18:53:12.248380513Z"
    }
   }
  },
  {
   "cell_type": "code",
   "execution_count": null,
   "outputs": [],
   "source": [
    "aug_imgs = x_i, xhat_i, x_j\n",
    "labels = [y_i, y_i, y_j]\n",
    "plot_slc_imgs(aug_imgs, labels, mean, std)"
   ],
   "metadata": {
    "collapsed": false,
    "ExecuteTime": {
     "end_time": "2023-10-23T18:53:12.249453438Z",
     "start_time": "2023-10-23T18:53:12.249399986Z"
    }
   }
  },
  {
   "cell_type": "code",
   "execution_count": null,
   "outputs": [],
   "source": [
    "orig_imgs = x_i_orig, x_j_orig\n",
    "labels = [y_i, y_j]\n",
    "plot_slc_imgs(orig_imgs, labels, mean, std)"
   ],
   "metadata": {
    "collapsed": false,
    "ExecuteTime": {
     "end_time": "2023-10-23T18:53:12.250440748Z",
     "start_time": "2023-10-23T18:53:12.250394401Z"
    }
   }
  },
  {
   "cell_type": "markdown",
   "source": [
    "# MNIST"
   ],
   "metadata": {
    "collapsed": false
   }
  },
  {
   "cell_type": "code",
   "execution_count": null,
   "outputs": [],
   "source": [
    "datasetname = \"mnist\"\n",
    "traindataset, valdataset, testdataset, mean, std, num_classes = load_imagedataset(datasetname, val_split=0.1)\n",
    "\n",
    "imgsize = 32\n",
    "s = 0.5\n",
    "gaus_blur = True\n",
    "num_views = 1\n",
    "p_flip = 0.0\n",
    "\n",
    "dataloader = DataLoader(\n",
    "    dataset=SCLDataset(\n",
    "        traindataset,\n",
    "        train_transform=SCLMnistTrainTransform(\n",
    "            imgsize=imgsize,\n",
    "            mean=mean,\n",
    "            std=std,\n",
    "            s=s,\n",
    "            gaus_blur=gaus_blur,\n",
    "            num_views=num_views,\n",
    "            p_flip=p_flip\n",
    "        ),\n",
    "        eval_transform=SCLEvalTransform(\n",
    "            imgsize=imgsize,\n",
    "            mean=mean,\n",
    "            std=std,\n",
    "            num_views=num_views,\n",
    "        )\n",
    "    ),\n",
    "    batch_size=8,\n",
    "    shuffle=False\n",
    ")\n",
    "\n",
    "x_i, xhat_i, x_j, y_i, y_j, x_i_orig, x_j_orig = next(iter(dataloader))"
   ],
   "metadata": {
    "collapsed": false,
    "ExecuteTime": {
     "end_time": "2023-10-23T18:53:12.251481198Z",
     "start_time": "2023-10-23T18:53:12.251435121Z"
    }
   }
  },
  {
   "cell_type": "code",
   "execution_count": null,
   "outputs": [],
   "source": [
    "aug_imgs = x_i, xhat_i, x_j\n",
    "labels = [y_i, y_i, y_j]\n",
    "plot_slc_imgs(aug_imgs, labels, mean, std)"
   ],
   "metadata": {
    "collapsed": false,
    "ExecuteTime": {
     "start_time": "2023-10-23T18:53:12.297677268Z"
    }
   }
  },
  {
   "cell_type": "code",
   "execution_count": null,
   "outputs": [],
   "source": [
    "orig_imgs = x_i_orig, x_j_orig\n",
    "labels = [y_i, y_j]\n",
    "plot_slc_imgs(orig_imgs, labels, mean, std)"
   ],
   "metadata": {
    "collapsed": false,
    "ExecuteTime": {
     "start_time": "2023-10-23T18:53:12.297918551Z"
    }
   }
  },
  {
   "cell_type": "code",
   "execution_count": null,
   "outputs": [],
   "source": [
    "datasetname = \"fashionmnist\"\n",
    "traindataset, valdataset, testdataset, mean, std, num_classes = load_imagedataset(datasetname, val_split=0.1)\n",
    "\n",
    "imgsize = 32\n",
    "s = 0.5\n",
    "gaus_blur = True\n",
    "num_views = 1\n",
    "p_flip = 0.5\n",
    "\n",
    "dataloader = DataLoader(\n",
    "    dataset=SCLDataset(\n",
    "        traindataset,\n",
    "        train_transform=SCLMnistTrainTransform(\n",
    "            imgsize=imgsize,\n",
    "            mean=mean,\n",
    "            std=std,\n",
    "            s=s,\n",
    "            gaus_blur=gaus_blur,\n",
    "            num_views=num_views,\n",
    "            p_flip=p_flip\n",
    "        ),\n",
    "        eval_transform=SCLEvalTransform(\n",
    "            imgsize=imgsize,\n",
    "            mean=mean,\n",
    "            std=std,\n",
    "            num_views=num_views,\n",
    "        )\n",
    "    ),\n",
    "    batch_size=8,\n",
    "    shuffle=False\n",
    ")\n",
    "\n",
    "x_i, xhat_i, x_j, y_i, y_j, x_i_orig, x_j_orig = next(iter(dataloader))"
   ],
   "metadata": {
    "collapsed": false,
    "ExecuteTime": {
     "start_time": "2023-10-23T18:53:12.298119496Z"
    }
   }
  },
  {
   "cell_type": "code",
   "execution_count": null,
   "outputs": [],
   "source": [
    "aug_imgs = x_i, xhat_i, x_j\n",
    "labels = [y_i, y_i, y_j]\n",
    "plot_slc_imgs(aug_imgs, labels, mean, std)"
   ],
   "metadata": {
    "collapsed": false,
    "ExecuteTime": {
     "start_time": "2023-10-23T18:53:12.298299994Z"
    }
   }
  },
  {
   "cell_type": "code",
   "execution_count": null,
   "outputs": [],
   "source": [
    "orig_imgs = x_i_orig, x_j_orig\n",
    "labels = [y_i, y_j]\n",
    "plot_slc_imgs(orig_imgs, labels, mean, std)"
   ],
   "metadata": {
    "collapsed": false,
    "ExecuteTime": {
     "end_time": "2023-10-23T18:53:12.306136561Z",
     "start_time": "2023-10-23T18:53:12.298489055Z"
    }
   }
  },
  {
   "cell_type": "code",
   "execution_count": null,
   "outputs": [],
   "source": [
    "datasetname = \"svhn\"\n",
    "traindataset, valdataset, testdataset, mean, std, num_classes = load_imagedataset(datasetname, val_split=0.1)\n",
    "\n",
    "imgsize = 32\n",
    "s = 0.5\n",
    "gaus_blur = True\n",
    "num_views = 1\n",
    "p_flip = 0.0\n",
    "\n",
    "dataloader = DataLoader(\n",
    "    dataset=SCLDataset(\n",
    "        traindataset,\n",
    "        train_transform=SCLMnistTrainTransform(\n",
    "            imgsize=imgsize,\n",
    "            mean=mean,\n",
    "            std=std,\n",
    "            s=s,\n",
    "            gaus_blur=gaus_blur,\n",
    "            num_views=num_views,\n",
    "            p_flip=p_flip\n",
    "        ),\n",
    "        eval_transform=SCLEvalTransform(\n",
    "            imgsize=imgsize,\n",
    "            mean=mean,\n",
    "            std=std,\n",
    "            num_views=num_views,\n",
    "        )\n",
    "    ),\n",
    "    batch_size=8,\n",
    "    shuffle=False\n",
    ")\n",
    "\n",
    "x_i, xhat_i, x_j, y_i, y_j, x_i_orig, x_j_orig = next(iter(dataloader))"
   ],
   "metadata": {
    "collapsed": false,
    "ExecuteTime": {
     "start_time": "2023-10-23T18:53:12.298675579Z"
    }
   }
  },
  {
   "cell_type": "code",
   "execution_count": null,
   "outputs": [],
   "source": [
    "y_i"
   ],
   "metadata": {
    "collapsed": false,
    "ExecuteTime": {
     "start_time": "2023-10-23T18:53:12.299737703Z"
    }
   }
  },
  {
   "cell_type": "code",
   "execution_count": null,
   "outputs": [],
   "source": [
    "aug_imgs = x_i, xhat_i, x_j\n",
    "labels = [y_i, y_i, y_j]\n",
    "plot_slc_imgs(aug_imgs, labels, mean, std)"
   ],
   "metadata": {
    "collapsed": false,
    "ExecuteTime": {
     "start_time": "2023-10-23T18:53:12.299874217Z"
    }
   }
  },
  {
   "cell_type": "code",
   "execution_count": null,
   "outputs": [],
   "source": [
    "orig_imgs = x_i_orig, x_j_orig\n",
    "labels = [y_i, y_j]\n",
    "plot_slc_imgs(orig_imgs, labels, mean, std)"
   ],
   "metadata": {
    "collapsed": false,
    "ExecuteTime": {
     "start_time": "2023-10-23T18:53:12.300051061Z"
    }
   }
  },
  {
   "cell_type": "code",
   "execution_count": null,
   "outputs": [],
   "source": [
    "datasetname = \"celeba\"\n",
    "traindataset, valdataset, testdataset, mean, std, num_classes = load_imagedataset(datasetname, val_split=0.1)\n",
    "\n",
    "imgsize = 32\n",
    "s = 0.5\n",
    "gaus_blur = True\n",
    "num_views = 1\n",
    "p_flip = 0.5\n",
    "\n",
    "dataloader = DataLoader(\n",
    "    dataset=SCLDataset(\n",
    "        traindataset,\n",
    "        train_transform=SCLTrainTransform(\n",
    "            imgsize=imgsize,\n",
    "            mean=mean,\n",
    "            std=std,\n",
    "            s=s,\n",
    "            gaus_blur=gaus_blur,\n",
    "            num_views=num_views,\n",
    "            p_flip=p_flip\n",
    "        ),\n",
    "        eval_transform=SCLEvalTransform(\n",
    "            imgsize=imgsize,\n",
    "            mean=mean,\n",
    "            std=std,\n",
    "            num_views=num_views,\n",
    "        )\n",
    "    ),\n",
    "    batch_size=8,\n",
    "    shuffle=False\n",
    ")\n",
    "\n",
    "x_i, xhat_i, x_j, y_i, y_j, x_i_orig, x_j_orig = next(iter(dataloader))"
   ],
   "metadata": {
    "collapsed": false,
    "ExecuteTime": {
     "start_time": "2023-10-23T18:53:12.300191800Z"
    }
   }
  },
  {
   "cell_type": "code",
   "execution_count": null,
   "outputs": [],
   "source": [
    "y_i"
   ],
   "metadata": {
    "collapsed": false,
    "ExecuteTime": {
     "start_time": "2023-10-23T18:53:12.300346218Z"
    }
   }
  },
  {
   "cell_type": "code",
   "execution_count": null,
   "outputs": [],
   "source": [
    "aug_imgs = x_i, xhat_i, x_j\n",
    "labels = None # [y_i, y_i, y_j]\n",
    "plot_slc_imgs(aug_imgs, labels, mean, std)"
   ],
   "metadata": {
    "collapsed": false,
    "ExecuteTime": {
     "start_time": "2023-10-23T18:53:12.300518517Z"
    }
   }
  },
  {
   "cell_type": "code",
   "execution_count": null,
   "outputs": [],
   "source": [
    "orig_imgs = x_i_orig, x_j_orig\n",
    "labels = None # [y_i, y_j]\n",
    "plot_slc_imgs(orig_imgs, labels, mean, std)"
   ],
   "metadata": {
    "collapsed": false,
    "ExecuteTime": {
     "start_time": "2023-10-23T18:53:12.300650042Z"
    }
   }
  },
  {
   "cell_type": "code",
   "execution_count": null,
   "outputs": [],
   "source": [
    "datasetname = \"stl10\"\n",
    "traindataset, valdataset, testdataset, mean, std, num_classes = load_imagedataset(datasetname, val_split=0.1)\n",
    "\n",
    "imgsize = 32\n",
    "s = 0.5\n",
    "gaus_blur = True\n",
    "num_views = 1\n",
    "p_flip = 0.0\n",
    "\n",
    "dataloader = DataLoader(\n",
    "    dataset=SCLDataset(\n",
    "        traindataset,\n",
    "        train_transform=SCLTrainTransform(\n",
    "            imgsize=imgsize,\n",
    "            mean=mean,\n",
    "            std=std,\n",
    "            s=s,\n",
    "            gaus_blur=gaus_blur,\n",
    "            num_views=num_views,\n",
    "            p_flip=p_flip\n",
    "        ),\n",
    "        eval_transform=SCLEvalTransform(\n",
    "            imgsize=imgsize,\n",
    "            mean=mean,\n",
    "            std=std,\n",
    "            num_views=num_views,\n",
    "        )\n",
    "    ),\n",
    "    batch_size=8,\n",
    "    shuffle=False\n",
    ")\n",
    "\n",
    "x_i, xhat_i, x_j, y_i, y_j, x_i_orig, x_j_orig = next(iter(dataloader))"
   ],
   "metadata": {
    "collapsed": false,
    "ExecuteTime": {
     "start_time": "2023-10-23T18:53:12.300778976Z"
    }
   }
  },
  {
   "cell_type": "code",
   "execution_count": null,
   "outputs": [],
   "source": [
    "y_j"
   ],
   "metadata": {
    "collapsed": false,
    "ExecuteTime": {
     "start_time": "2023-10-23T18:53:12.300907532Z"
    }
   }
  },
  {
   "cell_type": "code",
   "execution_count": null,
   "outputs": [],
   "source": [
    "aug_imgs = x_i, xhat_i, x_j\n",
    "labels = None # [y_i, y_i, y_j]\n",
    "plot_slc_imgs(aug_imgs, labels, mean, std)"
   ],
   "metadata": {
    "collapsed": false,
    "ExecuteTime": {
     "start_time": "2023-10-23T18:53:12.301061875Z"
    }
   }
  },
  {
   "cell_type": "code",
   "execution_count": null,
   "outputs": [],
   "source": [
    "orig_imgs = x_i_orig, x_j_orig\n",
    "labels = None # [y_i, y_j]\n",
    "plot_slc_imgs(orig_imgs, labels, mean, std)"
   ],
   "metadata": {
    "collapsed": false,
    "ExecuteTime": {
     "start_time": "2023-10-23T18:53:12.301192911Z"
    }
   }
  }
 ],
 "metadata": {
  "kernelspec": {
   "display_name": "Python 3",
   "language": "python",
   "name": "python3"
  },
  "language_info": {
   "codemirror_mode": {
    "name": "ipython",
    "version": 2
   },
   "file_extension": ".py",
   "mimetype": "text/x-python",
   "name": "python",
   "nbconvert_exporter": "python",
   "pygments_lexer": "ipython2",
   "version": "2.7.6"
  }
 },
 "nbformat": 4,
 "nbformat_minor": 0
}
